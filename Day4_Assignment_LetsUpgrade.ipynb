{
 "cells": [
  {
   "cell_type": "markdown",
   "metadata": {},
   "source": [
    "# DAY 4 - ASSIGNMENT (LETS UPGRADE FCS - PYTHON PROGRAMMING)\n",
    "\n",
    "> By SASIDHARAN SRINIVASAN\n",
    ">> DATED ON 09-04-2020"
   ]
  },
  {
   "cell_type": "raw",
   "metadata": {},
   "source": [
    "Question (Task:)\n",
    "Write a program to identify [1,1,5] in the given list in the same order \n",
    "\n",
    "if Yes, Print \"it's a March\"\n",
    "\n",
    "if No, Print \"It is a Gone\"\n",
    "\n",
    "Example:\n",
    "\n",
    "1. Listy=[1,5,6,4,1,2,3,5] - It is a Match\n",
    "2. Listy=[1,5,6,5,1,2,3,6] - It is Gone."
   ]
  },
  {
   "cell_type": "code",
   "execution_count": 1,
   "metadata": {},
   "outputs": [
    {
     "name": "stdout",
     "output_type": "stream",
     "text": [
      "Enter the list size : 5\n",
      "Enter number at location 0 :\n",
      "1\n",
      "Enter number at location 1 :\n",
      "2\n",
      "Enter number at location 2 :\n",
      "3\n",
      "Enter number at location 3 :\n",
      "4\n",
      "Enter number at location 4 :\n",
      "5\n",
      "User List is  [1, 2, 3, 4, 5]\n",
      "[1, 1, 5] []\n",
      "The Reference list is: [1, 2, 3, 4, 5]\n",
      "The sequence From the input is : [1]\n",
      "It is Gone\n"
     ]
    }
   ],
   "source": [
    "#program ti identify [1,1,5] pattern in the given list\n",
    "\n",
    "#Input_List = [1,5,6,4,1,2,3,5,1,2,5,4,1,5,1]\n",
    "#Input_List = [1,5,6,5,1,2,3,6]\n",
    "\n",
    "#Get a List input from the user:\n",
    "Input_List = []\n",
    "n = int(input(\"Enter the list size : \"))\n",
    "for s in range(0, n):\n",
    "    print(\"Enter number at location\", s, \":\")       \n",
    "    item = int(input())\n",
    "    Input_List.append(item)\n",
    "print(\"User List is \", Input_List)\n",
    "\n",
    "#Program Logic starts\n",
    "Ref_List = [1,1,5]\n",
    "int_Ref = Ref_List.copy()\n",
    "exlist=[]\n",
    "print(Ref_List,exlist)\n",
    "for i in Input_List:\n",
    "    for j in Ref_List:\n",
    "        if(i==j and len(Ref_List)>=0):\n",
    "            exlist.append(i)\n",
    "            Ref_List.pop(0)\n",
    "            break\n",
    "        else:\n",
    "            \n",
    "            break\n",
    "print('The Reference list is:',Input_List)\n",
    "print('The sequence From the input is :',exlist)\n",
    "\n",
    "if(int_Ref == exlist and len(Ref_List)==0):\n",
    "    print(\"It is a Match\")\n",
    "else:\n",
    "    print(\"It is Gone\")\n"
   ]
  }
 ],
 "metadata": {
  "kernelspec": {
   "display_name": "Python 3",
   "language": "python",
   "name": "python3"
  },
  "language_info": {
   "codemirror_mode": {
    "name": "ipython",
    "version": 3
   },
   "file_extension": ".py",
   "mimetype": "text/x-python",
   "name": "python",
   "nbconvert_exporter": "python",
   "pygments_lexer": "ipython3",
   "version": "3.7.6"
  }
 },
 "nbformat": 4,
 "nbformat_minor": 4
}
