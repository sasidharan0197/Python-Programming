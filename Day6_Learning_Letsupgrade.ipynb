{
 "cells": [
  {
   "cell_type": "code",
   "execution_count": 48,
   "metadata": {},
   "outputs": [],
   "source": [
    "#File Handling in Python\n",
    "\n",
    "f = open(\"Initial.txt\",'w')\n",
    "f.write(\"Hello Sasidharan .\\n\")\n",
    "f.write(\"How was your learning experience ?\\n\")\n",
    "f.write(\"It was Good to learn \\n\")\n",
    "f.close()\n"
   ]
  },
  {
   "cell_type": "code",
   "execution_count": 49,
   "metadata": {},
   "outputs": [
    {
     "name": "stdout",
     "output_type": "stream",
     "text": [
      "True\n",
      "Initial.txt\n",
      "w\n"
     ]
    }
   ],
   "source": [
    "#File object attributes\n",
    "print(f.closed)\n",
    "print(f.name)\n",
    "print(f.mode)"
   ]
  },
  {
   "cell_type": "code",
   "execution_count": 50,
   "metadata": {},
   "outputs": [],
   "source": [
    "f = open(\"Initial.txt\",'a')\n",
    "f.write(\"Hello Sasidharan Srinivasan .\\n\")\n",
    "f.write(\"How was your learning experience on today ?\\n\")\n",
    "f.write(\"IS It was Good to learn \\n\")\n",
    "f.close()"
   ]
  },
  {
   "cell_type": "code",
   "execution_count": 51,
   "metadata": {},
   "outputs": [
    {
     "name": "stdout",
     "output_type": "stream",
     "text": [
      "Hello Sasidharan .\n",
      "\n",
      "20\n",
      "How was your learning experience ?\n",
      "\n",
      "56\n"
     ]
    }
   ],
   "source": [
    "f=open(\"Initial.txt\",'r')\n",
    "print(f.readline())\n",
    "print(f.tell())\n",
    "print(f.readline())\n",
    "print(f.tell())\n",
    "f.close()"
   ]
  },
  {
   "cell_type": "code",
   "execution_count": 52,
   "metadata": {},
   "outputs": [
    {
     "name": "stdout",
     "output_type": "stream",
     "text": [
      "Hello Sasidharan .\n",
      "How was your learning experience ?\n",
      "It was Good to learn \n",
      "Hello Sasidharan Srinivasan .\n",
      "How was your learning experience on today ?\n",
      "IS It was Good to learn \n",
      "\n"
     ]
    }
   ],
   "source": [
    "f=open(\"Initial.txt\",'r')\n",
    "print(f.read())\n",
    "f.close()"
   ]
  },
  {
   "cell_type": "code",
   "execution_count": 53,
   "metadata": {},
   "outputs": [
    {
     "name": "stdout",
     "output_type": "stream",
     "text": [
      "['Hello Sasidharan .\\n', 'How was your learning experience ?\\n', 'It was Good to learn \\n', 'Hello Sasidharan Srinivasan .\\n', 'How was your learning experience on today ?\\n', 'IS It was Good to learn \\n']\n",
      "181\n"
     ]
    }
   ],
   "source": [
    "#Printing into list\n",
    "f=open(\"Initial.txt\",'r')\n",
    "print(f.readlines())\n",
    "print(f.tell())\n",
    "f.close()"
   ]
  },
  {
   "cell_type": "code",
   "execution_count": 2,
   "metadata": {},
   "outputs": [
    {
     "name": "stdout",
     "output_type": "stream",
     "text": [
      "File was renamed\n"
     ]
    }
   ],
   "source": [
    "import os\n",
    "os.rename(\"Initial.txt\",\"INITIAL_1.txt\")\n",
    "print(\"File was renamed\")"
   ]
  },
  {
   "cell_type": "code",
   "execution_count": 10,
   "metadata": {},
   "outputs": [
    {
     "name": "stdout",
     "output_type": "stream",
     "text": [
      "Enter the Input A:2\n",
      "Enter the Input B:3\n"
     ]
    }
   ],
   "source": [
    "A = int(input(\"Enter the Input A:\"))\n",
    "B = int(input(\"Enter the Input B:\"))\n",
    "\n",
    "C = A+B\n",
    "\n",
    "Str1 = \"The Input from the User  A:\"+str(A)\n",
    "Str2 = \"The Input from the User  B:\"+str(B)\n",
    "Str3 = \"The Sum of A and B is:\"+ str(A)+\"+\"+str(B)+\"=\"+str(C)\n",
    "\n",
    "File = open(\"Addition.txt\",'w')\n",
    "File.write(Str1 +\"\\n\")\n",
    "File.write(Str2 +\"\\n\")\n",
    "File.write(Str3 +\"\\n\")\n",
    "File.close()"
   ]
  },
  {
   "cell_type": "code",
   "execution_count": 3,
   "metadata": {},
   "outputs": [
    {
     "name": "stdout",
     "output_type": "stream",
     "text": [
      "Directory Created Successfully !\n"
     ]
    }
   ],
   "source": [
    "import os\n",
    "\n",
    "os.mkdir(\"Text Folders\")\n",
    "print(\"Directory Created Successfully !\")"
   ]
  },
  {
   "cell_type": "code",
   "execution_count": 4,
   "metadata": {},
   "outputs": [
    {
     "name": "stdout",
     "output_type": "stream",
     "text": [
      "Directory Removed Successfully !\n"
     ]
    }
   ],
   "source": [
    "import os\n",
    "\n",
    "os.rmdir(\"Text Folders\")\n",
    "print(\"Directory Removed Successfully !\")"
   ]
  },
  {
   "cell_type": "code",
   "execution_count": 11,
   "metadata": {},
   "outputs": [
    {
     "data": {
      "text/plain": [
       "['.ipynb_checkpoints',\n",
       " 'Addition.txt',\n",
       " 'Day6_Learning_Letsupgrade.ipynb',\n",
       " 'INITIAL_1.txt']"
      ]
     },
     "execution_count": 11,
     "metadata": {},
     "output_type": "execute_result"
    }
   ],
   "source": [
    "import os\n",
    "\n",
    "os.listdir()"
   ]
  },
  {
   "cell_type": "code",
   "execution_count": 14,
   "metadata": {},
   "outputs": [
    {
     "name": "stdout",
     "output_type": "stream",
     "text": [
      "Enter the value of A:4\n",
      "Enter the value of A:a\n",
      "Some thing Error in the input\n"
     ]
    }
   ],
   "source": [
    "#EXception Handling\n",
    "\n",
    "try:\n",
    "    S = int(input(\"Enter the value of A:\"))\n",
    "    T = int(input(\"Enter the value of A:\"))\n",
    "    U = S/T\n",
    "    print(U)\n",
    "except Exception:\n",
    "    print(\"Some thing Error in the input\")"
   ]
  },
  {
   "cell_type": "code",
   "execution_count": 18,
   "metadata": {},
   "outputs": [
    {
     "name": "stdout",
     "output_type": "stream",
     "text": [
      "Enter the value of A:2\n",
      "Enter the value of A:0\n",
      "Division is not possible with your input\n"
     ]
    }
   ],
   "source": [
    "#Multiple exception block\n",
    "try:\n",
    "    S = int(input(\"Enter the value of A:\"))\n",
    "    T = int(input(\"Enter the value of A:\"))\n",
    "    U = S/T\n",
    "    print(U)\n",
    "except ZeroDivisionError:\n",
    "    print(\"Division is not possible with your input\")\n",
    "except ValueError:\n",
    "    print(\"Enter the Numeric value alone\")"
   ]
  },
  {
   "cell_type": "code",
   "execution_count": 6,
   "metadata": {},
   "outputs": [
    {
     "name": "stdout",
     "output_type": "stream",
     "text": [
      "Enter the Number n:2\n",
      "Entered number 2\n"
     ]
    }
   ],
   "source": [
    "while True:\n",
    "    try:\n",
    "        x = int(input(\"Enter the Number n:\"))\n",
    "        print(\"Entered number\",x)\n",
    "        break\n",
    "    except EXception:\n",
    "        print(\"Something error in the input\")"
   ]
  },
  {
   "cell_type": "code",
   "execution_count": 7,
   "metadata": {},
   "outputs": [
    {
     "name": "stdout",
     "output_type": "stream",
     "text": [
      "Enter the value of A:2\n",
      "Enter the value of B:0\n",
      "Something Error in the input:\n"
     ]
    }
   ],
   "source": [
    "#Try - Except - Else Clause\n",
    "\n",
    "try:\n",
    "    U = int(input(\"Enter the value of A:\"))\n",
    "    V = int(input(\"Enter the value of B:\"))\n",
    "    R = U/V\n",
    "except ZeroDivisionError:\n",
    "    print(\"Something Error in the input:\")\n",
    "except ValueError:\n",
    "    print(\"Input must be Numeric\")\n",
    "else:\n",
    "    print(\"The Division of two nos is:\",R)"
   ]
  },
  {
   "cell_type": "code",
   "execution_count": 9,
   "metadata": {},
   "outputs": [
    {
     "name": "stdout",
     "output_type": "stream",
     "text": [
      "Enter the value of A:a\n",
      "Something Error in the input:\n"
     ]
    }
   ],
   "source": [
    "#Exception with multiple attributes\n",
    "try:\n",
    "    U = int(input(\"Enter the value of A:\"))\n",
    "    V = int(input(\"Enter the value of B:\"))\n",
    "    R = U/V\n",
    "except (ZeroDivisionError,ValueError):\n",
    "    print(\"Something Error in the input:\")\n",
    "else:\n",
    "    print(\"The Division of two nos is:\",R)"
   ]
  },
  {
   "cell_type": "code",
   "execution_count": 11,
   "metadata": {},
   "outputs": [
    {
     "name": "stdout",
     "output_type": "stream",
     "text": [
      "Enter the value of A:a\n",
      "Something Error in the input:\n",
      "Program Terminated\n"
     ]
    }
   ],
   "source": [
    "#Try - Finally block\n",
    "try:\n",
    "    U = int(input(\"Enter the value of A:\"))\n",
    "    V = int(input(\"Enter the value of B:\"))\n",
    "    R = U/V\n",
    "except (ZeroDivisionError,ValueError):\n",
    "    print(\"Something Error in the input:\")\n",
    "else:\n",
    "    print(\"The Division of two nos is:\",R)\n",
    "finally:\n",
    "    print(\"Program Terminated\")"
   ]
  },
  {
   "cell_type": "code",
   "execution_count": null,
   "metadata": {},
   "outputs": [],
   "source": [
    "#Finally with Multiple Exception\n",
    "try:\n",
    "    U = int(input(\"Enter the value of A:\"))\n",
    "    V = int(input(\"Enter the value of B:\"))\n",
    "    R = U/V\n",
    "except ZeroDivisionError:\n",
    "    print(\"Something Error in the input:\")\n",
    "except ValueError:\n",
    "    print(\"Input must be Numeric\")\n",
    "else:\n",
    "    print(\"The Division of two nos is:\",R)\n",
    "finally:\n",
    "    print(\"Program Terminated\")"
   ]
  },
  {
   "cell_type": "code",
   "execution_count": 16,
   "metadata": {},
   "outputs": [
    {
     "name": "stdout",
     "output_type": "stream",
     "text": [
      "[9, 12, 9, 8]\n",
      "\n",
      "\n",
      "[1, 4, 9, 16, 25, 36]\n"
     ]
    }
   ],
   "source": [
    "#Using map function\n",
    "\n",
    "def multiple_a(a,b):\n",
    "    return a*b\n",
    "\n",
    "def sqr(a):\n",
    "    return a**2\n",
    "\n",
    "x = map(multiple_a, [1,2,3,1], [9,6,3,8])\n",
    "y = map(sqr, [1,2,3,4,5,6])\n",
    "print(list(x))\n",
    "print(\"\\n\")\n",
    "print(list(y))"
   ]
  },
  {
   "cell_type": "code",
   "execution_count": 17,
   "metadata": {},
   "outputs": [
    {
     "data": {
      "text/plain": [
       "25"
      ]
     },
     "execution_count": 17,
     "metadata": {},
     "output_type": "execute_result"
    }
   ],
   "source": [
    "#Using without Lambda FUnction\n",
    "\n",
    "def sqr(a):\n",
    "    return a**2\n",
    "sqr(5)"
   ]
  },
  {
   "cell_type": "code",
   "execution_count": 20,
   "metadata": {},
   "outputs": [
    {
     "name": "stdout",
     "output_type": "stream",
     "text": [
      "25\n",
      "36\n"
     ]
    }
   ],
   "source": [
    "#Using with Lambda FUnction\n",
    "\n",
    "x = lambda a: a**2\n",
    "print(x(5))\n",
    "print(x(6))"
   ]
  },
  {
   "cell_type": "code",
   "execution_count": 27,
   "metadata": {},
   "outputs": [
    {
     "name": "stdout",
     "output_type": "stream",
     "text": [
      "11\n"
     ]
    }
   ],
   "source": [
    "#Lambda within the user defind function\n",
    "\n",
    "def xyz(a):\n",
    "    return lambda y: a+y\n",
    "t= xyz(5)\n",
    "print(t(6))"
   ]
  }
 ],
 "metadata": {
  "kernelspec": {
   "display_name": "Python 3",
   "language": "python",
   "name": "python3"
  },
  "language_info": {
   "codemirror_mode": {
    "name": "ipython",
    "version": 3
   },
   "file_extension": ".py",
   "mimetype": "text/x-python",
   "name": "python",
   "nbconvert_exporter": "python",
   "pygments_lexer": "ipython3",
   "version": "3.7.6"
  }
 },
 "nbformat": 4,
 "nbformat_minor": 4
}
