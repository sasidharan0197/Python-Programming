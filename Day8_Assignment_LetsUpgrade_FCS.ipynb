{
 "cells": [
  {
   "cell_type": "markdown",
   "metadata": {},
   "source": [
    "# DAY 8 - ASSIGNMENT BY SASIDHARAN SRINIVASAN\n",
    "> DATED ON 14-04-2020"
   ]
  },
  {
   "cell_type": "raw",
   "metadata": {},
   "source": [
    "You are provided with a number D containing only digits 0's and 1's. Your aim is to convert\n",
    "this number to have all the digits same.\n",
    "For that, you will change exactly one digit i.e. from 0 to 1 or from 1 to 0. If it is possible to\n",
    "make all digits equal (either all 0's or all 1's) by flipping exactly 1 digit then output \"YES\", else\n",
    "print \"NO\" (quotes for clarity).\n",
    "Input Format:\n",
    "The first line of the input contains the number D made of only digits 1's and 0's.\n",
    "Output:\n",
    "Print 'YES' or 'NO' depending on whether its possible to make it all 0s or 1s or not.\n",
    "Example-1:\n",
    "Input:\n",
    "101\n",
    "Output:\n",
    "YES\n",
    "Example-2:\n",
    "Input:\n",
    "11\n",
    "Output:\n",
    "NO\n",
    "Explanation:\n",
    "In the first example, it is possible to make all the digits same by flipping the middle digit\n",
    "from 0 to 1. In the second example it is not possible."
   ]
  },
  {
   "cell_type": "code",
   "execution_count": 8,
   "metadata": {},
   "outputs": [
    {
     "name": "stdout",
     "output_type": "stream",
     "text": [
      "Enter the Binary Input: 11\n",
      "The Output is: NO\n",
      "\n",
      "Explanation: \n",
      "The input contains more than one value of 0's and 1's, It is not at all possible\n"
     ]
    }
   ],
   "source": [
    "#Program Part\n",
    "def check_input(Converted_Input):\n",
    "    for i in Converted_Input:\n",
    "        if(i=='0'):\n",
    "            Checks = True\n",
    "        elif(i=='1'):\n",
    "            Checks = True                       # The purpose of this user defined function is to check \n",
    "        else:                                   # Whether the input contains only binary numbers or not i.e,0's and 1's\n",
    "            Checks = False\n",
    "            break\n",
    "    return Checks\n",
    "\n",
    "def make_decision(Conv_Input):\n",
    "    count_0 = 0\n",
    "    count_1 = 0\n",
    "    for j in Conv_Input:\n",
    "        if(j=='0'):\n",
    "            count_0 = count_0+1\n",
    "        else:\n",
    "            count_1 = count_1+1                 # With the help of count check logic, the final decisions are made\n",
    "    if count_0 == 1:                            # Either 0's count or 1's count must be 1 and then only as per question, we derived the output\n",
    "        print(\"The Output is: YES\\n\") \n",
    "        print(\"Explanation:\")\n",
    "        print(\"By Changing the Value of 0 to 1, it is possible to convert the input number to have all the digits are same\")\n",
    "    elif count_1 ==1:\n",
    "        print(\"The Output is: YES\\n\")\n",
    "        print(\"Explanation:\")\n",
    "        print(\"By Changing the Value of 1 to 0, it is possible to convert the input number to have all the digits are same\")\n",
    "    else:\n",
    "        print(\"The Output is: NO\\n\")\n",
    "        print(\"Explanation: \")\n",
    "        print(\"The input contains more than one value of 0's and 1's, It is not at all possible\")\n",
    "        \n",
    "\n",
    "User_Input = input(\"Enter the Binary Input: \")\n",
    "Convert_Input = User_Input\n",
    "x= check_input(Convert_Input)\n",
    "if x == True:\n",
    "    make_decision(Convert_Input)\n",
    "else:\n",
    "    print(\"The entered input Contains Other than 0's and 1's\")\n",
    "    \n",
    "\n",
    "#Program End"
   ]
  },
  {
   "cell_type": "markdown",
   "metadata": {},
   "source": [
    "# DAY 8 - ASSIGNMENT COMPLETED\n",
    "\n",
    "> Thanks to Lets Upgrade Team, For making this wonderful days to be a worth of it.\n",
    "\n",
    "> And  personal thanks to Sai Sir as well as Dr. Darshan Ingle sir, to put a lot of efforts to taught the python programming language in a easier way."
   ]
  }
 ],
 "metadata": {
  "kernelspec": {
   "display_name": "Python 3",
   "language": "python",
   "name": "python3"
  },
  "language_info": {
   "codemirror_mode": {
    "name": "ipython",
    "version": 3
   },
   "file_extension": ".py",
   "mimetype": "text/x-python",
   "name": "python",
   "nbconvert_exporter": "python",
   "pygments_lexer": "ipython3",
   "version": "3.7.6"
  }
 },
 "nbformat": 4,
 "nbformat_minor": 4
}
