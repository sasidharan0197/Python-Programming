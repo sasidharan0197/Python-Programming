{
 "cells": [
  {
   "cell_type": "markdown",
   "metadata": {},
   "source": [
    "File handling in Python\n",
    "--"
   ]
  },
  {
   "cell_type": "markdown",
   "metadata": {},
   "source": [
    "Python too supports file handling and allows users to handle files i.e., to read and write files, along with many other file handling options, to operate on files. \n",
    "\n",
    "The concept of file handling has stretched over various other languages, but the implementation is either complicated or lengthy, but alike other concepts of Python, this concept here is also easy and short. \n",
    "\n",
    "Python treats file differently as text or binary and this is important. \n",
    "\n",
    "Each line of code includes a sequence of characters and they form text file. Each line of a file is terminated with a special character, called the EOL or End of Line characters like comma {,} or newline character. \n",
    "\n",
    "It ends the current line and tells the interpreter a new one has begun.\n",
    "\n",
    "Since RAM is volatile, which loses its data when computer is turned off, we use files for future use of the data.\n",
    "\n",
    "Files are persistent because they run for a long time, they keep atleast some of the data in permanent storage and if they shut down and restart, they pick up where they left off."
   ]
  },
  {
   "cell_type": "code",
   "execution_count": 3,
   "metadata": {},
   "outputs": [
    {
     "ename": "FileNotFoundError",
     "evalue": "[Errno 2] No such file or directory: 't1.txt'",
     "output_type": "error",
     "traceback": [
      "\u001b[1;31m---------------------------------------------------------------------------\u001b[0m",
      "\u001b[1;31mFileNotFoundError\u001b[0m                         Traceback (most recent call last)",
      "\u001b[1;32m<ipython-input-3-4cd00a54d9b1>\u001b[0m in \u001b[0;36m<module>\u001b[1;34m\u001b[0m\n\u001b[0;32m      5\u001b[0m \u001b[1;31m# Opening a file\u001b[0m\u001b[1;33m\u001b[0m\u001b[1;33m\u001b[0m\u001b[1;33m\u001b[0m\u001b[0m\n\u001b[0;32m      6\u001b[0m \u001b[1;31m#type your code here\u001b[0m\u001b[1;33m\u001b[0m\u001b[1;33m\u001b[0m\u001b[1;33m\u001b[0m\u001b[0m\n\u001b[1;32m----> 7\u001b[1;33m \u001b[0mf\u001b[0m \u001b[1;33m=\u001b[0m \u001b[0mopen\u001b[0m\u001b[1;33m(\u001b[0m\u001b[1;34m\"t1.txt\"\u001b[0m\u001b[1;33m,\u001b[0m\u001b[1;34m\"r\"\u001b[0m\u001b[1;33m)\u001b[0m\u001b[1;33m\u001b[0m\u001b[1;33m\u001b[0m\u001b[0m\n\u001b[0m\u001b[0;32m      8\u001b[0m \u001b[0mf\u001b[0m\u001b[1;33m.\u001b[0m\u001b[0mclose\u001b[0m\u001b[1;33m(\u001b[0m\u001b[1;33m)\u001b[0m\u001b[1;33m\u001b[0m\u001b[1;33m\u001b[0m\u001b[0m\n",
      "\u001b[1;31mFileNotFoundError\u001b[0m: [Errno 2] No such file or directory: 't1.txt'"
     ]
    }
   ],
   "source": [
    "# “ r “, for reading.\n",
    "# “ w “, for writing.\n",
    "# “ a “, for appending.\n",
    "# “ r+ “, for both reading and writing\n",
    "# Opening a file\n",
    "#type your code here\n",
    "f = open(\"t1.txt\",\"r\")\n",
    "f.close()"
   ]
  },
  {
   "cell_type": "code",
   "execution_count": 34,
   "metadata": {},
   "outputs": [
    {
     "name": "stdout",
     "output_type": "stream",
     "text": [
      "t1.txt\n"
     ]
    }
   ],
   "source": [
    "f=open(\"t1.txt\",'w')\n",
    "f.write(\"Hello Dr. Darshan.\\n\")\n",
    "f.write(\"How is the training going on?\\n\")\n",
    "print(f.name) # False\n",
    "f.close()\n",
    "# print(f.closed) # True"
   ]
  },
  {
   "cell_type": "code",
   "execution_count": 10,
   "metadata": {},
   "outputs": [],
   "source": [
    "f=open(\"t1.txt\",'a')\n",
    "f.write(\"Hello Students.........\")\n",
    "f.close()"
   ]
  },
  {
   "cell_type": "raw",
   "metadata": {},
   "source": [
    "File Object Attributes\n",
    "\n",
    "file.closed - Returns True if the file is closed, false otherwise\n",
    "file.mode - Returns access mode with which the file was opened\n",
    "file.name - Returns name of the file"
   ]
  },
  {
   "cell_type": "code",
   "execution_count": 5,
   "metadata": {},
   "outputs": [
    {
     "data": {
      "text/plain": [
       "True"
      ]
     },
     "execution_count": 5,
     "metadata": {},
     "output_type": "execute_result"
    }
   ],
   "source": [
    "f.closed"
   ]
  },
  {
   "cell_type": "code",
   "execution_count": 17,
   "metadata": {},
   "outputs": [
    {
     "name": "stdout",
     "output_type": "stream",
     "text": [
      "Hello Dr. Darshan.\n",
      "How is the training going on?\n",
      "I hope u r enjoying the session\n",
      "Good Morning\n",
      "Like and Subscribe the channel \"Lets Upgrade\"\n",
      "\n"
     ]
    }
   ],
   "source": [
    "# File Methods\n",
    "f=open(\"t1.txt\",'r')\n",
    "print(f.read())\n",
    "f.close()"
   ]
  },
  {
   "cell_type": "code",
   "execution_count": 21,
   "metadata": {},
   "outputs": [
    {
     "name": "stdout",
     "output_type": "stream",
     "text": [
      "Hello Dr. Darshan.\n",
      "How is the training\n"
     ]
    }
   ],
   "source": [
    "f=open(\"t1.txt\",'r')\n",
    "#type your code here\n",
    "print(f.read(38))\n",
    "f.close()"
   ]
  },
  {
   "cell_type": "code",
   "execution_count": 23,
   "metadata": {},
   "outputs": [
    {
     "name": "stdout",
     "output_type": "stream",
     "text": [
      "Hello Dr. Darshan.\n",
      "\n"
     ]
    }
   ],
   "source": [
    "f=open(\"t1.txt\",'r')\n",
    "#type your code here\n",
    "print(f.readline())\n",
    "f.close()"
   ]
  },
  {
   "cell_type": "code",
   "execution_count": 31,
   "metadata": {},
   "outputs": [
    {
     "name": "stdout",
     "output_type": "stream",
     "text": [
      "['Hello Dr. Darshan.\\n', 'How is the training going on?\\n', 'I hope u r enjoying the session\\n', 'Good Morning\\n', 'Like and Subscribe the channel \"Lets Upgrade\"\\n']\n"
     ]
    }
   ],
   "source": [
    "f=open(\"t1.txt\",'r')\n",
    "print(f.readlines())\n",
    "f.close()"
   ]
  },
  {
   "cell_type": "code",
   "execution_count": 33,
   "metadata": {},
   "outputs": [
    {
     "name": "stdout",
     "output_type": "stream",
     "text": [
      "['Hello\\n']\n",
      "7\n"
     ]
    }
   ],
   "source": [
    "f=open(\"t1.txt\",'r')\n",
    "print(f.readlines())\n",
    "print(f.tell())\n",
    "f.close()"
   ]
  },
  {
   "cell_type": "code",
   "execution_count": 7,
   "metadata": {},
   "outputs": [
    {
     "name": "stdout",
     "output_type": "stream",
     "text": [
      "a=1\n",
      "\n",
      "5\n"
     ]
    }
   ],
   "source": [
    "f=open(\"t1.txt\",'r')\n",
    "print(f.read(4))\n",
    "print(f.tell())\n",
    "f.close()"
   ]
  },
  {
   "cell_type": "code",
   "execution_count": 35,
   "metadata": {},
   "outputs": [
    {
     "name": "stdout",
     "output_type": "stream",
     "text": [
      "Hello Dr. Darshan.\n",
      "\n",
      "20\n",
      "How is the training going on?\n",
      "\n",
      "51\n"
     ]
    }
   ],
   "source": [
    "f=open(\"t1.txt\",'r')\n",
    "print(f.readline())\n",
    "print(f.tell())\n",
    "print(f.readline())\n",
    "print(f.tell())\n",
    "f.close()"
   ]
  },
  {
   "cell_type": "code",
   "execution_count": 44,
   "metadata": {},
   "outputs": [],
   "source": [
    "f=open(\"t3.txt\",'w')\n",
    "f.write(\"Hello Dr. Darshan.\\n\")\n",
    "f.write(\"How is the training going on?\\n\")\n",
    "f.close()"
   ]
  },
  {
   "cell_type": "code",
   "execution_count": 37,
   "metadata": {},
   "outputs": [],
   "source": [
    "f=open(\"t3.txt\",'a')\n",
    "f.write(\"Python is a Programming Language\\n\")\n",
    "f.write(\"We are loving it\\n\")\n",
    "f.close()"
   ]
  },
  {
   "cell_type": "code",
   "execution_count": 45,
   "metadata": {},
   "outputs": [
    {
     "name": "stdout",
     "output_type": "stream",
     "text": [
      "File renamed successfully\n"
     ]
    }
   ],
   "source": [
    "# os.rename(currentname,newname)\n",
    "import os\n",
    "os.rename(\"t3.txt\",\"darshan.txt\")\n",
    "print(\"File renamed successfully\")"
   ]
  },
  {
   "cell_type": "code",
   "execution_count": 46,
   "metadata": {},
   "outputs": [
    {
     "name": "stdout",
     "output_type": "stream",
     "text": [
      "3\n",
      "Data saved to file successfully.\n",
      "True\n"
     ]
    }
   ],
   "source": [
    "a=1\n",
    "b=2\n",
    "c=a+b\n",
    "print(c)\n",
    "\n",
    "str1= \"a=\" + str(a) +\"\\n\"\n",
    "str2=\"b=\"+str(b)+\"\\n\"\n",
    "str3=\"c=\"+str(c)+\"\\n\"\n",
    "\n",
    "f=open(\"letsupgrade.txt\",'w')\n",
    "f.write(str1)\n",
    "f.write(str2)\n",
    "f.write(str3)\n",
    "f.close()\n",
    "print(\"Data saved to file successfully.\")\n",
    "print(f.closed)"
   ]
  },
  {
   "cell_type": "markdown",
   "metadata": {},
   "source": [
    "Directories/Folders\n",
    "--"
   ]
  },
  {
   "cell_type": "code",
   "execution_count": 50,
   "metadata": {},
   "outputs": [
    {
     "name": "stdout",
     "output_type": "stream",
     "text": [
      "Directory created successfully\n"
     ]
    }
   ],
   "source": [
    "import os\n",
    "os.mkdir(\"Pycharm\")\n",
    "print(\"Directory created successfully\")"
   ]
  },
  {
   "cell_type": "code",
   "execution_count": 48,
   "metadata": {},
   "outputs": [
    {
     "data": {
      "text/plain": [
       "'E:\\\\eBooks\\\\Data_Science_SV\\\\Python\\\\Lets_Upgrade'"
      ]
     },
     "execution_count": 48,
     "metadata": {},
     "output_type": "execute_result"
    }
   ],
   "source": [
    "os.getcwd()\n",
    "# os.chdir(\"path\")"
   ]
  },
  {
   "cell_type": "code",
   "execution_count": 49,
   "metadata": {},
   "outputs": [
    {
     "name": "stdout",
     "output_type": "stream",
     "text": [
      "Directory removed successfully\n"
     ]
    }
   ],
   "source": [
    "import os\n",
    "os.rmdir(\"Pycharm\")\n",
    "print(\"Directory removed successfully\")"
   ]
  },
  {
   "cell_type": "code",
   "execution_count": 52,
   "metadata": {},
   "outputs": [
    {
     "ename": "FileNotFoundError",
     "evalue": "[WinError 2] The system cannot find the file specified: 'Pycharm' -> 'Nocharm'",
     "output_type": "error",
     "traceback": [
      "\u001b[1;31m---------------------------------------------------------------------------\u001b[0m",
      "\u001b[1;31mFileNotFoundError\u001b[0m                         Traceback (most recent call last)",
      "\u001b[1;32m<ipython-input-52-9f37e1fd40f2>\u001b[0m in \u001b[0;36m<module>\u001b[1;34m\u001b[0m\n\u001b[1;32m----> 1\u001b[1;33m \u001b[0mos\u001b[0m\u001b[1;33m.\u001b[0m\u001b[0mrename\u001b[0m\u001b[1;33m(\u001b[0m\u001b[1;34m\"Pycharm\"\u001b[0m\u001b[1;33m,\u001b[0m\u001b[1;34m\"Nocharm\"\u001b[0m\u001b[1;33m)\u001b[0m\u001b[1;33m\u001b[0m\u001b[1;33m\u001b[0m\u001b[0m\n\u001b[0m\u001b[0;32m      2\u001b[0m \u001b[0mprint\u001b[0m\u001b[1;33m(\u001b[0m\u001b[1;34m\"Directory renamed successfully\"\u001b[0m\u001b[1;33m)\u001b[0m\u001b[1;33m\u001b[0m\u001b[1;33m\u001b[0m\u001b[0m\n",
      "\u001b[1;31mFileNotFoundError\u001b[0m: [WinError 2] The system cannot find the file specified: 'Pycharm' -> 'Nocharm'"
     ]
    }
   ],
   "source": [
    "os.rename(\"Pycharm\",\"Nocharm\")\n",
    "print(\"Directory renamed successfully\")"
   ]
  },
  {
   "cell_type": "code",
   "execution_count": 53,
   "metadata": {},
   "outputs": [
    {
     "data": {
      "text/plain": [
       "['.ipynb_checkpoints',\n",
       " '1 Python Basics.ipynb',\n",
       " '10 Classes and Objects in Python.ipynb',\n",
       " '11 map, filter, lambda.ipynb',\n",
       " '2 Datatypes, Operators and Looping.ipynb',\n",
       " '21 map, filter, lambda.ipynb',\n",
       " '3 Functions.ipynb',\n",
       " '4 Strings.ipynb',\n",
       " '5 Lists Tuples.ipynb',\n",
       " '6 Dictionary.ipynb',\n",
       " '8 File handling and Directories in Python.ipynb',\n",
       " '9 Exception Handling.ipynb',\n",
       " 'Agenda.txt',\n",
       " 'darshan.txt',\n",
       " 'Day 5 Assignment& Solution.pdf',\n",
       " 'Day 5 Assignment.docx',\n",
       " 'Day 6 Assignment.docx',\n",
       " 'Day 6 Assignment.pdf',\n",
       " 'generators and decorators.ipynb',\n",
       " 'kahoot.docx',\n",
       " 'kahoot.pdf',\n",
       " 'letsupgrade.txt',\n",
       " 'Nocharm',\n",
       " 't1.txt',\n",
       " 'Untitled.ipynb']"
      ]
     },
     "execution_count": 53,
     "metadata": {},
     "output_type": "execute_result"
    }
   ],
   "source": [
    "os.listdir()"
   ]
  }
 ],
 "metadata": {
  "kernelspec": {
   "display_name": "Python 3",
   "language": "python",
   "name": "python3"
  },
  "language_info": {
   "codemirror_mode": {
    "name": "ipython",
    "version": 3
   },
   "file_extension": ".py",
   "mimetype": "text/x-python",
   "name": "python",
   "nbconvert_exporter": "python",
   "pygments_lexer": "ipython3",
   "version": "3.7.4"
  },
  "toc": {
   "base_numbering": 1,
   "nav_menu": {},
   "number_sections": true,
   "sideBar": true,
   "skip_h1_title": false,
   "title_cell": "Table of Contents",
   "title_sidebar": "Contents",
   "toc_cell": false,
   "toc_position": {},
   "toc_section_display": true,
   "toc_window_display": false
  }
 },
 "nbformat": 4,
 "nbformat_minor": 2
}
