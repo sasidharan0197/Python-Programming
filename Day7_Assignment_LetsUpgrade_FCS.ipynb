{
 "cells": [
  {
   "cell_type": "markdown",
   "metadata": {},
   "source": [
    "# DAY 7 ASSIGNMENT BY SASIDHARAN SRINIVASAN\n",
    "> Dated On: 13-04-2020"
   ]
  },
  {
   "cell_type": "markdown",
   "metadata": {},
   "source": [
    "# ASSIGNMENT 1: PROGRAM TO ADD THE DIGITS OF POSITIVE INTEGER\n"
   ]
  },
  {
   "cell_type": "raw",
   "metadata": {},
   "source": [
    "Write a Python program to add the digits of a positive integer repeatedly until the result has a\n",
    "single digit.\n",
    "Input Format:\n",
    "The first line of the input contains a number n.\n",
    "Output:\n",
    "Print the resultant number\n",
    "Example:\n",
    "Input:\n",
    "48\n",
    "Output:\n",
    "3\n",
    "Explanation: If you add digits 4 and 8, you will get 12. Again adding 1 and 2 will give 3\n",
    "which is a single digit and hence the answer."
   ]
  },
  {
   "cell_type": "code",
   "execution_count": 3,
   "metadata": {},
   "outputs": [
    {
     "name": "stdout",
     "output_type": "stream",
     "text": [
      "Enter the Value of n (Must be Integer):1234\n",
      "The resultant Number is: 1\n"
     ]
    }
   ],
   "source": [
    "#Program Part:\n",
    "import functools\n",
    "from functools import reduce\n",
    "\n",
    "\n",
    "def get_str_to_list(String):\n",
    "    Final_List = []\n",
    "    i=0\n",
    "    while i<len(String):\n",
    "        Final_List.append(int(String[i]))\n",
    "        i+=1\n",
    "    return Final_List\n",
    "\n",
    "User_Input = input(\"Enter the Value of n (Must be Integer):\")        #Get value of n from user\n",
    "if User_Input.isdigit():                                             #Check the input contains any alphabets, if no, then proceed the next line\n",
    "    Convert_Input = abs(int(User_Input))\n",
    "    while len(str(Convert_Input))>1:\n",
    "        Foff_List = get_str_to_list(str(Convert_Input))\n",
    "        Convert_Input = reduce(lambda x,y:x+y, Foff_List)           #Using the combination of lambda and reduce function to perfrom the calculation\n",
    "    print('The resultant Number is:',Convert_Input)\n",
    "else:\n",
    "    print(\"The input contains Alphabets, Try again !\")               #Throws message to user if input contains other than numeric\n",
    "\n",
    "#Program End"
   ]
  },
  {
   "cell_type": "markdown",
   "metadata": {},
   "source": [
    "#  ASSIGNMENT 2: MAP, LAMBADA, FILTER AND REDUCE FUNCTION\n",
    "\n",
    "> map(), filter() and reduce() are built in function of python\n",
    "\n",
    "> This function enable the functional programming aspects of python.\n",
    "\n",
    "> In functional programming, the arguments passed are the only factors that decide upon the output\n",
    "\n",
    "> This built-in function can take any other function as parameter and can be supplied to other function as a parameter as well."
   ]
  },
  {
   "cell_type": "markdown",
   "metadata": {},
   "source": [
    "# 1. map() - function\n",
    "\n",
    "> It applies the given function to all iterables and return a new list.\n",
    "\n",
    ">> Syntax: map(function,iterables)"
   ]
  },
  {
   "cell_type": "code",
   "execution_count": 42,
   "metadata": {},
   "outputs": [
    {
     "name": "stdout",
     "output_type": "stream",
     "text": [
      "9\n",
      "[1, 4, 9]\n"
     ]
    }
   ],
   "source": [
    "# A Typical program without a map function inorder to clearly understand the concept of map function\n",
    "\n",
    "def area_of_square(area):\n",
    "    return area**2\n",
    "\n",
    "X = area_of_square(3)          \n",
    "print(X)\n",
    "\n",
    "# The output will be 9. \n",
    "#Similar program With map function as follows\n",
    "\n",
    "def square_of_num(num):\n",
    "    return num**2\n",
    "Y = map(square_of_num,[1,2,3])\n",
    "#print(Y)                        # It exhibits error as Map object error, beacuse of by passing the list parameter to the defined function it returns the list, such that\n",
    "print(list(Y))                   # it is converted into list\n",
    "\n",
    "# The output will be [1,4,9], as we defined the function to print the square of number, if we pass the list using map function, then it prints the output as a list"
   ]
  },
  {
   "cell_type": "code",
   "execution_count": 43,
   "metadata": {},
   "outputs": [
    {
     "name": "stdout",
     "output_type": "stream",
     "text": [
      "(25, 36, 49, 64)\n"
     ]
    }
   ],
   "source": [
    "#Map function not only applicable to list even it supports tuple also\n",
    "\n",
    "Z = map(square_of_num,(5,6,7,8))\n",
    "print(tuple(Z))\n",
    "\n",
    "#By running the code, it gets the output as (25, 36, 49, 64)\n",
    "# So it's clear understand that the map function returns a new list as well as new tuple"
   ]
  },
  {
   "cell_type": "code",
   "execution_count": 44,
   "metadata": {},
   "outputs": [
    {
     "name": "stdout",
     "output_type": "stream",
     "text": [
      "<class 'map'>\n",
      "[9, 16, 21, 24, 25]\n",
      "[9, 16, 21, 24, 25]\n"
     ]
    }
   ],
   "source": [
    "#Multiplication of Elements in the List with another List (List A X list B)\n",
    "def prod_2_num(a,b):\n",
    "    return a*b\n",
    "\n",
    "E = map(prod_2_num,[1,2,3,4,5],[9,8,7,6,5])\n",
    "print(type(E))\n",
    "print(list(E))\n",
    "\n",
    "#The program make simple as (Function composition)\n",
    "print(list(map(prod_2_num,[1,2,3,4,5],[9,8,7,6,5])))"
   ]
  },
  {
   "cell_type": "markdown",
   "metadata": {},
   "source": [
    "# # 2. lambda() Function:\n",
    "\n",
    "> Everything in the world of programming requires a name, but there still there are a few ananymous mysteries.\n",
    "> Lambda function or Lambda expressions are one of these kind of entities that are nameless.\n",
    "\n",
    "> They are the functions that do not have any name.\n",
    "> We also called them as ananymous or nameless functions.\n",
    "\n",
    "> They are generally provided as input to other functions.\n",
    "\n",
    "> lambda functions are single line functions. Therefore we have to provide the expression along with function itself.\n",
    "\n",
    "> Note: lambda is not a name, it is a keyword\n",
    "\n",
    "\n",
    ">> Use of Lambda Functions:\n",
    ">>> One time use: They are used in the places where we know that the function will \n",
    ">>>               be required just once. Therefore, lambda function is also called as throw away function\n",
    "\n",
    ">>> Input/Output to Other Functions: They are also passed as inputs or returned as output of other higher-order functions\n",
    "\n",
    ">>> Reduce code size: The body of lambda function written in a single line, so as to reduce the size of code\n",
    "\n",
    "\n",
    ">> SYNTAX:     lambda arguments: expressions\n"
   ]
  },
  {
   "cell_type": "code",
   "execution_count": 45,
   "metadata": {},
   "outputs": [
    {
     "name": "stdout",
     "output_type": "stream",
     "text": [
      "81\n",
      "4\n"
     ]
    }
   ],
   "source": [
    "#Without lambda function,\n",
    "\n",
    "def sqr(a):\n",
    "    return a**2\n",
    "\n",
    "print(sqr(9))\n",
    "#it prints the square value of the 9(arg)\n",
    "\n",
    "#Using the lambda function:\n",
    "\n",
    "s = lambda a:a**2                   #Lambda expressions must be in single line.\n",
    "print(s(2))"
   ]
  },
  {
   "cell_type": "code",
   "execution_count": 46,
   "metadata": {},
   "outputs": [
    {
     "name": "stdout",
     "output_type": "stream",
     "text": [
      "81\n",
      "4\n"
     ]
    }
   ],
   "source": [
    "#Without lambda function,\n",
    "\n",
    "def sqr(a):\n",
    "    return a**2\n",
    "\n",
    "print(sqr(9))\n",
    "#it prints the square value of the 9(arg)\n",
    "\n",
    "#Using the lambda function:\n",
    "\n",
    "s = lambda a:a**2                   #Lambda expressions must be in single line.\n",
    "print(s(2))"
   ]
  },
  {
   "cell_type": "code",
   "execution_count": 47,
   "metadata": {},
   "outputs": [
    {
     "data": {
      "text/plain": [
       "121"
      ]
     },
     "execution_count": 47,
     "metadata": {},
     "output_type": "execute_result"
    }
   ],
   "source": [
    "#Solving Algebraic equation using lambda function\n",
    "#i.e., Quadratic equation  square of (a+b)\n",
    "\n",
    "z= lambda x,y:(x+y)**2\n",
    "z(5,6)"
   ]
  },
  {
   "cell_type": "code",
   "execution_count": 48,
   "metadata": {},
   "outputs": [
    {
     "name": "stdout",
     "output_type": "stream",
     "text": [
      "[4, 5, 6, 7, 8]\n"
     ]
    }
   ],
   "source": [
    "#Using both lambda and map function\n",
    "\n",
    "List = [1,2,3,4,5]\n",
    "\n",
    "output = list(map(lambda d: d+3,List))  #did the addition of 3 with individual elements in the list\n",
    "print(output)"
   ]
  },
  {
   "cell_type": "markdown",
   "metadata": {},
   "source": [
    "# 3. Filter() - Function\n",
    "> It is used to filter the given iterables with the help of another function passed as argument to test all the elements to be True or False\n",
    "\n",
    ">> Syntax: filter(function,iterables)"
   ]
  },
  {
   "cell_type": "code",
   "execution_count": 3,
   "metadata": {},
   "outputs": [
    {
     "name": "stdout",
     "output_type": "stream",
     "text": [
      "4 <class 'int'>\n",
      "[1, 2, 3, 4, 5, 6, 7, 8, 9] <class 'list'>\n",
      "<filter object at 0x0000000004EA6D48>\n",
      "[3, 4, 5, 6, 7, 8, 9]\n"
     ]
    }
   ],
   "source": [
    "#Sample code to understand the Filter function\n",
    "\n",
    "def cond_check(a):\n",
    "    if a>=3:\n",
    "        return a\n",
    "              \n",
    "z = cond_check(4)             \n",
    "print(z, type(z))\n",
    " # for integer alone it excutes, inorder to execute the lists without using any loop statements filter() will be used\n",
    "    \n",
    "lists = [1,2,3,4,5,6,7,8,9]    \n",
    "print(lists, type(lists))\n",
    "z1= filter(cond_check,lists)\n",
    "print(z1)  #Since its filter must be convert into list\n",
    "print(list(z1))  #form of list"
   ]
  },
  {
   "cell_type": "code",
   "execution_count": 6,
   "metadata": {},
   "outputs": [
    {
     "name": "stdout",
     "output_type": "stream",
     "text": [
      "[9, 8, 7, 3, 4, 5]\n"
     ]
    }
   ],
   "source": [
    "#Combination of Lambda and filter function for above code\n",
    "\n",
    "lists = [9,8,7,2,3,4,5,1.1]\n",
    "q = filter(lambda x: x>=3, lists)      # Here instead of user defined function, Lambda is used to simplify the code\n",
    "print(list(q))"
   ]
  },
  {
   "cell_type": "markdown",
   "metadata": {},
   "source": [
    "# 4. reduce() - Function\n",
    "> It applies some other function to a list that are passed as a parameter to it and finally returns a single value.\n",
    "\n",
    ">> SYNTAX:  reduce(function, iterables)\n",
    "\n",
    "> This reduce function is not available in default like map() , filter() and lambda(). It is available in the functools library"
   ]
  },
  {
   "cell_type": "raw",
   "metadata": {},
   "source": [
    "Suppose we say a list, lIST = [1,2,3,4]\n",
    "if we do the sum of all the elements, we used loop structures\n",
    "initial sum = 0, next iteration(sum+i) the value of sum =1\n",
    "next iteration(sum+i), the value of sum is sum+2 = 3 \n",
    "next iteration, the value of sum is sum+3 = 6\n",
    "next iteration, the value of sum is sum+4 = 10\n",
    "\n",
    "\n",
    "This structure of code using this reduce function can be performed."
   ]
  },
  {
   "cell_type": "code",
   "execution_count": 8,
   "metadata": {},
   "outputs": [
    {
     "name": "stdout",
     "output_type": "stream",
     "text": [
      "1620 <class 'int'>\n",
      "25 <class 'int'>\n"
     ]
    }
   ],
   "source": [
    "import functools                        #Import all the available functions from the functools library\n",
    "from functools import reduce            # From the functools library we have import only reduce function\n",
    "#Usage of above line : reduce the processing, because functools library has so many functions say > 30. simply import\n",
    "# may reduce the processing time of kernel.\n",
    "\n",
    "def prd(a,b):\n",
    "    return a*b                 #Going to return the product of all the elements in the list (2*3*6*9*5 = 1620)\n",
    "def add(a,b):\n",
    "    return a+b                 #Going to return the sum of all the elements in the list (2+3+6+9+5 = 25)\n",
    "z= reduce(prd,[2,3,6,9,5])\n",
    "r= reduce(add,[2,3,6,9,5])\n",
    "print(z,type(z))\n",
    "print(r,type(r))"
   ]
  },
  {
   "cell_type": "code",
   "execution_count": 9,
   "metadata": {},
   "outputs": [
    {
     "name": "stdout",
     "output_type": "stream",
     "text": [
      "1620\n"
     ]
    }
   ],
   "source": [
    "#use Reduce with labda\n",
    "f=reduce(lambda d,w:d*w,[2,3,6,9,5])   #Perform the product of all the elements using lambda and reduce function\n",
    "print(f)"
   ]
  },
  {
   "cell_type": "code",
   "execution_count": 10,
   "metadata": {},
   "outputs": [
    {
     "name": "stdout",
     "output_type": "stream",
     "text": [
      "[11, 14, 10, 33]\n",
      "[False, False, True, True, True, True, True]\n",
      "[7, 8, 9]\n",
      "24\n"
     ]
    }
   ],
   "source": [
    "#Filter within map - always execute the inner loop first followed by outer loop\n",
    "#Combination of filer,lambda and map\n",
    "\n",
    "x=map(lambda y:y+5, filter(lambda x: x>=3,[2,6,9,5,1,28]))     \n",
    "print(list(x))\n",
    "\n",
    "#First execute the filter, the result will be [6,9,5,1,28] , next it will perform the addition of 5 to all the elements\n",
    "#Final result wil be [11,14,10,33]\n",
    "\n",
    "#Similarly code\n",
    "y = map(lambda y:y>=3, filter(lambda y: y+2,[1,2,3,5,6,9,7]))\n",
    "print(list(y))"
   ]
  },
  {
   "cell_type": "code",
   "execution_count": 11,
   "metadata": {},
   "outputs": [
    {
     "name": "stdout",
     "output_type": "stream",
     "text": [
      "[7, 8, 9]\n"
     ]
    }
   ],
   "source": [
    "s= filter(lambda z:z>6, map(lambda z: z+3,[2,3,4,5,6]))\n",
    "print(list(s))\n",
    "\n",
    "# From the above code, first executes the map function i.e., addition of 3 with list [2,3,4,5,6] result = [5,6,7,8,9]\n",
    "# Next execute the filter, it checks the condtion defined in lambda as value must be greater than 6\n",
    "# So the end result is [7,8,9]\n",
    "\n"
   ]
  },
  {
   "cell_type": "code",
   "execution_count": 12,
   "metadata": {},
   "outputs": [
    {
     "name": "stdout",
     "output_type": "stream",
     "text": [
      "24\n"
     ]
    }
   ],
   "source": [
    "#Combination of all functions (map,lambda,filter and reduce)\n",
    "t= reduce(lambda x,y:x+y, map(lambda x:x+x, filter(lambda x: x>=3,[1,2,3,4,5])))\n",
    "print(t)\n",
    "\n",
    "\n",
    "# From the above code, first step was execute the filter function and checks the list values greater than or equal to 3\n",
    "# New list was [3,4,5], next execute the map, the condtion in lambda is performing the sum of its own value 3+3,4+4,5+5\n",
    "# the list was [6,8,10], finally executed the reduce function,  the condtion is sum of all the elements in the list\n",
    "# The final result be 6+8+10 = 24"
   ]
  },
  {
   "cell_type": "markdown",
   "metadata": {},
   "source": [
    "# DAY 7 - ASSIGNMENT COMPLETED"
   ]
  }
 ],
 "metadata": {
  "kernelspec": {
   "display_name": "Python 3",
   "language": "python",
   "name": "python3"
  },
  "language_info": {
   "codemirror_mode": {
    "name": "ipython",
    "version": 3
   },
   "file_extension": ".py",
   "mimetype": "text/x-python",
   "name": "python",
   "nbconvert_exporter": "python",
   "pygments_lexer": "ipython3",
   "version": "3.7.6"
  }
 },
 "nbformat": 4,
 "nbformat_minor": 4
}
