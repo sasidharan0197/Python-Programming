{
 "cells": [
  {
   "cell_type": "markdown",
   "metadata": {},
   "source": [
    "# OOP CONCEPT"
   ]
  },
  {
   "cell_type": "code",
   "execution_count": 1,
   "metadata": {},
   "outputs": [
    {
     "name": "stdout",
     "output_type": "stream",
     "text": [
      "Hello I am from Kancheepuram\n",
      "Hello I am from Kancheepuram\n"
     ]
    }
   ],
   "source": [
    "#simple class demonstration\n",
    "\n",
    "class sasidharan:\n",
    "    def show(self):\n",
    "        print(\"Hello I am from Kancheepuram\")\n",
    "    \n",
    "    \n",
    "S1 = sasidharan()\n",
    "S1.show()\n",
    "S2 = sasidharan()\n",
    "S2.show()"
   ]
  },
  {
   "cell_type": "code",
   "execution_count": 2,
   "metadata": {},
   "outputs": [
    {
     "name": "stdout",
     "output_type": "stream",
     "text": [
      "Hello I am from Kancheepuram\n",
      "10\n"
     ]
    }
   ],
   "source": [
    "#Program to create a private variable\n",
    "\n",
    "class printing:\n",
    "    __h = 4 #Private variable  __ (two underscore defines the private variable in python)\n",
    "    y=10\n",
    "    def shows(seif):\n",
    "        print(\"Hello I am from Kancheepuram\")\n",
    "SD = printing()\n",
    "SD.shows()\n",
    "print(SD.y)\n",
    "#print(SD.__h)         #Shows error as Attribute error because it is private vaiable"
   ]
  },
  {
   "cell_type": "code",
   "execution_count": 3,
   "metadata": {},
   "outputs": [
    {
     "name": "stdout",
     "output_type": "stream",
     "text": [
      "n= 4\n",
      "n1= 5\n"
     ]
    }
   ],
   "source": [
    "class xyz:\n",
    "    def abc(self,n):\n",
    "        n1=n+1\n",
    "        print('n=',n)\n",
    "        print('n1=',n1)\n",
    "        \n",
    "g= xyz()      #Object creation\n",
    "g.abc(4)    #WIth the help of object the defined function is executed.\n"
   ]
  },
  {
   "cell_type": "code",
   "execution_count": 4,
   "metadata": {},
   "outputs": [
    {
     "name": "stdout",
     "output_type": "stream",
     "text": [
      "n= 4\n",
      "n= 4\n"
     ]
    }
   ],
   "source": [
    "class xyz:\n",
    "    def abc(self,n):\n",
    "        n=n\n",
    "        print('n=',n)\n",
    "        print('n=',n)\n",
    "        \n",
    "g= xyz()      #Object creation\n",
    "g.abc(4)    #WIth the help of object the defined function is executed."
   ]
  },
  {
   "cell_type": "code",
   "execution_count": 7,
   "metadata": {},
   "outputs": [
    {
     "name": "stdout",
     "output_type": "stream",
     "text": [
      "n= 4\n",
      "self.n= 4\n",
      "n= 4\n",
      "self.n= 5\n"
     ]
    }
   ],
   "source": [
    "class xyz:\n",
    "    def abc(self,n):\n",
    "        self.n=n\n",
    "        print('n=',n)\n",
    "        print('self.n=',self.n)\n",
    "        self.n = n+1\n",
    "        print('n=',n)\n",
    "        print('self.n=',self.n)\n",
    "g= xyz()      #Object creation\n",
    "g.abc(4)    #WIth the help of object the defined function is executed."
   ]
  },
  {
   "cell_type": "code",
   "execution_count": 10,
   "metadata": {},
   "outputs": [
    {
     "name": "stdout",
     "output_type": "stream",
     "text": [
      "n= 4\n",
      "self.n= 4\n",
      "n= 4\n",
      "self.n= 5\n",
      "Hello world\n"
     ]
    }
   ],
   "source": [
    "#Using constructor - init\n",
    "class xyz:\n",
    "    def __init__(self,n):\n",
    "        self.n=n\n",
    "        print('n=',n)\n",
    "        print('self.n=',self.n)\n",
    "        self.n = n+1\n",
    "        print('n=',n)\n",
    "        print('self.n=',self.n)\n",
    "    def mon(self):\n",
    "        print(\"Hello world\")\n",
    "g= xyz(4)      #Object creation\n",
    "g.mon()        #WIth the help of object the defined function is executed."
   ]
  },
  {
   "cell_type": "code",
   "execution_count": 12,
   "metadata": {},
   "outputs": [
    {
     "name": "stdout",
     "output_type": "stream",
     "text": [
      "Second constructor\n",
      "Hello world\n"
     ]
    }
   ],
   "source": [
    "#Using two constructors - constructors overloading\n",
    "#Using constructor - init\n",
    "class xyz:\n",
    "    def __init__(self,n):\n",
    "        self.n=n\n",
    "        print('n=',n)\n",
    "        print('self.n=',self.n)\n",
    "        self.n = n+1\n",
    "        print('n=',n)\n",
    "        print('self.n=',self.n)\n",
    "    def __init__(self):\n",
    "        print(\"Second constructor\")\n",
    "    def mon(self):\n",
    "        print(\"Hello world\")\n",
    "g= xyz()       #Object creation always called the second constructor\n",
    "g.mon()        #WIth the help of object the defined function is executed."
   ]
  },
  {
   "cell_type": "code",
   "execution_count": 13,
   "metadata": {},
   "outputs": [
    {
     "data": {
      "text/plain": [
       "9"
      ]
     },
     "execution_count": 13,
     "metadata": {},
     "output_type": "execute_result"
    }
   ],
   "source": [
    "#Program to use instances as return value\n",
    "\n",
    "class ghi:\n",
    "    def jkl(self,a,b):\n",
    "        self.a = a\n",
    "        self.b = b\n",
    "        return self.a+self.b\n",
    "s= ghi()\n",
    "s.jkl(4,5)"
   ]
  },
  {
   "cell_type": "code",
   "execution_count": 15,
   "metadata": {},
   "outputs": [
    {
     "name": "stdout",
     "output_type": "stream",
     "text": [
      "4\n",
      "5\n"
     ]
    }
   ],
   "source": [
    "#Program to use instances as return value using __init__\n",
    "\n",
    "class ghi:\n",
    "    def __init__(self,a,b):\n",
    "        self.a = a\n",
    "        self.b = b\n",
    "s= ghi(4,5)\n",
    "print(s.a)\n",
    "print(s.b)\n"
   ]
  },
  {
   "cell_type": "code",
   "execution_count": 33,
   "metadata": {},
   "outputs": [
    {
     "name": "stdout",
     "output_type": "stream",
     "text": [
      "Hello  sasi\n",
      "Object deleted\n",
      "Hello  Dharan\n",
      "Object deleted\n"
     ]
    }
   ],
   "source": [
    "#Destructor\n",
    "class Prints:\n",
    "    def __init__(self,y):\n",
    "        print(\"Hello \",y)\n",
    "    def __del__(self):\n",
    "        print(\"Object deleted\")\n",
    "e= Prints(\"sasi\")\n",
    "e= Prints(\"Dharan\")"
   ]
  },
  {
   "cell_type": "code",
   "execution_count": 30,
   "metadata": {},
   "outputs": [
    {
     "name": "stdout",
     "output_type": "stream",
     "text": [
      "Derived class here !!!!\n",
      "Base class here !!!\n"
     ]
    }
   ],
   "source": [
    "#Inheritence\n",
    "class abc:\n",
    "    def s1(self):\n",
    "        print(\"Base class here !!!\")\n",
    "class xyz(abc):\n",
    "    def s2(self):\n",
    "        print(\"Derived class here !!!!\")\n",
    "r= xyz()\n",
    "r.s2()\n",
    "r.s1()"
   ]
  },
  {
   "cell_type": "code",
   "execution_count": 34,
   "metadata": {},
   "outputs": [
    {
     "name": "stdout",
     "output_type": "stream",
     "text": [
      "Base class here !!!\n",
      "Base class 2 here !!!!\n",
      "Derived class  here !!!!\n"
     ]
    }
   ],
   "source": [
    "#Multiple Inheritence\n",
    "class abc:\n",
    "    def s1(self):\n",
    "        print(\"Base class here !!!\")\n",
    "class xyz():\n",
    "    def s2(self):\n",
    "        print(\"Base class 2 here !!!!\")\n",
    "class fgh(abc,xyz):\n",
    "    def s3(self):\n",
    "        print(\"Derived class  here !!!!\")\n",
    "\n",
    "u=fgh()\n",
    "u.s1()\n",
    "u.s2()\n",
    "u.s3()"
   ]
  },
  {
   "cell_type": "code",
   "execution_count": 35,
   "metadata": {},
   "outputs": [
    {
     "name": "stdout",
     "output_type": "stream",
     "text": [
      "Derived function derived\n"
     ]
    }
   ],
   "source": [
    "#Method Overriding\n",
    "class T:\n",
    "    def show(self):\n",
    "        print(\"Base function derived\")\n",
    "class S(T):\n",
    "    def show(self):\n",
    "        print(\"Derived function derived\")\n",
    "b=S()\n",
    "b.show()"
   ]
  },
  {
   "cell_type": "code",
   "execution_count": 37,
   "metadata": {},
   "outputs": [
    {
     "name": "stdout",
     "output_type": "stream",
     "text": [
      "Derived of Derived function derived\n"
     ]
    }
   ],
   "source": [
    "#Method Overriding example -2\n",
    "class T:\n",
    "    def show(self):\n",
    "        print(\"Base function derived\")\n",
    "class S(T):\n",
    "    def show(self):\n",
    "        print(\"Derived function derived\")\n",
    "class X(S):\n",
    "    def show(self):\n",
    "        print(\"Derived of Derived function derived\")\n",
    "b=X()\n",
    "b.show()\n",
    "\n",
    "#Lateset method only executed"
   ]
  },
  {
   "cell_type": "code",
   "execution_count": 40,
   "metadata": {},
   "outputs": [
    {
     "name": "stdout",
     "output_type": "stream",
     "text": [
      "1\n",
      "2\n",
      "3\n"
     ]
    }
   ],
   "source": [
    "#Generator function\n",
    "def abc():\n",
    "    yield 1\n",
    "    yield 2\n",
    "    yield 3\n",
    "\n",
    "for i in abc():\n",
    "    print(i)"
   ]
  },
  {
   "cell_type": "code",
   "execution_count": 45,
   "metadata": {},
   "outputs": [
    {
     "name": "stdout",
     "output_type": "stream",
     "text": [
      "The value of line 1 1\n",
      "The value of line 2 2\n",
      "The value of line 3 3\n"
     ]
    }
   ],
   "source": [
    "#Generators with loop\n",
    "def abc():\n",
    "    yield 1\n",
    "    yield 2\n",
    "    yield 3\n",
    "\n",
    "x =abc()\n",
    "print('The value of line 1',x.__next__())\n",
    "print('The value of line 2',x.__next__())\n",
    "print('The value of line 3',x.__next__())"
   ]
  },
  {
   "cell_type": "code",
   "execution_count": 48,
   "metadata": {},
   "outputs": [
    {
     "name": "stdout",
     "output_type": "stream",
     "text": [
      "(1, 'Sasi')\n",
      "(2, 'Dharan')\n"
     ]
    }
   ],
   "source": [
    "def xyz(e):\n",
    "    for i in e.items():\n",
    "        yield i\n",
    "dicti = {1:\"Sasi\",2:\"Dharan\"}\n",
    "b= xyz(dicti)\n",
    "print(b.__next__())\n",
    "print(b.__next__())"
   ]
  },
  {
   "cell_type": "code",
   "execution_count": 1,
   "metadata": {},
   "outputs": [
    {
     "name": "stdout",
     "output_type": "stream",
     "text": [
      "9\n"
     ]
    }
   ],
   "source": [
    "#Decorators ____Nested function\n",
    "def outer():\n",
    "    x=3\n",
    "    def inner():\n",
    "        print(x**2)\n",
    "    inner()\n",
    "outer()"
   ]
  },
  {
   "cell_type": "code",
   "execution_count": 2,
   "metadata": {},
   "outputs": [
    {
     "name": "stdout",
     "output_type": "stream",
     "text": [
      "7\n"
     ]
    }
   ],
   "source": [
    "#Value  returning function\n",
    "\n",
    "def outer():\n",
    "    x=3\n",
    "    def inner():\n",
    "        y=4\n",
    "        return x+y\n",
    "    return inner()\n",
    "a= outer()\n",
    "print(a)"
   ]
  },
  {
   "cell_type": "code",
   "execution_count": 4,
   "metadata": {},
   "outputs": [
    {
     "data": {
      "text/plain": [
       "7"
      ]
     },
     "execution_count": 4,
     "metadata": {},
     "output_type": "execute_result"
    }
   ],
   "source": [
    "#Value  returning function\n",
    "def outer():\n",
    "    x=3\n",
    "    def inner():\n",
    "        y=4\n",
    "        return x+y\n",
    "    return inner\n",
    "a= outer()\n",
    "a.__name__  #Returns inner\n",
    "a()        "
   ]
  },
  {
   "cell_type": "code",
   "execution_count": 6,
   "metadata": {},
   "outputs": [
    {
     "data": {
      "text/plain": [
       "'LEARNING DECORATORS'"
      ]
     },
     "execution_count": 6,
     "metadata": {},
     "output_type": "execute_result"
    }
   ],
   "source": [
    "#Decorators\n",
    "def abc_upper(func):\n",
    "    def inner():\n",
    "        str1 = func\n",
    "        return str1.upper()\n",
    "    return inner\n",
    "def abc_lower():\n",
    "    return \"learning decorators\"\n",
    "a= abc_upper(abc_lower())\n",
    "a()"
   ]
  },
  {
   "cell_type": "code",
   "execution_count": 2,
   "metadata": {},
   "outputs": [
    {
     "ename": "AttributeError",
     "evalue": "'function' object has no attribute 'upper'",
     "output_type": "error",
     "traceback": [
      "\u001b[1;31m---------------------------------------------------------------------------\u001b[0m",
      "\u001b[1;31mAttributeError\u001b[0m                            Traceback (most recent call last)",
      "\u001b[1;32m<ipython-input-2-c8760ad2ed8a>\u001b[0m in \u001b[0;36m<module>\u001b[1;34m\u001b[0m\n\u001b[0;32m     10\u001b[0m     \u001b[1;32mreturn\u001b[0m \u001b[1;34m\"learning decorators\"\u001b[0m\u001b[1;33m\u001b[0m\u001b[1;33m\u001b[0m\u001b[0m\n\u001b[0;32m     11\u001b[0m \u001b[1;33m\u001b[0m\u001b[0m\n\u001b[1;32m---> 12\u001b[1;33m \u001b[0mprint\u001b[0m\u001b[1;33m(\u001b[0m\u001b[0mabc_lower\u001b[0m\u001b[1;33m(\u001b[0m\u001b[1;33m)\u001b[0m\u001b[1;33m)\u001b[0m\u001b[1;33m\u001b[0m\u001b[1;33m\u001b[0m\u001b[0m\n\u001b[0m",
      "\u001b[1;32m<ipython-input-2-c8760ad2ed8a>\u001b[0m in \u001b[0;36minner\u001b[1;34m()\u001b[0m\n\u001b[0;32m      3\u001b[0m     \u001b[1;32mdef\u001b[0m \u001b[0minner\u001b[0m\u001b[1;33m(\u001b[0m\u001b[1;33m)\u001b[0m\u001b[1;33m:\u001b[0m\u001b[1;33m\u001b[0m\u001b[1;33m\u001b[0m\u001b[0m\n\u001b[0;32m      4\u001b[0m         \u001b[0mstr1\u001b[0m \u001b[1;33m=\u001b[0m \u001b[0mfunc\u001b[0m\u001b[1;33m\u001b[0m\u001b[1;33m\u001b[0m\u001b[0m\n\u001b[1;32m----> 5\u001b[1;33m         \u001b[1;32mreturn\u001b[0m \u001b[0mstr1\u001b[0m\u001b[1;33m.\u001b[0m\u001b[0mupper\u001b[0m\u001b[1;33m(\u001b[0m\u001b[1;33m)\u001b[0m\u001b[1;33m\u001b[0m\u001b[1;33m\u001b[0m\u001b[0m\n\u001b[0m\u001b[0;32m      6\u001b[0m     \u001b[1;32mreturn\u001b[0m \u001b[0minner\u001b[0m\u001b[1;33m\u001b[0m\u001b[1;33m\u001b[0m\u001b[0m\n\u001b[0;32m      7\u001b[0m \u001b[1;33m\u001b[0m\u001b[0m\n",
      "\u001b[1;31mAttributeError\u001b[0m: 'function' object has no attribute 'upper'"
     ]
    }
   ],
   "source": [
    "#Best way of using decorators\n",
    "def abc_upper(func):\n",
    "    def inner():\n",
    "        str1 = func\n",
    "        return str1.upper()\n",
    "    return inner\n",
    "\n",
    "@abc_upper\n",
    "def abc_lower():\n",
    "    return \"learning decorators\"\n",
    "\n",
    "print(abc_lower())"
   ]
  }
 ],
 "metadata": {
  "kernelspec": {
   "display_name": "Python 3",
   "language": "python",
   "name": "python3"
  },
  "language_info": {
   "codemirror_mode": {
    "name": "ipython",
    "version": 3
   },
   "file_extension": ".py",
   "mimetype": "text/x-python",
   "name": "python",
   "nbconvert_exporter": "python",
   "pygments_lexer": "ipython3",
   "version": "3.7.6"
  }
 },
 "nbformat": 4,
 "nbformat_minor": 4
}
