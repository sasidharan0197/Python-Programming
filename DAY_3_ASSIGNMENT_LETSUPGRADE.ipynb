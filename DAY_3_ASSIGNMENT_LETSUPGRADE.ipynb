{
 "cells": [
  {
   "cell_type": "markdown",
   "metadata": {},
   "source": [
    "# DAY3 ASSIGNMENT BY SASIDHARAN SRINIVASAN\n",
    ">>DATED ON 08/04/2020"
   ]
  },
  {
   "cell_type": "markdown",
   "metadata": {},
   "source": [
    "# ASSIGNMENT 1: GRADE SYSTEM"
   ]
  },
  {
   "cell_type": "raw",
   "metadata": {},
   "source": [
    "Write a Program for taking one number as a input (Run-time input) and then using if elif and else concept, assign a grade to the input from \n",
    "\n",
    "                A,B,C,D,E,FAIL.\n",
    "                \n",
    "EXAMPLE: If Input is 97 then Output will be A\n",
    "         If Input is 30 then Output will be FAIL."
   ]
  },
  {
   "cell_type": "code",
   "execution_count": 3,
   "metadata": {},
   "outputs": [
    {
     "name": "stdout",
     "output_type": "stream",
     "text": [
      "Enter yout Value:25\n",
      "The Entered value by the user is: 25\n"
     ]
    }
   ],
   "source": [
    "#Sample Program for getting the run time input from user\n",
    "val = input(\"Enter yout Value:\")\n",
    "print('The Entered value by the user is:',val)"
   ]
  },
  {
   "cell_type": "raw",
   "metadata": {},
   "source": [
    " Here My Considerations are:\n",
    " \n",
    "I have fixed the getting values for assign the grades as follows \n",
    "\n",
    "(Right now, In Anna University - Tamilnadu has followed this grade system especially in Engineering Curriculum)\n",
    "\n",
    "Grade: S  Marks: 100-91\n",
    "       A  Marks: 90-81\n",
    "       B  Marks: 80-71\n",
    "       C  Marks: 70-61\n",
    "       D  Marks: 60-51\n",
    "       E  Marks: 50-45\n",
    "       U(FAIL) Marks: Secure <45"
   ]
  },
  {
   "cell_type": "code",
   "execution_count": 146,
   "metadata": {},
   "outputs": [
    {
     "name": "stdout",
     "output_type": "stream",
     "text": [
      "Enter the student Name:89\n",
      "Enter the Marks obtained by the student:89\n",
      "\n",
      " \t\n",
      "The Grade obtained by 89 is: A\n",
      "\n",
      " \t\n",
      "Result Status of 89 is:  PASS\n"
     ]
    }
   ],
   "source": [
    "#Assignment 1 - Program \n",
    "\n",
    "#Program Name: Grade Calculation based on the marks obtained.\n",
    "student_name = input(\"Enter the student Name:\")\n",
    "mark = input(\"Enter the Marks obtained by the student:\")\n",
    "print('\\n \\t')\n",
    "Mark = int(mark)\n",
    "if Mark <= 100 and Mark >= 91:\n",
    "    print('The Grade obtained by', student_name,'is: S')\n",
    "    Result = \"PASS\"\n",
    "elif Mark <= 90 and Mark >= 81:\n",
    "    print('The Grade obtained by', student_name,'is: A')\n",
    "    Result = \"PASS\"\n",
    "elif Mark <= 80 and Mark >= 71:\n",
    "    print('The Grade obtained by', student_name,'is: B')\n",
    "    Result = \"PASS\"\n",
    "elif Mark <= 70 and Mark >= 61:\n",
    "    print('The Grade obtained by', student_name,'is: C')\n",
    "    Result = \"PASS\"\n",
    "elif Mark <= 60 and Mark >= 51:\n",
    "    print('The Grade obtained by', student_name,'is: D')\n",
    "    Result = \"PASS\"\n",
    "elif Mark <= 50 and Mark >= 45:\n",
    "    print('The Grade obtained by', student_name,'is: E')\n",
    "    Result = \"PASS\"\n",
    "else:\n",
    "    print('The Grade obtained by', student_name,'is: U')\n",
    "    Result = \"FAIL\"\n",
    "print('\\n \\t')\n",
    "print('Result Status of',student_name,'is: ',Result)"
   ]
  },
  {
   "cell_type": "markdown",
   "metadata": {},
   "source": [
    "# ASSIGNMENT 2: GUESSING TEAM INDIA SCORE IN 20-20 OVER CRICKET"
   ]
  },
  {
   "cell_type": "raw",
   "metadata": {},
   "source": [
    "Write a Program that give you a random score of Team India in 20-20 Over Cricket match and a player's has to guess the score given by Computer in between 1 and 250. The rules (Conditions are)\n",
    "\n",
    "1. If a Player's Guess is less than 1 or greater than 250, The Computer will say \"Reduce your Expectations for 20-20 Cricket\"\n",
    "\n",
    "2. On a Player's Input, if the score's guess is \n",
    "\n",
    "        2.1  Within 10 of the number return, \"Close By, You are  a True Indian Fan! \"\n",
    "        \n",
    "        2.2  Further than 10 away from the number, return \"You don't watch that Much :P\""
   ]
  },
  {
   "cell_type": "code",
   "execution_count": 167,
   "metadata": {},
   "outputs": [
    {
     "name": "stdout",
     "output_type": "stream",
     "text": [
      "Message from Computer:  The Random Score provided by the Computer between 1 and 250 is: 200\n",
      "Message from Computer:  You do not watch that Much :P\n"
     ]
    }
   ],
   "source": [
    "#Assignment 2 - Program \n",
    "\n",
    "#Program Name: GUESSING TEAM INDIA SCORE IN 20-20 OVER CRICKET\n",
    "\n",
    "import random \n",
    "Com_Score = list(range(1,251))             #Range the last digit is exclusive i.e., 251 is not included in the list\n",
    "random_Score = random.choice(Com_Score)    #Convert the into integer for Comparsion using if conditions\n",
    "Random_Score = int(random_Score)\n",
    "print('Message from Computer: ','The Random Score provided by the Computer between 1 and 250 is:',Random_Score )\n",
    "if Random_Score<1 and Random_Score>250:\n",
    "    print(\"Reduce your Expectations for 20-20 Cricket !\")\n",
    "elif Random_Score<=10:\n",
    "    print('Message from Computer: ','Close By, You are  a True Indian Fan :-)')\n",
    "else:\n",
    "    print('Message from Computer: ','You do not watch that Much :P')"
   ]
  },
  {
   "cell_type": "markdown",
   "metadata": {},
   "source": [
    "# DAY - 3 ASSIGNMENT COMPLETED "
   ]
  }
 ],
 "metadata": {
  "kernelspec": {
   "display_name": "Python 3",
   "language": "python",
   "name": "python3"
  },
  "language_info": {
   "codemirror_mode": {
    "name": "ipython",
    "version": 3
   },
   "file_extension": ".py",
   "mimetype": "text/x-python",
   "name": "python",
   "nbconvert_exporter": "python",
   "pygments_lexer": "ipython3",
   "version": "3.7.6"
  }
 },
 "nbformat": 4,
 "nbformat_minor": 4
}
