{
 "cells": [
  {
   "cell_type": "markdown",
   "metadata": {},
   "source": [
    "Dictionary/Associative Array:\n",
    "--\n",
    "\n",
    "> Python provides a dictionary structure to deal with unordered set of key value pairs.\n",
    "\n",
    "> The key and value pair is called as item.\n",
    "\n",
    "> The values in the dictionary are mutable i.e can be changed\n",
    "\n",
    "> The keys in the dictionary are immutable i.e cannot be changed\n",
    "\n",
    "> It is also called as an Associative array because the key works as an Index and they are decided by the user."
   ]
  },
  {
   "cell_type": "code",
   "execution_count": 6,
   "metadata": {},
   "outputs": [
    {
     "name": "stdout",
     "output_type": "stream",
     "text": [
      "{1: 'COMP', 2: 'IT', 99: 'EXTC'}\n"
     ]
    },
    {
     "ename": "KeyError",
     "evalue": "0",
     "output_type": "error",
     "traceback": [
      "\u001b[1;31m---------------------------------------------------------------------------\u001b[0m",
      "\u001b[1;31mKeyError\u001b[0m                                  Traceback (most recent call last)",
      "\u001b[1;32m<ipython-input-6-01aa0bf01680>\u001b[0m in \u001b[0;36m<module>\u001b[1;34m\u001b[0m\n\u001b[0;32m      2\u001b[0m \u001b[0md\u001b[0m \u001b[1;33m=\u001b[0m \u001b[1;33m{\u001b[0m \u001b[1;36m1\u001b[0m\u001b[1;33m:\u001b[0m \u001b[1;34m\"COMP\"\u001b[0m\u001b[1;33m,\u001b[0m \u001b[1;36m2\u001b[0m\u001b[1;33m:\u001b[0m\u001b[1;34m\"IT\"\u001b[0m\u001b[1;33m,\u001b[0m \u001b[1;36m99\u001b[0m\u001b[1;33m:\u001b[0m\u001b[1;34m\"EXTC\"\u001b[0m\u001b[1;33m}\u001b[0m\u001b[1;33m\u001b[0m\u001b[1;33m\u001b[0m\u001b[0m\n\u001b[0;32m      3\u001b[0m \u001b[0mprint\u001b[0m\u001b[1;33m(\u001b[0m\u001b[0md\u001b[0m\u001b[1;33m)\u001b[0m\u001b[1;33m\u001b[0m\u001b[1;33m\u001b[0m\u001b[0m\n\u001b[1;32m----> 4\u001b[1;33m \u001b[0mprint\u001b[0m\u001b[1;33m(\u001b[0m\u001b[0md\u001b[0m\u001b[1;33m[\u001b[0m\u001b[1;36m0\u001b[0m\u001b[1;33m]\u001b[0m\u001b[1;33m)\u001b[0m\u001b[1;33m\u001b[0m\u001b[1;33m\u001b[0m\u001b[0m\n\u001b[0m",
      "\u001b[1;31mKeyError\u001b[0m: 0"
     ]
    }
   ],
   "source": [
    "# type your code here\n",
    "d = { 1: \"COMP\", 2:\"IT\", 99:\"EXTC\"}\n",
    "print(d)\n",
    "print(d[0])"
   ]
  },
  {
   "cell_type": "code",
   "execution_count": 8,
   "metadata": {},
   "outputs": [
    {
     "data": {
      "text/plain": [
       "1"
      ]
     },
     "execution_count": 8,
     "metadata": {},
     "output_type": "execute_result"
    }
   ],
   "source": [
    "d1 = {\"COMP\" : 3, \"IT\": 1, \"EXTC\":2}\n",
    "# type your code here\n",
    "d1[\"IT\"]"
   ]
  },
  {
   "cell_type": "code",
   "execution_count": 11,
   "metadata": {},
   "outputs": [
    {
     "name": "stdout",
     "output_type": "stream",
     "text": [
      "{2: 'IT', 3: 'EXTC'}\n",
      "{}\n"
     ]
    }
   ],
   "source": [
    "d = {1:\"COMP\", 2: \"IT\", 3:\"EXTC\"}\n",
    "# type your code here\n",
    "del d[1]\n",
    "print(d)\n",
    "d.clear()\n",
    "print(d)"
   ]
  },
  {
   "cell_type": "code",
   "execution_count": 16,
   "metadata": {},
   "outputs": [
    {
     "name": "stdout",
     "output_type": "stream",
     "text": [
      "True\n",
      "{1: 'COMP', 2: 'IT', 3: 'EXTC'}\n",
      "3\n",
      "dict_keys([1, 2, 3])\n",
      "dict_values(['COMP', 'IT', 'EXTC'])\n"
     ]
    }
   ],
   "source": [
    "d = {1:\"COMP\", 2: \"IT\", 3:\"EXTC\"}\n",
    "print(3 in d)\n",
    "# type your code here\n",
    "print(str(d))\n",
    "print(len(d))\n",
    "print(d.keys())\n",
    "print(d.values())"
   ]
  },
  {
   "cell_type": "code",
   "execution_count": 18,
   "metadata": {},
   "outputs": [
    {
     "name": "stdout",
     "output_type": "stream",
     "text": [
      "{1: 'COMP', 2: 'IT', 3: 'EXTC'}\n",
      "{100: 'CHEM'}\n",
      "{1: 'COMP', 2: 'IT', 3: 'EXTC', 100: 'CHEM'}\n"
     ]
    }
   ],
   "source": [
    "d1 = {1:\"COMP\", 2: \"IT\", 3:\"EXTC\"}\n",
    "d2 = {100:\"CHEM\"}\n",
    "print(d1)\n",
    "print(d2)\n",
    "# type your code here\n",
    "d1.update(d2)\n",
    "print(d1)"
   ]
  },
  {
   "cell_type": "code",
   "execution_count": 21,
   "metadata": {},
   "outputs": [
    {
     "name": "stdout",
     "output_type": "stream",
     "text": [
      "1\n",
      "1\n"
     ]
    }
   ],
   "source": [
    "d1 = {\"COMP\" : 3, \"IT\": 1, \"EXTC\":2}\n",
    "# type your code here\n",
    "print(d1['IT']) #indexing\n",
    "print(d1.get(\"IT\")) #access the same using a function of dict"
   ]
  },
  {
   "cell_type": "code",
   "execution_count": 22,
   "metadata": {},
   "outputs": [
    {
     "name": "stdout",
     "output_type": "stream",
     "text": [
      "{1: ['A', 'B'], 2: ['C', 'D']}\n",
      "<class 'dict'>\n"
     ]
    }
   ],
   "source": [
    "# Dictionary can contain lists\n",
    "# type your code here\n",
    "l = {1:['A',\"B\"], 2: ['C','D']}\n",
    "print(l)\n",
    "print(type(l))"
   ]
  },
  {
   "cell_type": "code",
   "execution_count": 27,
   "metadata": {},
   "outputs": [
    {
     "name": "stdout",
     "output_type": "stream",
     "text": [
      "{1: ('1', 2), 2: ('1', '2'), 3: ['2', '3'], 4: ('Darshan',)}\n",
      "<class 'dict'>\n",
      "('Darshan',)\n",
      "<class 'tuple'>\n"
     ]
    }
   ],
   "source": [
    "# Dictionary can contain tuples\n",
    "# type your code here\n",
    "l = {1: ('1',2), 2: ('1', '2'), 3: ['2', '3'], 4: ('Darshan',)}\n",
    "print(l)\n",
    "print(type(l))\n",
    "print(l[4])\n",
    "print(type(l[4]))"
   ]
  },
  {
   "cell_type": "code",
   "execution_count": null,
   "metadata": {},
   "outputs": [],
   "source": [
    "# Dictionary can contain tuples\n",
    "# type your code here\n",
    "l = {1: ('1',2), 2: ('1', '2'), 3: ('2', '3'), 4: ('3')}\n",
    "print(l)\n",
    "print(type(l))\n",
    "print(type(l[4]))"
   ]
  },
  {
   "cell_type": "code",
   "execution_count": 29,
   "metadata": {},
   "outputs": [
    {
     "name": "stdout",
     "output_type": "stream",
     "text": [
      "{1: ('1', 2), 2: ('1', '2'), 100: {444: ('1', 2), 445: ('1', '2'), 446: ('2', '3')}, 3: ('2', '3'), 4: '3'}\n",
      "<class 'dict'>\n",
      "l[1]=  ('1', 2)\n",
      "l[100]=  {444: ('1', 2), 445: ('1', '2'), 446: ('2', '3')}\n"
     ]
    }
   ],
   "source": [
    "# Dictionary can contain dictionaries\n",
    "l = {1: ('1',2), 2: ('1', '2'), 100:{444: ('1',2), 445: ('1', '2'), 446: ('2', '3')},3: ('2', '3'), 4: ('3')}\n",
    "print(l)\n",
    "print(type(l))\n",
    "print(\"l[1]= \",l[1])\n",
    "print(\"l[100]= \",l[100])"
   ]
  },
  {
   "cell_type": "code",
   "execution_count": null,
   "metadata": {},
   "outputs": [],
   "source": [
    "# List can contain tuples\n",
    "# type your code here\n",
    "\n",
    "print(l)\n",
    "print(l[2])\n",
    "print(type(l))\n",
    "print(type(l[2]))"
   ]
  },
  {
   "cell_type": "code",
   "execution_count": null,
   "metadata": {},
   "outputs": [],
   "source": [
    "# Tuple can contain lists\n",
    "# type your code here\n",
    "l=[1,2,(999,888),3,4]\n",
    "print(l)\n",
    "print(l[2])\n",
    "print(type(l))\n",
    "print(type(l[2]))"
   ]
  }
 ],
 "metadata": {
  "kernelspec": {
   "display_name": "Python 3",
   "language": "python",
   "name": "python3"
  },
  "language_info": {
   "codemirror_mode": {
    "name": "ipython",
    "version": 3
   },
   "file_extension": ".py",
   "mimetype": "text/x-python",
   "name": "python",
   "nbconvert_exporter": "python",
   "pygments_lexer": "ipython3",
   "version": "3.7.4"
  },
  "toc": {
   "base_numbering": 1,
   "nav_menu": {},
   "number_sections": true,
   "sideBar": true,
   "skip_h1_title": false,
   "title_cell": "Table of Contents",
   "title_sidebar": "Contents",
   "toc_cell": false,
   "toc_position": {},
   "toc_section_display": true,
   "toc_window_display": false
  }
 },
 "nbformat": 4,
 "nbformat_minor": 2
}
