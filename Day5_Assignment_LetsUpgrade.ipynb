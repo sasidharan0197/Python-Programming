{
 "cells": [
  {
   "cell_type": "markdown",
   "metadata": {},
   "source": [
    "# DAY 5 - ASSIGNMENT BY SASIDHARAN SRINIVASAN\n",
    ">Dated on 10/04/2020"
   ]
  },
  {
   "cell_type": "markdown",
   "metadata": {},
   "source": [
    "# ASSIGNMENT 1 - GENERATES THE DICTIONARY"
   ]
  },
  {
   "cell_type": "raw",
   "metadata": {},
   "source": [
    "write a program that generates a dictionary d which contains (i,i*i), where i is from 1 to n (both included).\n",
    "Then you have to just print this dictionary d.\n",
    "\n",
    "Example:\n",
    "Input: 4\n",
    "will give output as\n",
    "{1: 1, 2: 4, 3: 9, 4: 16}\n",
    "\n",
    "Input Format:\n",
    "Take the number n in a single line.\n",
    "\n",
    "Output Format:\n",
    "Print the dictionary d in a single line.\n",
    "\n",
    "Example:\n",
    "Input:\n",
    "8\n",
    "\n",
    "Output:\n",
    "{1: 1, 2: 4, 3: 9, 4: 16, 5: 25, 6: 36, 7: 49, 8: 64}\n",
    "\n",
    "\n",
    "Explanation:\n",
    "Here n is 8, we will start from i=1, hence the first element of the dictionary is (1: 1), as i becomes 2, the second element of the dictionary becomes (2: 4) and so on.\n",
    "Hence the output will be {1: 1, 2: 4, 3: 9, 4: 16, 5: 25, 6: 36, 7: 49, 8: 64}."
   ]
  },
  {
   "cell_type": "code",
   "execution_count": 3,
   "metadata": {},
   "outputs": [
    {
     "name": "stdout",
     "output_type": "stream",
     "text": [
      "The Type of Dictionary is: <class 'dict'>\n",
      "Enter the Value of n (Must be Integer):5\n",
      "The Output Dictionary is: {1: 1, 2: 4, 3: 9, 4: 16, 5: 25}\n"
     ]
    }
   ],
   "source": [
    "#Program Part\n",
    "\n",
    "Dictionary = {}                                                      #Intialize dictionary     \n",
    "print('The Type of Dictionary is:',type(Dictionary))                 #Check it is Dictionary\n",
    "User_Input = input(\"Enter the Value of n (Must be Integer):\")        #Get value of n from user\n",
    "if User_Input.isdigit():                                             #Check the input contains any alphabets, if no, then proceed the next line\n",
    "    Convert_Input = int(User_Input)                                  #Conversion from str to int\n",
    "    Convert_Input = abs(Convert_Input)                               #Convert into absolute value\n",
    "    i=0                                                              #Initialize while loop as i=0\n",
    "    while i<= Convert_Input:                       \n",
    "        if i>0:\n",
    "            Dictionary.update({i:i**2})                              #Update function is used update the iterated value\n",
    "        i+=1 \n",
    "    print('The Output Dictionary is:',Dictionary)                    #Printing result dictionary\n",
    "else:\n",
    "    print(\"The input contains Alphabets, Try again !\")               #Throws message to user if input contains other than numeric"
   ]
  },
  {
   "cell_type": "markdown",
   "metadata": {},
   "source": [
    "# ASSIGNMENT 2 - GENERATES THE LIST AS PER USER'S RANGE"
   ]
  },
  {
   "cell_type": "raw",
   "metadata": {},
   "source": [
    "You have also seen how list slicing is performed in python.\n",
    "In this program, create a list of numbers from 1 to 50 named list_1. The numbers should\n",
    "be present in the increasing order: Ex list_1 = [1,2,3,4,5,....,50]\n",
    "i.e. index zero should be 1, index one should be 2, index two should be 3 and so on.\n",
    "Given an input of two numbers, let's say a and b, you have to print the numbers returned\n",
    "by the following command\n",
    "list_1[a:b]\n",
    "Input:\n",
    "The first line of input contains two numbers a and b separated by a space.\n",
    "NOTE: You can take two inputs in a single line using the following command:\n",
    "a, b = input().split()\n",
    "Make sure you convert the strings in a and b into integers using the int() command\n",
    "Output:\n",
    "Print the numbers in new line\n",
    "Example:\n",
    "Input:\n",
    "2 6\n",
    "Output:\n",
    "3\n",
    "4\n",
    "5\n",
    "6\n",
    "Explanation: In this example, a is 2 and b is 6. The list_1 contains numbers from 1 to 50.\n",
    "When you perform the operation list_1[a:b] which in this case is, list_1[2:6], it returns a\n",
    "list of following numbers [3, 4, 5, 6]. Print the elements of this list with each element in a\n",
    "new line"
   ]
  },
  {
   "cell_type": "code",
   "execution_count": 24,
   "metadata": {},
   "outputs": [
    {
     "name": "stdout",
     "output_type": "stream",
     "text": [
      "2 5\n",
      "The Generated List is:  [3, 4, 5]\n",
      "The Required output is:\n",
      "3\n",
      "4\n",
      "5\n"
     ]
    }
   ],
   "source": [
    "#Program to print the numbers\n",
    "def generate_the_list():                        #User Defined Function to generate the list range from 1 to 50\n",
    "    Input_List = []                             # Intialize the list to be empty\n",
    "    for s in range(1, 51):                      # using for for loop to generate the list ranges from 1 to 50\n",
    "        Input_List.append(s)   \n",
    " #   print(\"User List is \", Input_List)          #Printing the Input list range from 1 to 50\n",
    "\n",
    "    \n",
    "def generate_op_in_newline(x,y):                #User defined function to print the list into the new line\n",
    "    print(\"The Required output is:\")            # Print the user's message\n",
    "    for j in Input_List[int(x):int(y)]:         #Using the for loop to print the list into the new line\n",
    "            print(j)                            #printing the elements (items) from the list into the new line\n",
    "            \n",
    "            \n",
    "generate_the_list()                             # Call the user defined function for genrate the list ranges from 1 to 50\n",
    "A,B = input().split()                           # Getting User's range in the same input delimited using space\n",
    "if A.isdigit():                                 # Check if input A contains any other numeric value\n",
    "    if B.isdigit():                             # Check if input B contains any other numeric value\n",
    "        a= int(A)                               # Type conversion of input A <str> to <int>\n",
    "        b= int(B)                               # Type Conversion of input B <str> to <int>\n",
    "        a= abs(a)                               # Convert a into absolute value \n",
    "        b= abs(b)                               # Convert b into absolute value \n",
    "        if a>=1 and b<=50:                      # Check if my input is in the range of 1 to 50\n",
    "            print('The Generated List is: ',Input_List[a:b])      # Printing the list as per the range of user's input\n",
    "            generate_op_in_newline(a,b)                           # Call the generated list into a new line function (User - Defined)\n",
    "        else:                                                     # If input not in range, Print the error message\n",
    "            print(\"Your Input is out of in range, Try again\")            \n",
    "    else:                                                         # If Input B Contains any other non-numeric print the errpr message\n",
    "        print(\"The Input B contains otherthan Numeric value\")\n",
    "else:                                                             # If Input B Contains any other non-numeric print the errpr message\n",
    "    print(\"The Input A contains Otherthan Numeric Value\")"
   ]
  },
  {
   "cell_type": "markdown",
   "metadata": {},
   "source": [
    "# ASSIGNMENT COMPLETED"
   ]
  }
 ],
 "metadata": {
  "kernelspec": {
   "display_name": "Python 3",
   "language": "python",
   "name": "python3"
  },
  "language_info": {
   "codemirror_mode": {
    "name": "ipython",
    "version": 3
   },
   "file_extension": ".py",
   "mimetype": "text/x-python",
   "name": "python",
   "nbconvert_exporter": "python",
   "pygments_lexer": "ipython3",
   "version": "3.7.6"
  }
 },
 "nbformat": 4,
 "nbformat_minor": 4
}
