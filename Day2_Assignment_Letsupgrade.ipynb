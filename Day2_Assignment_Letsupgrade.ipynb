{
 "cells": [
  {
   "cell_type": "markdown",
   "metadata": {},
   "source": [
    "# DAY2 ASSIGNMENT \n",
    "\n",
    "> BY SASIDHARAN SRINIVASAN \n",
    ">> DATED ON 07.04.2020"
   ]
  },
  {
   "cell_type": "markdown",
   "metadata": {},
   "source": [
    "# TOPIC : Learnings from  Dr. Darshan Ingle"
   ]
  },
  {
   "cell_type": "raw",
   "metadata": {},
   "source": [
    "1. Script Mode and Interactive Mode:\n",
    "\n",
    " Interactive Mode: In the Interactive Mode, whatever the Functions were used by the user it performs the execution immwdiately. \n",
    " It is Preferably to test the part of the program (Debugging Purposes)\n",
    " \n",
    " Script Mode: Inorder to make a project using programming languages, always the developer used the script mode. Because in the script mode alone to execute all the Predefined and User defined functions concurrently. "
   ]
  },
  {
   "cell_type": "raw",
   "metadata": {},
   "source": [
    "2. Etymology of Extensions:\n",
    "\n",
    "In general the Extension of python programming file is .py\n",
    "\n",
    "But for Jupyter Notebook the extension of python programming file .ipynb\n",
    "where ipy - Earlier Name of Jupyter Notebook is ipython that's why arrived as ipy\n",
    "      nb - Note Book"
   ]
  },
  {
   "cell_type": "code",
   "execution_count": null,
   "metadata": {},
   "outputs": [],
   "source": [
    "3. How to open and use the Jupyter Notebook in an efficient way\n",
    "\n",
    "Launch the Jupyter Notebook from the installed directory or available in the start menu.\n",
    "\n",
    "A Terminal window appears after that a localhost web page appears in the default web browser. If the launched tab supposed \n",
    "to be closed by user, we re-run the web page using the URL availabe in the terminal window manually.\n",
    "\n",
    "(Note: In the terminal Window we can use directly quit the program using Close button or using the short-cut key as Ctrl+c)\n",
    "\n",
    "Usage of Raw NBConvert in Jupyter Notbook, Intendation of Titles and subtitles using (>  single intendation) & (>> Double intendation)"
   ]
  },
  {
   "cell_type": "code",
   "execution_count": 6,
   "metadata": {},
   "outputs": [
    {
     "name": "stdout",
     "output_type": "stream",
     "text": [
      "The Sum of A and B is: ( 10 + 5 )= 15\n",
      "The Difference of A and B is: ( 10 - 5 )= 5\n",
      "The Product of A and B is: ( 10 X 5 )= 50\n",
      "The Division(Quotient) of A by B is: ( 10 / 5 )= 2.0\n",
      "The Division(Remeinder) of A and B is: ( 10 % 5 )= 0\n",
      "The Exponent of A to the power B is: ( 10 ^ 5 )= 100000\n"
     ]
    }
   ],
   "source": [
    "#Print the concatenated string along with operations.\n",
    "\n",
    "#Let us consider the two variables as A and B and Initialized as A=10 and B = 5, Some of the arithmetical operations are listed Below\n",
    "\n",
    "A = 10\n",
    "B = 5\n",
    "\n",
    "print('The Sum of A and B is:','(',A,'+',B,')=',A+B)\n",
    "print('The Difference of A and B is:','(',A,'-',B,')=',A-B)\n",
    "print('The Product of A and B is:','(',A,'X',B,')=',A*B)\n",
    "print('The Division(Quotient) of A by B is:','(',A,'/',B,')=',A/B)\n",
    "print('The Division(Remeinder) of A and B is:','(',A,'%',B,')=',A%B)\n",
    "print('The Exponent of A to the power B is:','(',A,'^',B,')=',A**B)"
   ]
  },
  {
   "cell_type": "code",
   "execution_count": 16,
   "metadata": {},
   "outputs": [
    {
     "name": "stdout",
     "output_type": "stream",
     "text": [
      "The Current Working Directory is: C:\\Users\\SASIDHARAN\\Lest Upgrade\\Day 2\n",
      "The Current User Login name as:  SASIDHARAN\n"
     ]
    }
   ],
   "source": [
    "#How to include the Librarires in Python and How to find the Current Working Directory using the Predefined functions\n",
    "\n",
    "import os #Import is the keyword used to import the predefined library\n",
    "print('The Current Working Directory is:',os.getcwd())   #getcwd is used to find the current working directory \n",
    "print('The Current User Login name as: ',os.getlogin())  #getlogin is used"
   ]
  },
  {
   "cell_type": "code",
   "execution_count": 21,
   "metadata": {},
   "outputs": [
    {
     "name": "stdout",
     "output_type": "stream",
     "text": [
      "20 + 15 - 10 + 5 = 30\n",
      "20 * 15 / 10 * 5 = 150.0\n",
      "20 + 15 / 10 * 5 = 27.5\n"
     ]
    }
   ],
   "source": [
    "#Performing the Multiple Operands to perform the arithmetical operations\n",
    "\n",
    "#Let us consider the two variables as A and B and Initialized as A=20 ,B = 15, C=10 and D=5\n",
    "#Some of the arithmetical operations are listed Below\n",
    "\n",
    "A = 20\n",
    "B = 15\n",
    "C = 10\n",
    "D = 5\n",
    "\n",
    "print(A,'+',B,'-',C,'+',D, '=',A+B-C+D)\n",
    "print(A,'*',B,'/',C,'*',D, '=',A*B/C*D)\n",
    "print(A,'+',B,'/',C,'*',D, '=',A+B/C*D)"
   ]
  },
  {
   "cell_type": "code",
   "execution_count": 28,
   "metadata": {},
   "outputs": [
    {
     "name": "stdout",
     "output_type": "stream",
     "text": [
      "The Type of A is <class 'complex'>\n",
      "The Type of B is <class 'complex'>\n",
      "The Sum of Two complex Numbers of AI and BI is:  (4+5j)\n",
      "The Difference of Two complex Numbers of AI and BI is:  1j\n",
      "The Product of Two complex Numbers of AI and BI is:  (-2+10j)\n"
     ]
    }
   ],
   "source": [
    "#Performing the Complex Number\n",
    "\n",
    "#In Python directly used the complex numbers to perform the required operations\n",
    "\n",
    "AI = 2+3j\n",
    "BI = 2+2j\n",
    "print('The Type of A is',type(AI))\n",
    "print('The Type of B is',type(BI))\n",
    "print('The Sum of Two complex Numbers of AI and BI is: ',AI+BI)\n",
    "print('The Difference of Two complex Numbers of AI and BI is: ',AI-BI)\n",
    "print('The Product of Two complex Numbers of AI and BI is: ',AI*BI)"
   ]
  },
  {
   "cell_type": "code",
   "execution_count": 34,
   "metadata": {},
   "outputs": [
    {
     "name": "stdout",
     "output_type": "stream",
     "text": [
      "The type of A is  <class 'tuple'>\n",
      "The value of A is:  (1, 0, 0)\n"
     ]
    }
   ],
   "source": [
    "#How the Python performed the regular usage numbers.\n",
    "\n",
    "# Let A = 1,00,0000 (Say 1 Lakh as we represent in a day to day usage), In python this declartion can be converted into Tuples\n",
    "\n",
    "A = 1,00,000\n",
    "print('The type of A is ',type(A))\n",
    "print('The value of A is: ',A)"
   ]
  },
  {
   "cell_type": "raw",
   "metadata": {},
   "source": [
    "How to Declare the variable in Python programming\n",
    "\n",
    "In Python Programming the Variable name can be either alphabets or alphanumeric \n",
    "\n",
    "Rule1: A variable(Container) name cannot be a Numeric\n",
    "Rule2: A Variable(Container) name can be single char or a string (like A = 10 or Python = 10) where the variable (Container) name cannot be list, dict,str\n",
    "Rule3: A Variable(Container) name can be a alpha-numeric (Mix up of Alphabets and Numeric) (Like Python_1 = 10 or Python1=10)\n",
    "where the vairable(Container) Name cannot be like 1_Python = 10 or 1Python = 10\n",
    "\n",
    "Note: While Using a Numeric in the variable name it must be used at the Right precedence of the variable name."
   ]
  },
  {
   "cell_type": "code",
   "execution_count": 58,
   "metadata": {},
   "outputs": [
    {
     "name": "stdout",
     "output_type": "stream",
     "text": [
      "The Defined string as:  Hello World\n",
      "Substring using forward index:  Hello\n",
      "Printing of world in the String as:  World\n",
      "The Defined string as:  Hello World\n",
      "Hello word printing from the string:  Hello World As: Hello\n"
     ]
    }
   ],
   "source": [
    "#Performing the substring operations in python using Forward index and Backward index operation\n",
    "\n",
    "#Concept of Forward Index\n",
    "\n",
    "#Let STR = \"Hello World\" Forward index values are(H-0,e-1,l-2,l-3,o-4,<white space> -5,W-6,o-7,r-8,l-9,d-10)\n",
    "# If user wants to print the string as Hello from Hello world string \n",
    "\n",
    "STR = \"Hello World\"\n",
    "print('The Defined string as: ',STR)\n",
    "print('Substring using forward index: ',STR[0:5])  #0 - indicates the start of index and 5: position of end char in the string\n",
    "print('Printing of world in the String as: ', STR[6:11]) #6 - indicates the start of index and 11: position of end char in the string\n",
    "\n",
    "\n",
    "\n",
    "#Concept of Backward Index\n",
    "#Let STR = \"Hello World\" Backward index values are(H:-11,e:-10,l:-9,l:-8,o:-7,<white space> :-6,W:-5,o:-4,r:-3,l:-2,d:-1)\n",
    "\n",
    "print('The Defined string as: ',STR)\n",
    "print('Hello word printing from the string: ',STR, 'As:',STR[-11:-6])\n",
    "#-11 - Position of Starting char and -6 is index of the end character"
   ]
  },
  {
   "cell_type": "raw",
   "metadata": {},
   "source": [
    "Performing the PEMDAS Operation:\n",
    "\n",
    "While in C, C++ Programming Language use the BODMAS Operation for performing the multiple arithmetic operations in the code\n",
    "\n",
    "But in Python, Instead of BODMAS (Braket, Of, Division,Multiplication,Addition & Subraction) here PEMDAS Operation is used\n",
    "i.e., (P - Parentheses, E- Exponent, MD - Multiplication / Division, AS - Addition/ Subraction )\n",
    "\n",
    "Always it Left -> Right Precedence chosen for both MD and AD Operations\n",
    "\n",
    "Let's see the below code"
   ]
  },
  {
   "cell_type": "code",
   "execution_count": 60,
   "metadata": {},
   "outputs": [
    {
     "name": "stdout",
     "output_type": "stream",
     "text": [
      "0\n",
      "4\n",
      "15.0\n",
      "4.333333333333333\n",
      "26.0\n",
      "21.0\n"
     ]
    }
   ],
   "source": [
    "print(2-3+1) # in this conition first it performs the subraction (2-3 = -1) followed by addition (-1+1 = 0) so end result = 0\n",
    "print(2+3-1) # in this condition first it performs the addition (2+3 = 5) followed by Subraction (5-1 = 4) so end result = 4\n",
    "print(4/2*6+3)# in this condition first it performs the Division (4/2 = 2) followed by Multiplication (2*6 = 12) and addition with 3 so end result = 15\n",
    "print(4*2/6+3) # Here performs the multiplication (4X2 = 8) then division 8/6 = 1.333333 at last perform the addtion so result = 4.3333\n",
    "print(4**2/4*6+2) #Here first performs the exponent (4**2 = 16) then 16/4 = 4 and 4*6 = 24 atlast 24+2 = 26\n",
    "print(4**2+(4**2)/4+2-1)# Here first perform the parantheses (4**2 = 16) then 16/4 = 4, then 4+2 = 6 then 6-1 = 5 atlast perforn the 4**2 = 16 + 5 = 21"
   ]
  },
  {
   "cell_type": "code",
   "execution_count": 74,
   "metadata": {},
   "outputs": [
    {
     "name": "stdout",
     "output_type": "stream",
     "text": [
      "Type of A: 3.2 is: <class 'float'>\n",
      "Value of B is: 3\n",
      "Type of B is: <class 'int'>\n",
      "\n",
      "\n",
      "Type of A: 3 is: <class 'int'>\n",
      "Value of B is: 3.0\n",
      "Type of B is: <class 'float'>\n",
      "\n",
      "\n",
      "Type of stray: [3.2, 2, 'loss'] is: <class 'list'>\n",
      "Value of String_B is: [3.2, 2, 'loss']\n",
      "Type of String_B is: <class 'str'>\n",
      "\n",
      "\n",
      "Type of stray: (3.2, 2, 'loss') is: <class 'tuple'>\n",
      "Value of String_B is: (3.2, 2, 'loss')\n",
      "Type of String_B is: <class 'tuple'>\n",
      "\n",
      "\n",
      "Type of stray: (3.2, 2, 'loss') is: <class 'tuple'>\n",
      "Value of String_B is: (3.2, 2, 'loss')\n",
      "Type of String_B is: <class 'str'>\n"
     ]
    }
   ],
   "source": [
    "#Type Conversion\n",
    "\n",
    "#Type conversion is a process of converting one form of datatype to another form of datatype e.g, int-> float or vice versa\n",
    "\n",
    "\n",
    "A = 3.2\n",
    "B = int(A)\n",
    "print('Type of A:',A ,'is:',type(A))        #Convert int -> Float\n",
    "print('Value of B is:',int(B))\n",
    "print('Type of B is:',type(B))\n",
    "\n",
    "print('\\n')           #New line\n",
    "\n",
    "A = 3\n",
    "B = float(A)\n",
    "print('Type of A:',A ,'is:',type(A))      #Convert Float -> int\n",
    "print('Value of B is:',B)\n",
    "print('Type of B is:',type(B))\n",
    "\n",
    "print('\\n')\n",
    "\n",
    "stray = [3.2,2,'loss']\n",
    "String_B = str(stray)\n",
    "print('Type of stray:',stray ,'is:',type(stray))     #Convert list -> String\n",
    "print('Value of String_B is:',String_B)\n",
    "print('Type of String_B is:',type(String_B))\n",
    "\n",
    "print('\\n')\n",
    "\n",
    "stray = (3.2,2,'loss')\n",
    "String_B = tuple(stray)\n",
    "print('Type of stray:',stray ,'is:',type(stray))\n",
    "print('Value of String_B is:',String_B)                 #Convert list -> Tuple\n",
    "print('Type of String_B is:',type(String_B))\n",
    "\n",
    "print('\\n')\n",
    "\n",
    "stray = (3.2,2,'loss')\n",
    "String_B = str(stray)\n",
    "print('Type of stray:',stray ,'is:',type(stray))\n",
    "print('Value of String_B is:',String_B)                 #Convert Tuple -> String\n",
    "print('Type of String_B is:',type(String_B))"
   ]
  },
  {
   "cell_type": "markdown",
   "metadata": {},
   "source": [
    "# DAY 2 - ASSIGNMENT COMPLETED"
   ]
  }
 ],
 "metadata": {
  "kernelspec": {
   "display_name": "Python 3",
   "language": "python",
   "name": "python3"
  },
  "language_info": {
   "codemirror_mode": {
    "name": "ipython",
    "version": 3
   },
   "file_extension": ".py",
   "mimetype": "text/x-python",
   "name": "python",
   "nbconvert_exporter": "python",
   "pygments_lexer": "ipython3",
   "version": "3.7.6"
  }
 },
 "nbformat": 4,
 "nbformat_minor": 4
}
