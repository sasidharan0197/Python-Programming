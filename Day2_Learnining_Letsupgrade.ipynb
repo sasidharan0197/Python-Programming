{
 "cells": [
  {
   "cell_type": "markdown",
   "metadata": {},
   "source": [
    "# DAY 2 LEARINIG PROGRAM"
   ]
  },
  {
   "cell_type": "code",
   "execution_count": 2,
   "metadata": {},
   "outputs": [
    {
     "name": "stdout",
     "output_type": "stream",
     "text": [
      "The addition of A and B is 4\n"
     ]
    }
   ],
   "source": [
    "#Performing the addition Operations\n",
    "A=2\n",
    "B=2\n",
    "print('The addition of A and B is',A+B)"
   ]
  },
  {
   "cell_type": "code",
   "execution_count": 1,
   "metadata": {},
   "outputs": [
    {
     "data": {
      "text/plain": [
       "'C:\\\\Users\\\\SASIDHARAN\\\\Lest Upgrade\\\\Day 2'"
      ]
     },
     "execution_count": 1,
     "metadata": {},
     "output_type": "execute_result"
    }
   ],
   "source": [
    "#It  is used yo find the target path of program running using Jupyter notebook\n",
    "#getcwd - used to get the current working directory\n",
    "import os\n",
    "os.getcwd()"
   ]
  },
  {
   "cell_type": "code",
   "execution_count": 9,
   "metadata": {},
   "outputs": [
    {
     "name": "stdout",
     "output_type": "stream",
     "text": [
      "The BODMAS operation of A,B,C&D is ( 56 + 2 * 58 / 86 ) = 57.348837209302324\n"
     ]
    }
   ],
   "source": [
    "#Performing the BODMAS Operations\n",
    "A=56\n",
    "B=2\n",
    "C=58\n",
    "D=86\n",
    "\n",
    "print('The BODMAS operation of A,B,C&D is','(',A,'+',B,'*',C,'/',D,')','=',A+B*C/D)"
   ]
  },
  {
   "cell_type": "code",
   "execution_count": 10,
   "metadata": {},
   "outputs": [
    {
     "name": "stdout",
     "output_type": "stream",
     "text": [
      "Type of a <class 'complex'>\n"
     ]
    }
   ],
   "source": [
    "#Performing complex numbsers\n",
    "a=1+2j\n",
    "print('Type of a',type(a))"
   ]
  },
  {
   "cell_type": "code",
   "execution_count": 12,
   "metadata": {},
   "outputs": [
    {
     "name": "stdout",
     "output_type": "stream",
     "text": [
      "(1, 0, 0)\n",
      "<class 'tuple'>\n"
     ]
    }
   ],
   "source": [
    "#Performing regular usage number\n",
    "a=1,00,000\n",
    "print(a)\n",
    "print(type(a))"
   ]
  },
  {
   "cell_type": "code",
   "execution_count": 29,
   "metadata": {},
   "outputs": [
    {
     "name": "stdout",
     "output_type": "stream",
     "text": [
      "Pyth\n",
      "P\n",
      "Pyth\n",
      "Hell\n"
     ]
    }
   ],
   "source": [
    "pyt= \"Hello Python\"\n",
    "#Using Forward indeex\n",
    "print(pyt[6:10])\n",
    "print(pyt[6])\n",
    "#Using backward index\n",
    "print(pyt[-6:-2])\n",
    "print(pyt[-12:-8])"
   ]
  },
  {
   "cell_type": "code",
   "execution_count": 36,
   "metadata": {},
   "outputs": [
    {
     "name": "stdout",
     "output_type": "stream",
     "text": [
      "0\n",
      "4\n",
      "15.0\n",
      "4.333333333333333\n",
      "26.0\n",
      "1\n"
     ]
    }
   ],
   "source": [
    "#Perfroming PEMDAS Operation\n",
    "print(2-3+1)\n",
    "print(2+3-1)\n",
    "print(4/2*6+3)\n",
    "print(4*2/6+3)\n",
    "print(4**2/4*6+2)\n",
    "#with strings '+' - concat and '*' - repetion"
   ]
  },
  {
   "cell_type": "code",
   "execution_count": 1,
   "metadata": {},
   "outputs": [
    {
     "name": "stdout",
     "output_type": "stream",
     "text": [
      "3\n",
      "<class 'int'>\n",
      "[1, 2, 3]\n",
      "(1, 2, 5)\n"
     ]
    }
   ],
   "source": [
    "#Type conversion\n",
    "print(int(3.2))\n",
    "print(type(int(3.2)))\n",
    "print(str([1,2,3]))\n",
    "print(tuple([1,2,5]))"
   ]
  }
 ],
 "metadata": {
  "kernelspec": {
   "display_name": "Python 3",
   "language": "python",
   "name": "python3"
  },
  "language_info": {
   "codemirror_mode": {
    "name": "ipython",
    "version": 3
   },
   "file_extension": ".py",
   "mimetype": "text/x-python",
   "name": "python",
   "nbconvert_exporter": "python",
   "pygments_lexer": "ipython3",
   "version": "3.7.6"
  }
 },
 "nbformat": 4,
 "nbformat_minor": 4
}
