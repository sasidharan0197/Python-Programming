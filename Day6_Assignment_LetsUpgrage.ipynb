{
 "cells": [
  {
   "cell_type": "markdown",
   "metadata": {},
   "source": [
    "# DAY 6 - ASSIGNMENT BY SASIDHARAN SRINIVASAN\n",
    "> DATED ON 11-04-2020"
   ]
  },
  {
   "cell_type": "markdown",
   "metadata": {},
   "source": [
    "# ASSIGNMENT 1 - PROGRAM TO FIND THE HOLES FROM THE INPUT STRING"
   ]
  },
  {
   "cell_type": "raw",
   "metadata": {},
   "source": [
    "Let us assume paper as the plane and a letter as a curve on the plane, then each letter divides the plane into regions. For example letters \"A\", \"D\",\"O\", \"P\", \"R\" divide the plane into two regions so we say these letters each have one hole. Similarly, letter \"B\" has two holes and letters such as \"C\",\"E\", \"F\", \"K\" have no holes. We say that the number of holes in the text is equal to the total number of holes in the letters of the text.\n",
    "Write a program to determine how many holes are in a given text.\n",
    "Input Format:\n",
    "The only line contains a non-empty text composed only of uppercase letters of English alphabet.\n",
    "Output Format:\n",
    "output a single line containing the number of holes in the corresponding text.\n",
    "Example:\n",
    "Input:\n",
    "DRINKEATCODE\n",
    "Output:\n",
    "5\n",
    "Explanation:\n",
    "D R A O D has one hole hence total number of holes in the text is 5."
   ]
  },
  {
   "cell_type": "code",
   "execution_count": 3,
   "metadata": {},
   "outputs": [
    {
     "name": "stdout",
     "output_type": "stream",
     "text": [
      "Enter your input string:Big\n",
      "The Output is:\n",
      "B g \t The total number of holes in the input text is:  4\n",
      "\n",
      "\n"
     ]
    }
   ],
   "source": [
    "#Program part\n",
    "\n",
    "#In this program, if user entered any numeric or alphanumeric input it prints the statement as \n",
    "#The Input Entered by you contains Numeric, Try again\n",
    "\n",
    "#In this program i have included the lower case alphabets also\n",
    "\n",
    "def convert_str_to_list(Input_str):             # Declare the user-defined function for convert the string into list  \n",
    "    Input_List=[]                               # Initialised the list     \n",
    "    i=0                                         # Initialised the iterated value\n",
    "    while i < len(Input_str):                   # while loop starts untill the length of input string\n",
    "        Input_List.append(Input_str[i])         # using append function converted the input string to list \n",
    "        i+=1\n",
    "    return Input_List\n",
    "            \n",
    "\n",
    "def get_one_hole(Listx):                        # Declare the user-defined function for check the number of one hole alphabets\n",
    "    Hole_List = ['A','B','D','O','P','R','a','b','d','e','g','o','p','q']  #List contains the elements of one hole alphabets of both lower and upper cases\n",
    "    oh_count = 0                                # Intialised the one hole count to zero\n",
    "    for i in Hole_List:                         # Using for loop structure comparison takes place with avaliable lsit and generated input list\n",
    "        for j in Listx:\n",
    "            if(i==j):                           # Check if the elements in the both the list are same\n",
    "                print(i, end=\" \")               # Printing compared list elements\n",
    "                if(i=='B' or i=='g'):\n",
    "                    oh_count+=2                     # Incremented by 2 if element has B\n",
    "                else:\n",
    "                    oh_count+=1                     # Incremented one 1 if element has one_hole\n",
    "    print('\\t The total number of holes in the input text is: ',oh_count)  #Printing the output of one hole count\n",
    "    print(\"\\n\")            \n",
    "\n",
    "\n",
    "Input_String = str(input(\"Enter your input string:\"))  # Getting the string input from user \n",
    "if Input_String.isalpha():                             # Check if the input contains any numeric values, if exists goto else statment\n",
    "    Input_Lists = convert_str_to_list(Input_String)    # Call the Convert string to list function as defined above by passing the string argument\n",
    "    print(\"The Output is:\")\n",
    "    get_one_hole(Input_Lists)                          # Call the one hole alpha check function as defined above by passing the converted list argument\n",
    "else:\n",
    "    print(\"The Input Entered by you contains Numeric, Try again\") #Print the message as input contains numeric\n",
    "    \n",
    "    \n",
    "    \n",
    "#Program end\n",
    "# If my input is MAHABARATH, then output will be A A A A B R \t The total number of holes in the input text is:  7\n",
    "# If my input is DRINKEATCODE, then output will be A D D O R \t The total number of holes in the input text is:  5"
   ]
  },
  {
   "cell_type": "markdown",
   "metadata": {},
   "source": [
    "# ASSIGNMENT 2: MAP, FILTER AND LAMBADA FUNCTION\n",
    "\n",
    "> map(), filter() and reduce() are built in function of python\n",
    "\n",
    "> This function enable the functional programming aspects of python.\n",
    "\n",
    "> In functional programming, the arguments passed are the only factors that decide upon the output\n",
    "\n",
    "> This built-in function can take any other function as parameter and can be supplied to other function as a parameter as well."
   ]
  },
  {
   "cell_type": "markdown",
   "metadata": {},
   "source": [
    "# 1. map() - function\n",
    "\n",
    "> It applies the given function to all iterables and return a new list.\n",
    "\n",
    ">> Syntax: map(function,iterables)"
   ]
  },
  {
   "cell_type": "code",
   "execution_count": 11,
   "metadata": {},
   "outputs": [
    {
     "name": "stdout",
     "output_type": "stream",
     "text": [
      "9\n",
      "[1, 4, 9]\n"
     ]
    }
   ],
   "source": [
    "# A Typical program without a map function inorder to clearly understand the concept of map function\n",
    "\n",
    "def area_of_square(area):\n",
    "    return area**2\n",
    "\n",
    "X = area_of_square(3)          \n",
    "print(X)\n",
    "\n",
    "# The output will be 9. \n",
    "#Similar program With map function as follows\n",
    "\n",
    "def square_of_num(num):\n",
    "    return num**2\n",
    "Y = map(square_of_num,[1,2,3])\n",
    "#print(Y)                        # It exhibits error as Map object error, beacuse of by passing the list parameter to the defined function it returns the list, such that\n",
    "print(list(Y))                   # it is converted into list\n",
    "\n",
    "# The output will be [1,4,9], as we defined the function to print the square of number, if we pass the list using map function, then it prints the output as a list"
   ]
  },
  {
   "cell_type": "code",
   "execution_count": 12,
   "metadata": {},
   "outputs": [
    {
     "name": "stdout",
     "output_type": "stream",
     "text": [
      "(25, 36, 49, 64)\n"
     ]
    }
   ],
   "source": [
    "#Map function not only applicable to list even it supports tuple also\n",
    "\n",
    "Z = map(square_of_num,(5,6,7,8))\n",
    "print(tuple(Z))\n",
    "\n",
    "#By running the code, it gets the output as (25, 36, 49, 64)\n",
    "# So it's clear understand that the map function returns a new list as well as new tuple"
   ]
  },
  {
   "cell_type": "code",
   "execution_count": 16,
   "metadata": {},
   "outputs": [
    {
     "name": "stdout",
     "output_type": "stream",
     "text": [
      "<class 'map'>\n",
      "[9, 16, 21, 24, 25]\n",
      "[9, 16, 21, 24, 25]\n"
     ]
    }
   ],
   "source": [
    "#Multiplication of Elements in the List with another List (List A X list B)\n",
    "def prod_2_num(a,b):\n",
    "    return a*b\n",
    "\n",
    "E = map(prod_2_num,[1,2,3,4,5],[9,8,7,6,5])\n",
    "print(type(E))\n",
    "print(list(E))\n",
    "\n",
    "#The program make simple as (Function composition)\n",
    "print(list(map(prod_2_num,[1,2,3,4,5],[9,8,7,6,5])))"
   ]
  },
  {
   "cell_type": "markdown",
   "metadata": {},
   "source": [
    "# 2. lambda() Function:\n",
    "\n",
    "> Everything in the world of programming requires a name, but there still there are a few ananymous mysteries.\n",
    "> Lambda function or Lambda expressions are one of these kind of entities that are nameless.\n",
    "\n",
    "> They are the functions that do not have any name.\n",
    "> We also called them as ananymous or nameless functions.\n",
    "\n",
    "> They are generally provided as input to other functions.\n",
    "\n",
    "> lambda functions are single line functions. Therefore we have to provide the expression along with function itself.\n",
    "\n",
    "> Note: lambda is not a name, it is a keyword\n",
    "\n",
    "\n",
    ">> Use of Lambda Functions:\n",
    ">>> One time use: They are used in the places where we know that the function will \n",
    ">>>               be required just once. Therefore, lambda function is also called as throw away function\n",
    "\n",
    ">>> Input/Output to Other Functions: They are also passed as inputs or returned as output of other higher-order functions\n",
    "\n",
    ">>> Reduce code size: The body of lambda function written in a single line, so as to reduce the size of code\n",
    "\n",
    "\n",
    ">> SYNTAX:     lambda arguments: expressions\n"
   ]
  },
  {
   "cell_type": "code",
   "execution_count": 19,
   "metadata": {},
   "outputs": [
    {
     "name": "stdout",
     "output_type": "stream",
     "text": [
      "81\n",
      "4\n"
     ]
    }
   ],
   "source": [
    "#Without lambda function,\n",
    "\n",
    "def sqr(a):\n",
    "    return a**2\n",
    "\n",
    "print(sqr(9))\n",
    "#it prints the square value of the 9(arg)\n",
    "\n",
    "#Using the lambda function:\n",
    "\n",
    "s = lambda a:a**2                   #Lambda expressions must be in single line.\n",
    "print(s(2))"
   ]
  },
  {
   "cell_type": "code",
   "execution_count": 20,
   "metadata": {},
   "outputs": [
    {
     "name": "stdout",
     "output_type": "stream",
     "text": [
      "11\n"
     ]
    }
   ],
   "source": [
    "#Lambda within the user defind function\n",
    "\n",
    "def xyz(a):\n",
    "    return lambda y: a+y\n",
    "t= xyz(5)     #It assigns the value os a = 5 in xyz\n",
    "print(t(6))   # Here only the value of y passed as 6, hence the output will be the sum of 5&6 to be 11"
   ]
  },
  {
   "cell_type": "code",
   "execution_count": 21,
   "metadata": {},
   "outputs": [
    {
     "data": {
      "text/plain": [
       "121"
      ]
     },
     "execution_count": 21,
     "metadata": {},
     "output_type": "execute_result"
    }
   ],
   "source": [
    "#Solving Algebraic equation using lambda function\n",
    "#i.e., Quadratic equation  square of (a+b)\n",
    "\n",
    "z= lambda x,y:(x+y)**2\n",
    "z(5,6)"
   ]
  },
  {
   "cell_type": "code",
   "execution_count": 22,
   "metadata": {},
   "outputs": [
    {
     "name": "stdout",
     "output_type": "stream",
     "text": [
      "[4, 5, 6, 7, 8]\n"
     ]
    }
   ],
   "source": [
    "#Using both lambda and map function\n",
    "\n",
    "List = [1,2,3,4,5]\n",
    "\n",
    "output = list(map(lambda d: d+3,List))  #did the addition of 3 with individual elements in the list\n",
    "print(output)"
   ]
  },
  {
   "cell_type": "markdown",
   "metadata": {},
   "source": [
    "# DAY 6: ASSIGNMENT COMPLETED"
   ]
  }
 ],
 "metadata": {
  "kernelspec": {
   "display_name": "Python 3",
   "language": "python",
   "name": "python3"
  },
  "language_info": {
   "codemirror_mode": {
    "name": "ipython",
    "version": 3
   },
   "file_extension": ".py",
   "mimetype": "text/x-python",
   "name": "python",
   "nbconvert_exporter": "python",
   "pygments_lexer": "ipython3",
   "version": "3.7.6"
  }
 },
 "nbformat": 4,
 "nbformat_minor": 4
}
