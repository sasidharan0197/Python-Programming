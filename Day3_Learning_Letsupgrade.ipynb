{
 "cells": [
  {
   "cell_type": "code",
   "execution_count": 11,
   "metadata": {},
   "outputs": [
    {
     "name": "stdout",
     "output_type": "stream",
     "text": [
      "True\n",
      "False\n",
      "True\n",
      "True\n"
     ]
    }
   ],
   "source": [
    "#Logical Operators\n",
    "S = True\n",
    "T= False\n",
    "\n",
    "print(S or T)\n",
    "print(S and T)\n",
    "print(S)\n",
    "print(not(T))"
   ]
  },
  {
   "cell_type": "code",
   "execution_count": 6,
   "metadata": {},
   "outputs": [
    {
     "name": "stdout",
     "output_type": "stream",
     "text": [
      "2.5\n",
      "2\n",
      "25\n"
     ]
    }
   ],
   "source": [
    "#Arithmetic Operators\n",
    "\n",
    "print(5/2)\n",
    "print(5//2)\n",
    "print(5**2)"
   ]
  },
  {
   "cell_type": "code",
   "execution_count": 10,
   "metadata": {},
   "outputs": [
    {
     "name": "stdout",
     "output_type": "stream",
     "text": [
      "True\n",
      "True\n",
      "True\n"
     ]
    }
   ],
   "source": [
    "#Relational Operators\n",
    "print(2<3)\n",
    "print(3>1)\n",
    "print(1<=2)"
   ]
  },
  {
   "cell_type": "code",
   "execution_count": 16,
   "metadata": {},
   "outputs": [
    {
     "name": "stdout",
     "output_type": "stream",
     "text": [
      "0\n",
      "6\n",
      "6\n"
     ]
    }
   ],
   "source": [
    "#Bitwise Operators\n",
    "s=2\n",
    "t=4\n",
    "print(s&t)\n",
    "print(s|t)\n",
    "print(s^t)"
   ]
  },
  {
   "cell_type": "code",
   "execution_count": 18,
   "metadata": {},
   "outputs": [
    {
     "name": "stdout",
     "output_type": "stream",
     "text": [
      "True\n",
      "False\n"
     ]
    }
   ],
   "source": [
    "#Identity operator\n",
    "a=2\n",
    "b=2\n",
    "c=3\n",
    "print(a is b)\n",
    "print(a is c)"
   ]
  },
  {
   "cell_type": "code",
   "execution_count": 27,
   "metadata": {},
   "outputs": [
    {
     "name": "stdout",
     "output_type": "stream",
     "text": [
      "526 even number !\n"
     ]
    }
   ],
   "source": [
    "#Conditional Execution\n",
    "x=526\n",
    "y=555\n",
    "if x%2 == 0:\n",
    "    print(x,'even number !')\n",
    "else:\n",
    "        print(x,'Odd Number !')"
   ]
  },
  {
   "cell_type": "code",
   "execution_count": 32,
   "metadata": {},
   "outputs": [
    {
     "name": "stdout",
     "output_type": "stream",
     "text": [
      "30 Lesser than 40\n",
      "\n",
      "\n",
      "42 Greater than 40\n",
      "\n",
      "\n",
      "40 Is equal to 40\n"
     ]
    }
   ],
   "source": [
    "#Elseif statment\n",
    "X= 30\n",
    "Y=42\n",
    "Z = 40\n",
    "if X>40:\n",
    "    print(X, 'Greater than 40')\n",
    "elif X<40:\n",
    "    print(X, 'Lesser than 40')\n",
    "else:\n",
    "    print(X, 'Is equal to 40')\n",
    "\n",
    "print('\\n')\n",
    "if Y>40:\n",
    "    print(Y, 'Greater than 40')\n",
    "elif Y<40:\n",
    "    print(Y, 'Lesser than 40')\n",
    "else:\n",
    "    print(Y, 'Is equal to 40')\n",
    "    \n",
    "print('\\n')\n",
    "\n",
    "if Z>40:\n",
    "    print(Z, 'Greater than 40')\n",
    "elif Z<40:\n",
    "    print(Z, 'Lesser than 40')\n",
    "else:\n",
    "    print(Z, 'Is equal to 40')"
   ]
  },
  {
   "cell_type": "code",
   "execution_count": 38,
   "metadata": {},
   "outputs": [
    {
     "name": "stdout",
     "output_type": "stream",
     "text": [
      "1\n",
      "Number is: 1\n",
      "\n",
      "\n",
      "2\n",
      "Number is: 2\n",
      "\n",
      "\n",
      "3\n",
      "Number is: 3\n",
      "\n",
      "\n",
      "4\n",
      "Number is: 4\n",
      "\n",
      "\n",
      "5\n",
      "Number is: 5\n",
      "\n",
      "\n",
      "6\n",
      "Number is: 6\n",
      "\n",
      "\n"
     ]
    }
   ],
   "source": [
    "#Looping statement\n",
    "n=[1,2,3,4,5,6]\n",
    "for i in n:\n",
    "    print(i)\n",
    "    print('Number is:',i)\n",
    "    print('\\n')"
   ]
  },
  {
   "cell_type": "code",
   "execution_count": 43,
   "metadata": {},
   "outputs": [
    {
     "name": "stdout",
     "output_type": "stream",
     "text": [
      "Number is 1\n",
      "\n",
      "\n",
      "Number is 3\n",
      "\n",
      "\n",
      "Number is 5\n",
      "\n",
      "\n",
      "Number is 7\n",
      "\n",
      "\n",
      "Number is 9\n",
      "\n",
      "\n"
     ]
    }
   ],
   "source": [
    "#Looping statement using while\n",
    "i =1\n",
    "while i<=10:\n",
    "    print('Number is',i)\n",
    "    print('\\n')\n",
    "    i+=2"
   ]
  },
  {
   "cell_type": "code",
   "execution_count": 48,
   "metadata": {},
   "outputs": [
    {
     "name": "stdout",
     "output_type": "stream",
     "text": [
      "S\n",
      "\n",
      "\n",
      "a\n",
      "\n",
      "\n",
      "s\n",
      "\n",
      "\n",
      "i\n",
      "\n",
      "\n",
      " \n",
      "\n",
      "\n",
      "d\n",
      "\n",
      "\n",
      "h\n",
      "\n",
      "\n",
      "a\n",
      "\n",
      "\n",
      "r\n",
      "\n",
      "\n",
      "a\n",
      "\n",
      "\n",
      "n\n",
      "\n",
      "\n",
      "S\n",
      "\n",
      "\n",
      "r\n",
      "\n",
      "\n",
      "i\n",
      "\n",
      "\n",
      "n\n",
      "\n",
      "\n",
      "i\n",
      "\n",
      "\n",
      " \n",
      "\n",
      "\n",
      "V\n",
      "\n",
      "\n",
      "a\n",
      "\n",
      "\n",
      "s\n",
      "\n",
      "\n",
      "a\n",
      "\n",
      "\n",
      "n\n",
      "\n",
      "\n"
     ]
    }
   ],
   "source": [
    "STR =\"Sasi dharan\"\n",
    "STRI = \"Srini Vasan\"\n",
    "for i in STR:\n",
    "    print(i)\n",
    "    print('\\n')\n",
    "for j in STRI:\n",
    "    print(j)\n",
    "    print('\\n')"
   ]
  },
  {
   "cell_type": "code",
   "execution_count": 53,
   "metadata": {},
   "outputs": [
    {
     "name": "stdout",
     "output_type": "stream",
     "text": [
      "P\n",
      "---**-----------****---------**------------\n",
      "y\n",
      "---**-----------****---------**------------\n",
      "h\n",
      "---**-----------****---------**------------\n",
      "t\n",
      "---**-----------****---------**------------\n",
      "o\n",
      "---**-----------****---------**------------\n",
      "n\n",
      "---**-----------****---------**------------\n"
     ]
    }
   ],
   "source": [
    "STR = \"Pyhton\"\n",
    "i=0\n",
    "while i<len(STR):\n",
    "    print(STR[i])\n",
    "    print('---**-----------****---------**------------')\n",
    "    i = i+1;"
   ]
  }
 ],
 "metadata": {
  "kernelspec": {
   "display_name": "Python 3",
   "language": "python",
   "name": "python3"
  },
  "language_info": {
   "codemirror_mode": {
    "name": "ipython",
    "version": 3
   },
   "file_extension": ".py",
   "mimetype": "text/x-python",
   "name": "python",
   "nbconvert_exporter": "python",
   "pygments_lexer": "ipython3",
   "version": "3.7.6"
  }
 },
 "nbformat": 4,
 "nbformat_minor": 4
}
