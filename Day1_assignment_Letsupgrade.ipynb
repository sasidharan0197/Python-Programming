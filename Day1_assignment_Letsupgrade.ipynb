{
 "cells": [
  {
   "cell_type": "markdown",
   "metadata": {},
   "source": [
    "# DAY 1 ASSIGNMENT BY SASIDHARAN SRINIVASAN\n"
   ]
  },
  {
   "cell_type": "markdown",
   "metadata": {},
   "source": [
    "# TOPIC 1: LIST AND ITS DEFAULT FUNCTIONS"
   ]
  },
  {
   "cell_type": "code",
   "execution_count": 1,
   "metadata": {},
   "outputs": [
    {
     "name": "stdout",
     "output_type": "stream",
     "text": [
      "['Apple', 101, 'Electric', 3.14, 'Radius']\n"
     ]
    }
   ],
   "source": [
    "LIST1 = [\"Apple\",101,\"Electric\",3.14,\"Radius\"]\n",
    "print(LIST1)"
   ]
  },
  {
   "cell_type": "code",
   "execution_count": 2,
   "metadata": {},
   "outputs": [
    {
     "data": {
      "text/plain": [
       "list"
      ]
     },
     "execution_count": 2,
     "metadata": {},
     "output_type": "execute_result"
    }
   ],
   "source": [
    "#Identify the datatype using type function\n",
    "type(LIST1)"
   ]
  },
  {
   "cell_type": "code",
   "execution_count": 3,
   "metadata": {},
   "outputs": [
    {
     "name": "stdout",
     "output_type": "stream",
     "text": [
      "['Apple', 101, 'Electric', 3.14, 'Radius', 'Newton']\n"
     ]
    }
   ],
   "source": [
    "#Append function used to add the element to the list\n",
    "LIST1.append(\"Newton\")\n",
    "print(LIST1)"
   ]
  },
  {
   "cell_type": "code",
   "execution_count": 5,
   "metadata": {},
   "outputs": [
    {
     "name": "stdout",
     "output_type": "stream",
     "text": [
      "[]\n"
     ]
    }
   ],
   "source": [
    "#Clear function is used the clear or remove all the element in the list\n",
    "LIST1.clear()\n",
    "print(LIST1)\n"
   ]
  },
  {
   "cell_type": "code",
   "execution_count": 11,
   "metadata": {},
   "outputs": [
    {
     "name": "stdout",
     "output_type": "stream",
     "text": [
      "['Avogadro', 6.027, 247, 'Temple', 'Tesla']\n",
      "['Avogadro', 6.027, 247, 'Temple']\n"
     ]
    }
   ],
   "source": [
    "#Copy Function is used to copy the values from the existing list to new variable list \n",
    "LIST2 = [\"Avogadro\",6.027,247,\"Temple\"]\n",
    "LIST3=LIST2.copy()\n",
    "LIST3.append(\"Tesla\")\n",
    "print(LIST3)\n",
    "print(LIST2)"
   ]
  },
  {
   "cell_type": "code",
   "execution_count": 20,
   "metadata": {},
   "outputs": [
    {
     "name": "stdout",
     "output_type": "stream",
     "text": [
      "LIST3 elements are: ['Avogadro', 6.027, 247, 'Temple', 'Tesla', 'Temple', 'Temple', 'Temple']\n",
      "The Temple Count is: 4\n"
     ]
    }
   ],
   "source": [
    "#count function is used to find the elements count in the List\n",
    "LIST3.append(\"Temple\")\n",
    "list_count =LIST3.count(\"Temple\")\n",
    "print('LIST3 elements are:',LIST3)\n",
    "print('The Temple Count is:',list_count)"
   ]
  },
  {
   "cell_type": "code",
   "execution_count": 29,
   "metadata": {},
   "outputs": [
    {
     "name": "stdout",
     "output_type": "stream",
     "text": [
      "Elements of LIST 1 before use of extend: []\n",
      "Elemets of LIST 1 after the use of extend: ['Avogadro', 6.027, 247, 'Temple', 'Tesla', 'Temple', 'Temple', 'Temple']\n"
     ]
    }
   ],
   "source": [
    "#Extend is function used to add the elements from one list to another list\n",
    "print('Elements of LIST 1 before use of extend:',LIST1)\n",
    "LIST1.extend(LIST3)\n",
    "print('Elemets of LIST 1 after the use of extend:',LIST1)"
   ]
  },
  {
   "cell_type": "code",
   "execution_count": 33,
   "metadata": {},
   "outputs": [
    {
     "name": "stdout",
     "output_type": "stream",
     "text": [
      "['Avogadro', 6.027, 247, 'Temple', 'Tesla', 'Temple', 'Temple', 'Temple']\n",
      "The element 247 in the LIST 1 has an index value of  2\n"
     ]
    }
   ],
   "source": [
    "#Index is used to find the index value of elements in the list (It returns the index value of element in the list)\n",
    "print(LIST1)\n",
    "print('The element 247 in the LIST 1 has an index value of ',LIST1.index(247))\n"
   ]
  },
  {
   "cell_type": "code",
   "execution_count": 42,
   "metadata": {},
   "outputs": [
    {
     "name": "stdout",
     "output_type": "stream",
     "text": [
      "Before insert the elements in the LIST1 are []\n",
      "After insert the elements in the LIST1 are [3.14, 3.8]\n"
     ]
    }
   ],
   "source": [
    "#Insert function is used to insert the elements in the list it requires the index and element\n",
    "LIST1.clear()\n",
    "print('Before insert the elements in the LIST1 are',LIST1)\n",
    "LIST1.insert(0,3.14)\n",
    "LIST1.insert(1,3.8)\n",
    "print('After insert the elements in the LIST1 are',LIST1)"
   ]
  },
  {
   "cell_type": "code",
   "execution_count": 39,
   "metadata": {},
   "outputs": [
    {
     "name": "stdout",
     "output_type": "stream",
     "text": [
      "Before pop up the elements in the LIST1 are [3.8]\n",
      "After Pop up the elements in the LIST1 are []\n",
      "After insert the elements in the LIST1 are [3.8]\n"
     ]
    }
   ],
   "source": [
    "#Pop function is used to remove the element with the help of index value\n",
    "print('Before pop up the elements in the LIST1 are',LIST1)\n",
    "LIST1.pop(0)\n",
    "print('After Pop up the elements in the LIST1 are',LIST1)\n",
    "LIST1.insert(1,3.8)\n",
    "print('After insert the elements in the LIST1 are',LIST1)"
   ]
  },
  {
   "cell_type": "code",
   "execution_count": 43,
   "metadata": {},
   "outputs": [
    {
     "name": "stdout",
     "output_type": "stream",
     "text": [
      "Before remove the elements in the LIST1 are [3.14, 3.8]\n",
      "after removed the elements in the LIST1 are [3.14]\n"
     ]
    }
   ],
   "source": [
    "#Removefunction is used to remove the element with the help of element value\n",
    "print('Before remove the elements in the LIST1 are',LIST1)\n",
    "LIST1.remove(3.8)\n",
    "print('after removed the elements in the LIST1 are',LIST1)"
   ]
  },
  {
   "cell_type": "code",
   "execution_count": 48,
   "metadata": {},
   "outputs": [
    {
     "name": "stdout",
     "output_type": "stream",
     "text": [
      "After the reverese of LIST1 ['Issac', 'Issac', 3.14, 'Newton', 'Issac', 'Newton', 'Issac']\n"
     ]
    }
   ],
   "source": [
    "#Reverse is the function is iued to reverese the arrangements of elements in the list\n",
    "LIST1.append(\"Issac\")\n",
    "LIST1.insert(3,\"Newton\")\n",
    "LIST1.reverse()\n",
    "print('After the reverese of LIST1',LIST1)"
   ]
  },
  {
   "cell_type": "code",
   "execution_count": 49,
   "metadata": {},
   "outputs": [
    {
     "name": "stdout",
     "output_type": "stream",
     "text": [
      "Before sorting the LIST1 elements are: ['e', 'i', 'a', 'u', 'o']\n",
      "After sorting the LIST1 elements are: ['a', 'e', 'i', 'o', 'u']\n"
     ]
    }
   ],
   "source": [
    "#Sort function is used to sort (ASC /DESC) the values in the list\n",
    "LIST1.clear()\n",
    "LIST1 = ['e','i','a','u','o']\n",
    "print('Before sorting the LIST1 elements are:',LIST1)\n",
    "LIST1.sort()\n",
    "print('After sorting the LIST1 elements are:',LIST1)"
   ]
  },
  {
   "cell_type": "markdown",
   "metadata": {},
   "source": [
    "# TOPIC 2: DICTIONARY AND ITS DEFAULT FUNCTIONS"
   ]
  },
  {
   "cell_type": "code",
   "execution_count": 50,
   "metadata": {},
   "outputs": [
    {
     "name": "stdout",
     "output_type": "stream",
     "text": [
      "The students name along with their roll numbers are: {'Dhoni': 1001, 'Sachin': 1002, 'Savrou': 1003, 'Virat': 1004}\n"
     ]
    }
   ],
   "source": [
    "#Student name and their Roll numbers\n",
    "stud_name = {\"Dhoni\":1001, \"Sachin\":1002,\"Savrou\":1003,\"Virat\":1004}\n",
    "print('The students name along with their roll numbers are:',stud_name)"
   ]
  },
  {
   "cell_type": "code",
   "execution_count": 54,
   "metadata": {},
   "outputs": [
    {
     "name": "stdout",
     "output_type": "stream",
     "text": [
      "{}\n",
      "The students name along with their roll numbers are: {'Dhoni': 1001, 'Sachin': 1002, 'Savrou': 1003, 'Virat': 1004}\n"
     ]
    }
   ],
   "source": [
    "#Clear function is used the clear or remove all the element in the Dictionary\n",
    "stud_name.clear()\n",
    "print(stud_name)\n",
    "stud_name = {\"Dhoni\":1001, \"Sachin\":1002,\"Savrou\":1003,\"Virat\":1004}\n",
    "print('The students name along with their roll numbers are:',stud_name)"
   ]
  },
  {
   "cell_type": "code",
   "execution_count": 55,
   "metadata": {},
   "outputs": [
    {
     "name": "stdout",
     "output_type": "stream",
     "text": [
      "The students name along with their roll numbers in SEC A are: {'Dhoni': 1001, 'Sachin': 1002, 'Savrou': 1003, 'Virat': 1004}\n",
      "The students name along with their roll numbers in SEC B are: {'Dhoni': 1001, 'Sachin': 1002, 'Savrou': 1003, 'Virat': 1004}\n"
     ]
    }
   ],
   "source": [
    "#Copy Function is used to copy the values from the existing list to new variable Dictionary\n",
    "print('The students name along with their roll numbers in SEC A are:',stud_name)\n",
    "studtsname = stud_name.copy()\n",
    "print('The students name along with their roll numbers in SEC B are:',studtsname)"
   ]
  },
  {
   "cell_type": "code",
   "execution_count": 61,
   "metadata": {},
   "outputs": [
    {
     "name": "stdout",
     "output_type": "stream",
     "text": [
      "{'Dhoni': 101012, 'Sachin': 101012, 'Savrou': 101012, 'Virat': 101012}\n"
     ]
    }
   ],
   "source": [
    "# Fromkeys is used to change the value in the Key elements.\n",
    "value = 101012\n",
    "STDS_NAME = dict.fromkeys(studtsname,value)\n",
    "print(STDS_NAME)"
   ]
  },
  {
   "cell_type": "code",
   "execution_count": 67,
   "metadata": {},
   "outputs": [
    {
     "name": "stdout",
     "output_type": "stream",
     "text": [
      "1001\n"
     ]
    }
   ],
   "source": [
    "#Get is used to get the value for the corresponding key elements\n",
    "print(stud_name.get(\"Dhoni\"))"
   ]
  },
  {
   "cell_type": "code",
   "execution_count": 68,
   "metadata": {},
   "outputs": [
    {
     "data": {
      "text/plain": [
       "dict_items([('Dhoni', 1001), ('Sachin', 1002), ('Savrou', 1003), ('Virat', 1004)])"
      ]
     },
     "execution_count": 68,
     "metadata": {},
     "output_type": "execute_result"
    }
   ],
   "source": [
    "# Items is used to return/ Display all the list of keys and thier values in the Dictionary\n",
    "studtsname.items()"
   ]
  },
  {
   "cell_type": "code",
   "execution_count": 69,
   "metadata": {},
   "outputs": [
    {
     "data": {
      "text/plain": [
       "dict_keys(['Dhoni', 'Sachin', 'Savrou', 'Virat'])"
      ]
     },
     "execution_count": 69,
     "metadata": {},
     "output_type": "execute_result"
    }
   ],
   "source": [
    "#Keys is used to retutn / Display all the list of keys alone in the Dictionary\n",
    "studtsname.keys()"
   ]
  },
  {
   "cell_type": "code",
   "execution_count": 71,
   "metadata": {},
   "outputs": [
    {
     "name": "stdout",
     "output_type": "stream",
     "text": [
      "The Dictionary items are: {'Dhoni': 1001, 'Sachin': 1002, 'Savrou': 1003, 'Virat': 1004}\n",
      "The poped element is  1003\n",
      "The available Dictionary after Poped up are {'Dhoni': 1001, 'Sachin': 1002, 'Virat': 1004}\n"
     ]
    }
   ],
   "source": [
    "#Pop is used to delete or remove the corresponding items in the dictionary.\n",
    "print('The Dictionary items are:',stud_name)\n",
    "element = stud_name.pop('Savrou')\n",
    "print('The poped element is ', element)\n",
    "print('The available Dictionary after Poped up are',stud_name)"
   ]
  },
  {
   "cell_type": "code",
   "execution_count": 73,
   "metadata": {},
   "outputs": [
    {
     "name": "stdout",
     "output_type": "stream",
     "text": [
      "Before Popupitem used {'Dhoni': 1001, 'Sachin': 1002, 'Virat': 1004}\n",
      "After Popupitem used, {'Dhoni': 1001, 'Sachin': 1002}\n"
     ]
    }
   ],
   "source": [
    "#Pop item is ues to Remove or delte the last item available in the Dictionary\n",
    "print('Before Popupitem used',stud_name)\n",
    "stud_name.popitem()\n",
    "print('After Popupitem used,',stud_name)"
   ]
  },
  {
   "cell_type": "code",
   "execution_count": 75,
   "metadata": {},
   "outputs": [
    {
     "name": "stdout",
     "output_type": "stream",
     "text": [
      "Dictionary List {'Dhoni': 1001, 'Sachin': 1002, 'Savrou': 1003, 'Virat': 1004}\n",
      "The Rollnumber for Sachin is 1002\n"
     ]
    }
   ],
   "source": [
    "#SetDefault function is used to return the value of the key where it's set as Default Key \n",
    "print('Dictionary List',studtsname)\n",
    "Rollnum = studtsname.setdefault('Sachin')\n",
    "print('The Rollnumber for Sachin is',Rollnum)"
   ]
  },
  {
   "cell_type": "code",
   "execution_count": 77,
   "metadata": {},
   "outputs": [
    {
     "name": "stdout",
     "output_type": "stream",
     "text": [
      "Before update in the Dictionary {'Dhoni': 1001, 'Sachin': 1002, 'Savrou': 1003, 'Virat': 1004}\n",
      "Update value {'Virat': 102022}\n",
      "After update in the Dictionary {'Dhoni': 1001, 'Sachin': 1002, 'Savrou': 1003, 'Virat': 102022}\n"
     ]
    }
   ],
   "source": [
    "#Update is used to Change or modify the value in the Key \n",
    "print('Before update in the Dictionary',studtsname)\n",
    "Update = {'Virat':102022}\n",
    "print('Update value',Update)\n",
    "studtsname.update(Update)\n",
    "print('After update in the Dictionary',studtsname)"
   ]
  },
  {
   "cell_type": "code",
   "execution_count": 79,
   "metadata": {},
   "outputs": [
    {
     "name": "stdout",
     "output_type": "stream",
     "text": [
      "The Values for the Key elements in the Dictionary are: dict_values([1001, 1002, 1003, 102022])\n"
     ]
    }
   ],
   "source": [
    "#Values is a function is used to Return all the values from the key elements in the Dictionary\n",
    "print('The Values for the Key elements in the Dictionary are:',studtsname.values())"
   ]
  },
  {
   "cell_type": "markdown",
   "metadata": {},
   "source": [
    "# TOPIC 3: SETS AND ITS DEFAULT FUNCTION"
   ]
  },
  {
   "cell_type": "code",
   "execution_count": 80,
   "metadata": {},
   "outputs": [
    {
     "name": "stdout",
     "output_type": "stream",
     "text": [
      "SET A ELements are: {32, 1, 2, 64, 4, 128, 8, 16}\n",
      "SET B Elements are: {256, 64, 128, 512, 4, 1024, 16}\n"
     ]
    }
   ],
   "source": [
    "#Initialize the elements in the SetA and SetB\n",
    "SetA = {1,2,4,8,16,32,64,128}\n",
    "SetB = {4,16,64,128,256,512,1024}\n",
    "print('SET A ELements are:',SetA)\n",
    "print('SET B Elements are:', SetB)"
   ]
  },
  {
   "cell_type": "code",
   "execution_count": 81,
   "metadata": {},
   "outputs": [
    {
     "name": "stdout",
     "output_type": "stream",
     "text": [
      "SET A ELements are: {32, 1, 2, 64, 4, 128, 8, 16}\n",
      "SET B Elements are: {256, 64, 128, 512, 4, 1024, 16}\n",
      "The Intersection between the SET A and SET B are: {64, 16, 4, 128}\n"
     ]
    }
   ],
   "source": [
    "#Intersect is used to find the common elements between the SETS\n",
    "print('SET A ELements are:',SetA)\n",
    "print('SET B Elements are:', SetB)\n",
    "Intersect = SetB.intersection(SetA)\n",
    "print('The Intersection between the SET A and SET B are:',Intersect)"
   ]
  },
  {
   "cell_type": "code",
   "execution_count": 87,
   "metadata": {},
   "outputs": [
    {
     "name": "stdout",
     "output_type": "stream",
     "text": [
      "The Intersection between the SET A and SET B are: {64, 16, 4, 128}\n",
      "SET C Elements are: {64, 16, 4, 128}\n"
     ]
    }
   ],
   "source": [
    "#Copy Function is used to copy all the elements to one set(Existing) to another set(New)\n",
    "print('The Intersection between the SET A and SET B are:',Intersect)\n",
    "SetC = Intersect.copy()\n",
    "print('SET C Elements are:', SetC)"
   ]
  },
  {
   "cell_type": "code",
   "execution_count": 84,
   "metadata": {},
   "outputs": [
    {
     "name": "stdout",
     "output_type": "stream",
     "text": [
      "Before add the element in the SET C are: {64, 16, 4, 128}\n",
      "New SET C Elements are: {64, 128, 4, 16, '1024'}\n"
     ]
    }
   ],
   "source": [
    "#Add function is used to add the element in the SETS\n",
    "print('Before add the element in the SET C are:', SetC)\n",
    "SetC.add('1024')\n",
    "print('New SET C Elements are:', SetC)"
   ]
  },
  {
   "cell_type": "code",
   "execution_count": 101,
   "metadata": {},
   "outputs": [
    {
     "name": "stdout",
     "output_type": "stream",
     "text": [
      "The SET C Elements are: {64, 16, 4, 128}\n",
      "The SET D Elements are: {64, 16, 4, 128}\n",
      "Cleared value of SET C is set()\n"
     ]
    }
   ],
   "source": [
    "#Clear Function is used to clear all the elements in the Sets\n",
    "SetD = SetC.copy()\n",
    "print('The SET C Elements are:',SetC)\n",
    "print('The SET D Elements are:',SetD)\n",
    "SetC.clear()\n",
    "print('Cleared value of SET C is',SetC)\n",
    "SetC = SetD.copy()"
   ]
  },
  {
   "cell_type": "code",
   "execution_count": 106,
   "metadata": {},
   "outputs": [
    {
     "name": "stdout",
     "output_type": "stream",
     "text": [
      "The Difference of elements between SET A & B are {32, 1, 2, 8}\n"
     ]
    }
   ],
   "source": [
    "#Difference is a function is used to find the difference of elements among the two difference sets\n",
    "print('The Difference of elements between SET A & B are',SetA.difference(SetB))"
   ]
  },
  {
   "cell_type": "code",
   "execution_count": 109,
   "metadata": {},
   "outputs": [
    {
     "name": "stdout",
     "output_type": "stream",
     "text": [
      "Difference update result are: None\n",
      "Difference update result are: {32, 1, 2, 8}\n"
     ]
    }
   ],
   "source": [
    "#Differnce update is function that update the Diffrence of elements into the Precedence Set was used\n",
    "Difference = SetA.difference_update(SetB)\n",
    "print('Difference update result are:',Difference)\n",
    "print('Difference update result are:',SetA)"
   ]
  },
  {
   "cell_type": "code",
   "execution_count": 112,
   "metadata": {},
   "outputs": [
    {
     "name": "stdout",
     "output_type": "stream",
     "text": [
      "SET A ELements are: {32, 1, 2, 64, 4, 128, 8, 16}\n",
      "SET B Elements are: {256, 64, 128, 512, 4, 1024, 16}\n",
      "New SET A ELements are: {32, 1, 2, 64, 128, 8, 16}\n",
      "New SET B Elements are: {256, 64, 128, 512, 4, 16}\n"
     ]
    }
   ],
   "source": [
    "#Dicard is used to remove the element in the set\n",
    "SetA = {1,2,4,8,16,32,64,128}\n",
    "SetB = {4,16,64,128,256,512,1024}\n",
    "print('SET A ELements are:',SetA)\n",
    "print('SET B Elements are:', SetB)\n",
    "SetA.discard(4)\n",
    "SetB.discard(1024)\n",
    "print('New SET A ELements are:',SetA)\n",
    "print('New SET B Elements are:', SetB)"
   ]
  },
  {
   "cell_type": "code",
   "execution_count": 113,
   "metadata": {},
   "outputs": [
    {
     "name": "stdout",
     "output_type": "stream",
     "text": [
      "SET A ELements are: {32, 1, 2, 64, 4, 128, 8, 16}\n",
      "SET B Elements are: {256, 64, 128, 512, 4, 1024, 16}\n",
      "The Intersection of A and B Are {64, 16, 4, 128}\n"
     ]
    }
   ],
   "source": [
    "#Intersection update is used to update the intersection result to the precedence set was used\n",
    "SetA = {1,2,4,8,16,32,64,128}\n",
    "SetB = {4,16,64,128,256,512,1024}\n",
    "print('SET A ELements are:',SetA)\n",
    "print('SET B Elements are:', SetB)\n",
    "SetA.intersection_update(SetB)\n",
    "print('The Intersection of A and B Are',SetA)"
   ]
  },
  {
   "cell_type": "code",
   "execution_count": 117,
   "metadata": {},
   "outputs": [
    {
     "name": "stdout",
     "output_type": "stream",
     "text": [
      "SET A ELements are: {32, 1, 2, 64, 4, 128, 8, 16}\n",
      "SET B Elements are: {256, 64, 128, 512, 4, 1024, 16}\n",
      "Is Disadjoint ?Between SET A and B, Result: False\n",
      "Is Disadjoint ?Between SET E and F, Result: True\n"
     ]
    }
   ],
   "source": [
    "#IsDisjoint returns whether the two sets are disjointed sets (i.e., Elements belongs to SET A and SET B have no common elements)\n",
    "# If Common elements are there, it returns false else it returns true.\n",
    "SetA = {1,2,4,8,16,32,64,128}\n",
    "SetB = {4,16,64,128,256,512,1024}\n",
    "print('SET A ELements are:',SetA)\n",
    "print('SET B Elements are:', SetB)\n",
    "print('Is Disadjoint ?Between SET A and B, Result:',SetA.isdisjoint(SetB))\n",
    "SetE= {2,4,6,8,10,12,14,16}\n",
    "SetF= {5,15,25,35,45,55,65,95}\n",
    "print('Is Disadjoint ?Between SET E and F, Result:',SetE.isdisjoint(SetF))"
   ]
  },
  {
   "cell_type": "code",
   "execution_count": 120,
   "metadata": {},
   "outputs": [
    {
     "name": "stdout",
     "output_type": "stream",
     "text": [
      "SET A ELements are: {32, 1, 2, 64, 4, 128, 8, 16}\n",
      "SET B Elements are: {256, 64, 128, 512, 4, 1024, 16}\n",
      "Is Subset ?Between SET A and B, Result: False\n",
      "Is Subset ?Between SET E and F, Result: True\n"
     ]
    }
   ],
   "source": [
    "#Issubset is used to find the subset between the SET A and SETB (i.e,Set A is said to be the subset of set B \n",
    "#if all elements of A are in B. if exists returns true else it returns false)\n",
    "SetA = {1,2,4,8,16,32,64,128}\n",
    "SetB = {4,16,64,128,256,512,1024}\n",
    "print('SET A ELements are:',SetA)\n",
    "print('SET B Elements are:', SetB)\n",
    "print('Is Subset ?Between SET A and B, Result:',SetA.issubset(SetB))\n",
    "SetE= {2,4,6,8,10,12,14,16}\n",
    "SetF= {10,12,4,16}\n",
    "print('Is Subset ?Between SET F and E, Result:',SetF.issubset(SetE))"
   ]
  },
  {
   "cell_type": "code",
   "execution_count": 123,
   "metadata": {},
   "outputs": [
    {
     "name": "stdout",
     "output_type": "stream",
     "text": [
      "SET A ELements are: {32, 1, 2, 64, 4, 128, 8, 16}\n",
      "SET B Elements are: {256, 64, 128, 512, 4, 1024, 16}\n",
      "Is Superset ?Between SET A and B, Result: False\n",
      "Is Superset ?Between SET E and F, Result: True\n"
     ]
    }
   ],
   "source": [
    "#ISSuerset is used to find the superset between the SET A and SETB (i.e,Set A is said to be the Superset of set B \n",
    "#if all elements of B are in A. if exists returns true else it returns false)\n",
    "SetA = {1,2,4,8,16,32,64,128}\n",
    "SetB = {4,16,64,128,256,512,1024}\n",
    "print('SET A ELements are:',SetA)\n",
    "print('SET B Elements are:', SetB)\n",
    "print('Is Superset ?Between SET A and B, Result:',SetA.issuperset(SetB))\n",
    "SetE= {2,4,6,8,10,12,14,16}\n",
    "SetF= {10,12,4,16}\n",
    "print('Is Superset ?Between SET E and F, Result:',SetE.issuperset(SetF))"
   ]
  },
  {
   "cell_type": "code",
   "execution_count": 126,
   "metadata": {},
   "outputs": [
    {
     "name": "stdout",
     "output_type": "stream",
     "text": [
      "SET A ELements are: {32, 1, 2, 64, 4, 128, 8, 16}\n",
      "SET B Elements are: {256, 64, 128, 512, 4, 1024, 16}\n",
      "SET A ELements are: {1, 2, 64, 4, 128, 8, 16}\n",
      "SET B Elements are: {64, 128, 512, 4, 1024, 16}\n"
     ]
    }
   ],
   "source": [
    "#Pop is a function is used to Remove the last element of the Set\n",
    "SetA = {1,2,4,8,16,32,64,128}\n",
    "SetB = {4,16,64,128,256,512,1024}\n",
    "print('SET A ELements are:',SetA)\n",
    "print('SET B Elements are:', SetB)\n",
    "SetA.pop()\n",
    "SetB.pop()\n",
    "print('New SET A ELements are:',SetA)\n",
    "print('New SET B Elements are:', SetB)  "
   ]
  },
  {
   "cell_type": "code",
   "execution_count": 127,
   "metadata": {},
   "outputs": [
    {
     "name": "stdout",
     "output_type": "stream",
     "text": [
      "SET A ELements are: {32, 1, 2, 64, 4, 128, 8, 16}\n",
      "SET B Elements are: {256, 64, 128, 512, 4, 1024, 16}\n",
      "New SET A ELements are: {32, 1, 2, 64, 4, 8, 16}\n",
      "New SET B Elements are: {64, 128, 512, 4, 1024, 16}\n"
     ]
    }
   ],
   "source": [
    "#Remove is a function is used to remove the element as user required\n",
    "SetA = {1,2,4,8,16,32,64,128}\n",
    "SetB = {4,16,64,128,256,512,1024}\n",
    "print('SET A ELements are:',SetA)\n",
    "print('SET B Elements are:', SetB)\n",
    "SetA.remove(128)\n",
    "SetB.remove(256)\n",
    "print('New SET A ELements are:',SetA)\n",
    "print('New SET B Elements are:', SetB) \n"
   ]
  },
  {
   "cell_type": "code",
   "execution_count": 130,
   "metadata": {},
   "outputs": [
    {
     "name": "stdout",
     "output_type": "stream",
     "text": [
      "SET A ELements are: {32, 1, 2, 64, 4, 128, 8, 16}\n",
      "SET B Elements are: {256, 64, 128, 512, 4, 1024, 16}\n",
      "The Symmetric Difference between SET A and B are: {256, 512, 1024, 1, 2, 8, 32}\n"
     ]
    }
   ],
   "source": [
    "#The symmetric difference of two sets A and B is the set of elements that are in either A or B, but not in their intersection.\n",
    "#It displays the value that are symmetric difference\n",
    "SetA = {1,2,4,8,16,32,64,128}\n",
    "SetB = {4,16,64,128,256,512,1024}\n",
    "print('SET A ELements are:',SetA)\n",
    "print('SET B Elements are:', SetB)\n",
    "print('The Symmetric Difference between SET A and B are:',SetA.symmetric_difference(SetB))"
   ]
  },
  {
   "cell_type": "code",
   "execution_count": 131,
   "metadata": {},
   "outputs": [
    {
     "name": "stdout",
     "output_type": "stream",
     "text": [
      "SET A ELements are: {32, 1, 2, 64, 4, 128, 8, 16}\n",
      "SET B Elements are: {256, 64, 128, 512, 4, 1024, 16}\n",
      "The Symmetric Difference between SET A and B are: {32, 1, 2, 1024, 512, 256, 8}\n"
     ]
    }
   ],
   "source": [
    "#The symmetric difference of two sets A and B is the set of elements that are in either A or B, but not in their intersection.\n",
    "#It assign the value of symmetric difference to the precedence variable.\n",
    "SetA = {1,2,4,8,16,32,64,128}\n",
    "SetB = {4,16,64,128,256,512,1024}\n",
    "print('SET A ELements are:',SetA)\n",
    "print('SET B Elements are:', SetB)\n",
    "SetA.symmetric_difference_update(SetB)\n",
    "print('The Symmetric Difference between SET A and B are:',SetA)"
   ]
  },
  {
   "cell_type": "code",
   "execution_count": 133,
   "metadata": {},
   "outputs": [
    {
     "name": "stdout",
     "output_type": "stream",
     "text": [
      "SET A ELements are: {32, 1, 2, 64, 4, 128, 8, 16}\n",
      "SET B Elements are: {256, 64, 128, 512, 4, 1024, 16}\n",
      "The Union of Set A and Set B are {32, 1, 2, 64, 4, 128, 256, 512, 8, 1024, 16}\n"
     ]
    }
   ],
   "source": [
    "#Union function is used to Join (Union) all the elements in the Two SETS of SET A and SET B\n",
    "SetA = {1,2,4,8,16,32,64,128}\n",
    "SetB = {4,16,64,128,256,512,1024}\n",
    "print('SET A ELements are:',SetA)\n",
    "print('SET B Elements are:', SetB)\n",
    "print('The Union of Set A and Set B are',SetA.union(SetB))\n"
   ]
  },
  {
   "cell_type": "code",
   "execution_count": 134,
   "metadata": {},
   "outputs": [
    {
     "name": "stdout",
     "output_type": "stream",
     "text": [
      "SET A ELements are: {32, 1, 2, 64, 4, 128, 8, 16}\n",
      "SET B Elements are: {256, 64, 128, 512, 4, 1024, 16}\n",
      "The Union of Set A and Set B are {32, 1, 2, 64, 4, 128, 256, 512, 8, 1024, 16}\n"
     ]
    }
   ],
   "source": [
    "#Update is similar to the union of all the elements, in addition to that the return values are updated into the precedence of SET Variable has used\n",
    "SetA = {1,2,4,8,16,32,64,128}\n",
    "SetB = {4,16,64,128,256,512,1024}\n",
    "print('SET A ELements are:',SetA)\n",
    "print('SET B Elements are:', SetB)\n",
    "SetA.update(SetB)\n",
    "print('The Union of Set A and Set B are',SetA)"
   ]
  },
  {
   "cell_type": "markdown",
   "metadata": {},
   "source": [
    "# DAY 1 - ASSIGNMENT COMPLETED"
   ]
  }
 ],
 "metadata": {
  "kernelspec": {
   "display_name": "Python 3",
   "language": "python",
   "name": "python3"
  },
  "language_info": {
   "codemirror_mode": {
    "name": "ipython",
    "version": 3
   },
   "file_extension": ".py",
   "mimetype": "text/x-python",
   "name": "python",
   "nbconvert_exporter": "python",
   "pygments_lexer": "ipython3",
   "version": "3.7.6"
  }
 },
 "nbformat": 4,
 "nbformat_minor": 4
}
