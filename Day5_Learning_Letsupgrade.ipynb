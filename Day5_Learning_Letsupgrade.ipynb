{
 "cells": [
  {
   "cell_type": "code",
   "execution_count": 1,
   "metadata": {},
   "outputs": [
    {
     "name": "stdout",
     "output_type": "stream",
     "text": [
      "Enter your input:\n",
      "2\n",
      "2\n"
     ]
    }
   ],
   "source": [
    "#Taking an input from the User\n",
    "\n",
    "print(\"Enter your input:\")\n",
    "var = input()\n",
    "print(var)"
   ]
  },
  {
   "cell_type": "code",
   "execution_count": 7,
   "metadata": {},
   "outputs": [
    {
     "ename": "SyntaxError",
     "evalue": "invalid syntax (<ipython-input-7-b3573a3db7a8>, line 5)",
     "output_type": "error",
     "traceback": [
      "\u001b[1;36m  File \u001b[1;32m\"<ipython-input-7-b3573a3db7a8>\"\u001b[1;36m, line \u001b[1;32m5\u001b[0m\n\u001b[1;33m    if type(a) == <class 'str'> and type(b) == <class 'str'>:\u001b[0m\n\u001b[1;37m                  ^\u001b[0m\n\u001b[1;31mSyntaxError\u001b[0m\u001b[1;31m:\u001b[0m invalid syntax\n"
     ]
    }
   ],
   "source": [
    "#Always the input get from the user will be as a string <str>\n",
    "print(\"Enter your two inputs\")\n",
    "a = int(input())\n",
    "b= int(input())\n",
    "if type(a) == <class 'str'> and type(b) == <class 'str'>: \n",
    "    print(\"Enter the Number not an string\")\n",
    "    break\n",
    "    else:\n",
    "        continue\n",
    "        \n",
    "c= int(a)+ int(b)\n",
    "print(c)"
   ]
  },
  {
   "cell_type": "code",
   "execution_count": 33,
   "metadata": {},
   "outputs": [
    {
     "name": "stdout",
     "output_type": "stream",
     "text": [
      "<class 'str'> h n h Sasi dhara narahdisaS\n",
      "Sasidharan\n",
      "SasiSasiSasi\n",
      "sASI\n",
      "dharan\n",
      "SASI\n",
      "r\n",
      "S\n",
      "False\n",
      "Don't count your chicken's before they hatch\n",
      "44\n",
      "don't eount your ehieken's before they hateh\n"
     ]
    }
   ],
   "source": [
    "#String is a collection of characters\n",
    "# Python working in Unicode number system \n",
    "# Whwn compare Lower case with Upper case Lower case char has high ascii value than Upper case\n",
    "s= \"Sasidharan\"\n",
    "print(type(s),s[5],s[-1],s[-5],s[0:4],s[-6:-1],s[::-1]) #s[::-1] prints the reverse of string\n",
    "\n",
    "s1 = \"Sasi\"\n",
    "s2 = \"dharan\"\n",
    "s3 = \"Live in KPM\"\n",
    "s4 = \"don't count your chicken's before they hatch\"\n",
    "print(s1+s2) #concatenae\n",
    "print(s1*3)  #Repetation\n",
    "print(s1.swapcase())\n",
    "print(s2.lower())\n",
    "print(s1.upper())\n",
    "print(max(s2))\n",
    "print(min(s1))\n",
    "print(s1.isdigit())\n",
    "print(s4.capitalize())\n",
    "print(len(s4))\n",
    "print(s4.replace('c','e'))"
   ]
  },
  {
   "cell_type": "code",
   "execution_count": 37,
   "metadata": {},
   "outputs": [
    {
     "data": {
      "text/plain": [
       "True"
      ]
     },
     "execution_count": 37,
     "metadata": {},
     "output_type": "execute_result"
    }
   ],
   "source": [
    "# in Operator and Not in Operator  (Membership operators)\n",
    "\n",
    "S = \"Machine\"\n",
    "'M' in S\n",
    "'s' not in S"
   ]
  },
  {
   "cell_type": "code",
   "execution_count": 58,
   "metadata": {},
   "outputs": [
    {
     "name": "stdout",
     "output_type": "stream",
     "text": [
      "Sasidharan\n",
      "a a s i d h a r a n "
     ]
    }
   ],
   "source": [
    "#Traversal in For loop\n",
    "#Strings are immutable , means can't change the value in the string\n",
    "s = \"Sasidharan\"\n",
    "print(s)\n",
    "s = 'a'+s[1:] #Mutable in nature using concat and Slicing operation\n",
    "for i in s:\n",
    "    print(i, end = \" \")"
   ]
  },
  {
   "cell_type": "code",
   "execution_count": 48,
   "metadata": {},
   "outputs": [
    {
     "name": "stdout",
     "output_type": "stream",
     "text": [
      "1\n",
      "4\n",
      "10\n",
      "True\n"
     ]
    }
   ],
   "source": [
    "# str.find(str,begin,end)\n",
    "f= \"Doctorate of Philosophy\"\n",
    "print(f.find('o'))\n",
    "print(f.find('o',3))\n",
    "print(f.find('o',7,15))\n",
    "print(s.isalpha())"
   ]
  },
  {
   "cell_type": "code",
   "execution_count": 56,
   "metadata": {},
   "outputs": [
    {
     "name": "stdout",
     "output_type": "stream",
     "text": [
      "Palindrome\n"
     ]
    }
   ],
   "source": [
    "#Palindrome concept:\n",
    "\n",
    "String = \"malayalam\"\n",
    "S2 = String[::-1]\n",
    "if String == S2:\n",
    "    print(\"Palindrome\")\n",
    "else:\n",
    "    print(\"Not a Palindrome\")"
   ]
  },
  {
   "cell_type": "code",
   "execution_count": 85,
   "metadata": {},
   "outputs": [
    {
     "name": "stdout",
     "output_type": "stream",
     "text": [
      "er\n",
      "[11, 33, 'hah', 22]\n",
      "[11, 22, 33, [1, 2, 3, 4, 55, 66, [75, 50, 25]], 77]\n",
      "11\n",
      "[1, 2, 3, 4, 55, 66, [75, 50, 25]]\n",
      "[75, 50, 25]\n",
      "75\n",
      "[75, 50, 25, 75, 50, 25]\n"
     ]
    }
   ],
   "source": [
    "#List is also similar to array, but it contains all datatypes\n",
    "#List also support repetation option\n",
    "A = [11,\"er\",\"hah\",22]\n",
    "print(A[1])\n",
    "B = A.copy()\n",
    "B[1] = 33\n",
    "print(B)\n",
    "C = [11,22,33,[1,2,3,4,55,66,[75,50,25]],77]\n",
    "print(C)\n",
    "print(C[0])\n",
    "print(C[3])\n",
    "print(C[3][6])\n",
    "print(C[3][6][0])\n",
    "print(C[3][6]*2)"
   ]
  },
  {
   "cell_type": "code",
   "execution_count": 88,
   "metadata": {},
   "outputs": [
    {
     "name": "stdout",
     "output_type": "stream",
     "text": [
      "(1, 1, 3, 5)\n",
      "1 <class 'int'>\n",
      "(1,) <class 'tuple'>\n"
     ]
    }
   ],
   "source": [
    "#Tuples is similar to List but the value remains unchanged\n",
    "\n",
    "A = (1,1,3,5)\n",
    "print(A)\n",
    "B=(1,)\n",
    "C=(1)\n",
    "print(C, type(C))\n",
    "print(B, type(B))"
   ]
  },
  {
   "cell_type": "code",
   "execution_count": 93,
   "metadata": {},
   "outputs": [
    {
     "name": "stdout",
     "output_type": "stream",
     "text": [
      "(1, 2, 3, 4)\n",
      "(1,)\n",
      "(1, 'ER', 2.2)\n"
     ]
    }
   ],
   "source": [
    "def var(*args):\n",
    "    print(args)\n",
    "var(1,2,3,4)\n",
    "var(1)\n",
    "var(1,\"ER\",2.2)"
   ]
  },
  {
   "cell_type": "code",
   "execution_count": 106,
   "metadata": {},
   "outputs": [
    {
     "name": "stdout",
     "output_type": "stream",
     "text": [
      "{'Comp': 1, 'IT': 2, 'EEE': 3, 'ECE': 4} <class 'dict'>\n",
      "1\n",
      "{'IT': 2, 'EEE': 3, 'ECE': 4}\n",
      "True\n",
      "dict_values([1, 2, 3, 4])\n"
     ]
    }
   ],
   "source": [
    "#Dictionary  - {key:Value} pair it is otherwise called as associative array\n",
    "\n",
    "#The key and value pair is called as item\n",
    "# The values in the dictionary are muttable\n",
    "# The Key in the dictionary are immutable\n",
    "\n",
    "D ={\"Comp\":1, \"IT\":2, \"EEE\":3, \"ECE\":4}\n",
    "print(D, type(D))\n",
    "print(D[\"Comp\"])\n",
    "E = D.copy()\n",
    "del E[\"Comp\"]\n",
    "print(E)\n",
    "print(\"EEE\" in D)\n",
    "print(D.values())"
   ]
  },
  {
   "cell_type": "code",
   "execution_count": 111,
   "metadata": {},
   "outputs": [
    {
     "name": "stdout",
     "output_type": "stream",
     "text": [
      "{1: 'EE', 2: 'ER', 3: 'HA', 4: 'PAH', 5: 'MU'}\n",
      "ER\n"
     ]
    }
   ],
   "source": [
    "G = {1:\"EE\", 2:\"ER\",3:\"HA\"}\n",
    "H = {4:\"PAH\",5:\"MU\"}\n",
    "G.update(H)\n",
    "print(G)\n",
    "print(G.get(2))"
   ]
  },
  {
   "cell_type": "code",
   "execution_count": 121,
   "metadata": {},
   "outputs": [
    {
     "name": "stdout",
     "output_type": "stream",
     "text": [
      "{1: [1, 2], 2: [4, 5], 3: [5, 6], 4: (69, 52), 5: {9: 81}} <class 'dict'>\n",
      "<class 'list'> [5, 6]\n",
      "<class 'tuple'> (69, 52)\n",
      "<class 'dict'> {9: 81}\n"
     ]
    }
   ],
   "source": [
    "#Mixup of advanced datatype\n",
    "RE = {1:[1,2], 2:[4,5], 3:[5,6], 4:(69,52),5:{9:81}}\n",
    "print(RE,type(RE))\n",
    "print(type(RE[3]), RE[3])\n",
    "print(type(RE[4]), RE[4])\n",
    "print(type(RE[5]), RE[5])"
   ]
  }
 ],
 "metadata": {
  "kernelspec": {
   "display_name": "Python 3",
   "language": "python",
   "name": "python3"
  },
  "language_info": {
   "codemirror_mode": {
    "name": "ipython",
    "version": 3
   },
   "file_extension": ".py",
   "mimetype": "text/x-python",
   "name": "python",
   "nbconvert_exporter": "python",
   "pygments_lexer": "ipython3",
   "version": "3.7.6"
  }
 },
 "nbformat": 4,
 "nbformat_minor": 4
}
