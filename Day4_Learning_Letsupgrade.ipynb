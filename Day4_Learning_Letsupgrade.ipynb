{
 "cells": [
  {
   "cell_type": "code",
   "execution_count": 24,
   "metadata": {},
   "outputs": [
    {
     "name": "stdout",
     "output_type": "stream",
     "text": [
      "range(5, 10, 2)\n",
      "range(0, 5)\n",
      "0 1 3 6 10 \n",
      "\n",
      "2 3 4 5 6 7 8 9 \n",
      "\n",
      "2 4 6 8 10 12 14 16 18 "
     ]
    }
   ],
   "source": [
    "#Performing a Range function\n",
    "print(range(5,10,2))\n",
    "print(range(5))\n",
    "sum =0\n",
    "for j in range(5):\n",
    "    sum = sum+j\n",
    "    print(sum,  end = \" \")      \n",
    "print('\\n')\n",
    "for i in range(2,10):\n",
    "    print(i, end = \" \")\n",
    "print('\\n')\n",
    "for k in range(2,20,2):\n",
    "    print(k, end = \" \")"
   ]
  },
  {
   "cell_type": "code",
   "execution_count": null,
   "metadata": {},
   "outputs": [],
   "source": []
  },
  {
   "cell_type": "code",
   "execution_count": 28,
   "metadata": {},
   "outputs": [
    {
     "name": "stdout",
     "output_type": "stream",
     "text": [
      "\n",
      "\n",
      "* \n",
      "\n",
      "* * \n",
      "\n",
      "* * * \n",
      "\n",
      "* * * * \n",
      "\n",
      "* * * * * \n",
      "\n",
      "* * * * * * \n",
      "\n",
      "* * * * * * * \n",
      "\n",
      "* * * * * * * * \n",
      "\n",
      "* * * * * * * * * \n",
      "\n"
     ]
    }
   ],
   "source": [
    "#Nested For loop\n",
    "\n",
    "for i in range(10):\n",
    "    for j in range(i):\n",
    "        print(\"*\",end=\" \")\n",
    "    print('\\n')"
   ]
  },
  {
   "cell_type": "code",
   "execution_count": 32,
   "metadata": {},
   "outputs": [
    {
     "name": "stdout",
     "output_type": "stream",
     "text": [
      "1\n",
      "2\n",
      "3\n",
      "\n",
      "\n",
      "1\n",
      "2\n",
      "Hello\n",
      "8\n"
     ]
    }
   ],
   "source": [
    "#Break and continue statement\n",
    "n=(1,2,3,\"Hello\",8)\n",
    "for i in n:\n",
    "    if(i==\"Hello\"):\n",
    "        break\n",
    "    print(i)\n",
    "print('\\n')\n",
    "for j in n:\n",
    "    if(j==3):\n",
    "        continue\n",
    "    print(j)"
   ]
  },
  {
   "cell_type": "code",
   "execution_count": 5,
   "metadata": {},
   "outputs": [
    {
     "name": "stdout",
     "output_type": "stream",
     "text": [
      "5\n",
      "6\n",
      "8.0\n",
      "0.47712125471966244\n",
      "1.4142135623730951\n"
     ]
    }
   ],
   "source": [
    "#Math functions \n",
    "import math as M\n",
    "\n",
    "a = M.sqrt(2)\n",
    "print(M.floor(5.25))\n",
    "print(M.ceil(5.222))\n",
    "print(M.pow(2,3))\n",
    "print(M.log10(3))\n",
    "print(a)\n"
   ]
  },
  {
   "cell_type": "code",
   "execution_count": 10,
   "metadata": {},
   "outputs": [
    {
     "name": "stdout",
     "output_type": "stream",
     "text": [
      "Hello Word\n"
     ]
    }
   ],
   "source": [
    "#String functions\n",
    "import string as ST\n",
    "strs = \"hello word\"\n",
    "print(ST.capwords(strs))"
   ]
  },
  {
   "cell_type": "code",
   "execution_count": 14,
   "metadata": {},
   "outputs": [
    {
     "name": "stdout",
     "output_type": "stream",
     "text": [
      "ABCD\n",
      "ABCDEFGHI\n",
      "XYZ\n",
      "ABCD\n",
      "ABCDEFGHI\n",
      "UVWXYZ\n",
      "The addition of a and b is:  7\n"
     ]
    }
   ],
   "source": [
    "#User defined functions\n",
    "\n",
    "def abc():\n",
    "    print(\"ABCD\")\n",
    "    print(\"ABCDEFGHI\")\n",
    "\n",
    "abc()\n",
    "\n",
    "def xyz():\n",
    "    print(\"XYZ\")\n",
    "    abc()\n",
    "    print(\"UVWXYZ\")\n",
    "xyz()\n",
    "\n",
    "\n"
   ]
  },
  {
   "cell_type": "code",
   "execution_count": 16,
   "metadata": {},
   "outputs": [
    {
     "name": "stdout",
     "output_type": "stream",
     "text": [
      "The addition of a and b is:  7\n",
      "4\n"
     ]
    }
   ],
   "source": [
    "#Passing and perform the arguments to the functions\n",
    "def addition(a,b):\n",
    "    print('The addition of a and b is: ',a+b)\n",
    "\n",
    "addition(5,2)\n",
    "\n",
    "\n",
    "def Addition(c):\n",
    "    c = c**2\n",
    "    return c\n",
    "\n",
    "x = Addition(2)\n",
    "print(x)"
   ]
  },
  {
   "cell_type": "code",
   "execution_count": 18,
   "metadata": {},
   "outputs": [
    {
     "name": "stdout",
     "output_type": "stream",
     "text": [
      "SasiDharan\n",
      "7\n"
     ]
    }
   ],
   "source": [
    "#Variable and parameters are local \n",
    "def loc_var_print(printa, printb):\n",
    "    printc = printa+printb\n",
    "    print(printc)\n",
    "printsa = \"Sasi\"\n",
    "printsb = \"Dharan\"\n",
    "loc_var_print(printsa,printsb)\n",
    "loc_var_print(2,5)"
   ]
  }
 ],
 "metadata": {
  "kernelspec": {
   "display_name": "Python 3",
   "language": "python",
   "name": "python3"
  },
  "language_info": {
   "codemirror_mode": {
    "name": "ipython",
    "version": 3
   },
   "file_extension": ".py",
   "mimetype": "text/x-python",
   "name": "python",
   "nbconvert_exporter": "python",
   "pygments_lexer": "ipython3",
   "version": "3.7.6"
  }
 },
 "nbformat": 4,
 "nbformat_minor": 4
}
