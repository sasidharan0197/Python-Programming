{
 "cells": [
  {
   "cell_type": "markdown",
   "metadata": {},
   "source": [
    ">Exception is an abnormal condition in a program.\n",
    "\n",
    ">It is a run time error.\n",
    "\n",
    ">If we raise an exception, we can prevent the program from crashing."
   ]
  },
  {
   "cell_type": "code",
   "execution_count": 10,
   "metadata": {},
   "outputs": [
    {
     "name": "stdout",
     "output_type": "stream",
     "text": [
      "3\n"
     ]
    }
   ],
   "source": [
    "a=1\n",
    "b=2\n",
    "c=a+b\n",
    "print(c)"
   ]
  },
  {
   "cell_type": "markdown",
   "metadata": {},
   "source": [
    "Built-in Exceptions for Python\n",
    "--\n",
    "\n",
    "Exception - Base class for all exceptions\n",
    "\n",
    "ArithmeticError - numeric caluclations\n",
    "\n",
    "OverflowError - maximum limit for numeric type\n",
    "\n",
    "ZeroDivisionError - divide by zero\n",
    "\n",
    "ImportError - when import fails\n",
    "\n",
    "KeyboardInterrupt - usually when the user interrupts the program execution by pressing Ctrl+c\n",
    "\n",
    "IndexError - index not found in the sequence\n",
    "\n",
    "KeyError - key not found in the sequence\n",
    "\n",
    "OSError - OS related errors\n",
    "\n",
    "ValueError, TypeError and so on."
   ]
  },
  {
   "cell_type": "code",
   "execution_count": 2,
   "metadata": {},
   "outputs": [
    {
     "name": "stdout",
     "output_type": "stream",
     "text": [
      "Enter a no: 3\n",
      "Enter a no: 2\n",
      "1.5\n"
     ]
    }
   ],
   "source": [
    "a=int(input(\"Enter a no: \"))\n",
    "b=int(input(\"Enter a no: \"))\n",
    "c=a/b\n",
    "print(c)"
   ]
  },
  {
   "cell_type": "code",
   "execution_count": 10,
   "metadata": {},
   "outputs": [
    {
     "name": "stdout",
     "output_type": "stream",
     "text": [
      "Enter a no: 4\n",
      "Enter a no: da\n",
      "Please eneter numeric values. Try again\n"
     ]
    }
   ],
   "source": [
    "#type your code here\n",
    "try:\n",
    "    a=int(input(\"Enter a no: \"))\n",
    "    b=int(input(\"Enter a no: \"))\n",
    "    c=a/b\n",
    "    print(c)\n",
    "except ZeroDivisionError:\n",
    "    print(\"Divide by 0 is not possible. Try again\")\n",
    "except ValueError:\n",
    "    print(\"Please eneter numeric values. Try again\")"
   ]
  },
  {
   "cell_type": "markdown",
   "metadata": {},
   "source": [
    "try - except\n",
    "--"
   ]
  },
  {
   "cell_type": "code",
   "execution_count": null,
   "metadata": {
    "scrolled": true
   },
   "outputs": [
    {
     "name": "stdout",
     "output_type": "stream",
     "text": [
      "Enter a no: 32\n",
      "Entered no is:  32\n",
      "Enter a no: 12\n",
      "Entered no is:  12\n",
      "Enter a no: 54\n",
      "Entered no is:  54\n",
      "Enter a no: 758\n",
      "Entered no is:  758\n",
      "Enter a no: a\n",
      "There was no valid no. Please try again\n",
      "Enter a no: 43\n",
      "Entered no is:  43\n"
     ]
    }
   ],
   "source": [
    "while True:\n",
    "    try:\n",
    "        x=int(input(\"Enter a no: \"))\n",
    "        print(\"Entered no is: \",x)\n",
    "        break\n",
    "    except Exception:\n",
    "        print(\"There was no valid no. Please try again\")"
   ]
  },
  {
   "cell_type": "code",
   "execution_count": 4,
   "metadata": {},
   "outputs": [
    {
     "name": "stdout",
     "output_type": "stream",
     "text": [
      "Enter a no: r\n",
      "There was no valid no. Please try again\n",
      "Enter a no: 32\n",
      "Entered no is:  32\n"
     ]
    }
   ],
   "source": [
    "while True:\n",
    "    try:\n",
    "        x=int(input(\"Enter a no: \"))\n",
    "        print(\"Entered no is: \",x)\n",
    "        break\n",
    "    except ValueError:\n",
    "        print(\"There was no valid no. Please try again\")"
   ]
  },
  {
   "cell_type": "markdown",
   "metadata": {},
   "source": [
    "try - except - else\n",
    "--"
   ]
  },
  {
   "cell_type": "code",
   "execution_count": 5,
   "metadata": {},
   "outputs": [
    {
     "name": "stdout",
     "output_type": "stream",
     "text": [
      "Enter a no: da\n",
      "Something is wrong\n"
     ]
    }
   ],
   "source": [
    "try:\n",
    "    a=int(input(\"Enter a no: \"))\n",
    "    b=int(input(\"Enter a no: \"))\n",
    "    c=a/b    \n",
    "except:\n",
    "    print(\"Something is wrong\")\n",
    "else:\n",
    "    print(\"Answer is: \",c)"
   ]
  },
  {
   "cell_type": "code",
   "execution_count": 8,
   "metadata": {},
   "outputs": [
    {
     "name": "stdout",
     "output_type": "stream",
     "text": [
      "Enter a no: fthgc\n",
      "Value is not int type\n"
     ]
    }
   ],
   "source": [
    "try:\n",
    "    x=int(input(\"Enter a no: \"))\n",
    "    ans=100/x\n",
    "except ValueError:\n",
    "    print(\"Value is not int type\")\n",
    "except ZeroDivisionError:\n",
    "    print(\"Dont use a zero.\")\n",
    "else:\n",
    "    print(\"Answer is: \",ans)"
   ]
  },
  {
   "cell_type": "markdown",
   "metadata": {},
   "source": [
    "except with multiple attributes\n",
    "--"
   ]
  },
  {
   "cell_type": "code",
   "execution_count": 13,
   "metadata": {},
   "outputs": [
    {
     "name": "stdout",
     "output_type": "stream",
     "text": [
      "Enter a no: 0\n",
      "Something is wrong\n"
     ]
    }
   ],
   "source": [
    "try:\n",
    "    x=int(input(\"Enter a no: \"))\n",
    "    ans=100/x\n",
    "except (ValueError,ZeroDivisionError):\n",
    "    print(\"Something is wrong\")\n",
    "else:\n",
    "    print(\"Answer is: \",ans)"
   ]
  },
  {
   "cell_type": "markdown",
   "metadata": {},
   "source": [
    "try - finally\n",
    "--"
   ]
  },
  {
   "cell_type": "code",
   "execution_count": 1,
   "metadata": {},
   "outputs": [
    {
     "name": "stdout",
     "output_type": "stream",
     "text": [
      "Enter a no: darshan\n",
      "Something is wrong\n",
      "End of Program\n"
     ]
    }
   ],
   "source": [
    "try:\n",
    "    x=int(input(\"Enter a no: \"))\n",
    "    ans=100/x\n",
    "except (ValueError,ZeroDivisionError):\n",
    "    print(\"Something is wrong\")\n",
    "else:\n",
    "    print(\"Answer is: \",ans)\n",
    "finally:\n",
    "    print(\"End of Program\")"
   ]
  },
  {
   "cell_type": "markdown",
   "metadata": {},
   "source": [
    "finally with multiple except\n",
    "--"
   ]
  },
  {
   "cell_type": "code",
   "execution_count": 17,
   "metadata": {},
   "outputs": [
    {
     "name": "stdout",
     "output_type": "stream",
     "text": [
      "Enter a no: t\n",
      "Value is not int type\n",
      "End of Program\n"
     ]
    }
   ],
   "source": [
    "try:\n",
    "    x=int(input(\"Enter a no: \"))\n",
    "    ans=100/x\n",
    "except ValueError:\n",
    "    print(\"Value is not int type\")\n",
    "except ZeroDivisionError:\n",
    "    print(\"Dont use a zero.\")\n",
    "else:\n",
    "    print(\"Answer is: \",ans)\n",
    "finally:\n",
    "    print(\"End of Program\")"
   ]
  },
  {
   "cell_type": "markdown",
   "metadata": {},
   "source": [
    "raising exceptions\n",
    "--"
   ]
  },
  {
   "cell_type": "code",
   "execution_count": 20,
   "metadata": {},
   "outputs": [
    {
     "name": "stdout",
     "output_type": "stream",
     "text": [
      "Enter a no: 32\n",
      "Value is not 2\n"
     ]
    }
   ],
   "source": [
    "val=int(input(\"Enter a no: \"))\n",
    "try:\n",
    "    if val==2:\n",
    "        raise IOError\n",
    "    else:\n",
    "        print(\"Value is not 2\")\n",
    "except IOError:\n",
    "    print(\"An IO Exception is raised\")"
   ]
  },
  {
   "cell_type": "markdown",
   "metadata": {},
   "source": [
    "exception with arguments\n",
    "--"
   ]
  },
  {
   "cell_type": "code",
   "execution_count": 22,
   "metadata": {},
   "outputs": [
    {
     "name": "stdout",
     "output_type": "stream",
     "text": [
      "Enter a no: w\n",
      "Exception is:  invalid literal for int() with base 10: 'w'\n",
      "\n",
      "Exception type is:  <class 'ValueError'>\n"
     ]
    }
   ],
   "source": [
    "try:\n",
    "    x=int(input(\"Enter a no: \"))\n",
    "    ans=100/x\n",
    "except Exception as e:\n",
    "    print(\"Exception is: \",e)\n",
    "    #type your code here\n"
   ]
  }
 ],
 "metadata": {
  "kernelspec": {
   "display_name": "Python 3",
   "language": "python",
   "name": "python3"
  },
  "language_info": {
   "codemirror_mode": {
    "name": "ipython",
    "version": 3
   },
   "file_extension": ".py",
   "mimetype": "text/x-python",
   "name": "python",
   "nbconvert_exporter": "python",
   "pygments_lexer": "ipython3",
   "version": "3.7.4"
  },
  "toc": {
   "base_numbering": 1,
   "nav_menu": {},
   "number_sections": true,
   "sideBar": true,
   "skip_h1_title": false,
   "title_cell": "Table of Contents",
   "title_sidebar": "Contents",
   "toc_cell": false,
   "toc_position": {},
   "toc_section_display": true,
   "toc_window_display": false
  }
 },
 "nbformat": 4,
 "nbformat_minor": 2
}
