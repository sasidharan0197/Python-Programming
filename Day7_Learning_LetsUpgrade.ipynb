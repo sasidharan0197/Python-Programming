{
 "cells": [
  {
   "cell_type": "code",
   "execution_count": 3,
   "metadata": {},
   "outputs": [
    {
     "name": "stdout",
     "output_type": "stream",
     "text": [
      "<class 'filter'>\n",
      "[3, 5, 6, 9, 8]\n"
     ]
    }
   ],
   "source": [
    "#filter function \n",
    "#Syntax: filter(function, iterables)\n",
    " \n",
    "def sqrt(a):\n",
    "    if a>=3:\n",
    "        return a\n",
    "x=filter(sqrt,[1,2,3,5,6,9,8])\n",
    "print(type(x))\n",
    "print(list(x))"
   ]
  },
  {
   "cell_type": "code",
   "execution_count": 9,
   "metadata": {},
   "outputs": [
    {
     "name": "stdout",
     "output_type": "stream",
     "text": [
      "<class 'filter'>\n",
      "[3, 5, 6, 9]\n"
     ]
    }
   ],
   "source": [
    "#Using lambda within Filter function\n",
    "\n",
    "y=filter(lambda a: a>=3,[1,2,3,5,6,9])\n",
    "print(type(y))\n",
    "print(list(y))\n",
    "#print(tuple(y))"
   ]
  },
  {
   "cell_type": "code",
   "execution_count": 19,
   "metadata": {},
   "outputs": [
    {
     "name": "stdout",
     "output_type": "stream",
     "text": [
      "1620 <class 'int'>\n"
     ]
    }
   ],
   "source": [
    "#Reduce function - reduce all the elements in the lit to a single value\n",
    "import functools\n",
    "from functools import reduce\n",
    "def prd(a,b):\n",
    "    return a*b\n",
    "z= reduce(prd,[2,3,6,9,5])\n",
    "print(z,type(z))"
   ]
  },
  {
   "cell_type": "code",
   "execution_count": 20,
   "metadata": {},
   "outputs": [
    {
     "name": "stdout",
     "output_type": "stream",
     "text": [
      "1620\n"
     ]
    }
   ],
   "source": [
    "#use Reduce with labda\n",
    "f=reduce(lambda d,w:d*w,[2,3,6,9,5])\n",
    "print(f)"
   ]
  },
  {
   "cell_type": "code",
   "execution_count": 27,
   "metadata": {},
   "outputs": [
    {
     "name": "stdout",
     "output_type": "stream",
     "text": [
      "[12, 18, 10, 56]\n",
      "[False, False, True, True, True, True, True]\n",
      "[7, 8, 9]\n",
      "24\n"
     ]
    }
   ],
   "source": [
    "#Filter within map - always execute the inner loop first followed by outer loop\n",
    "#Combination of filer,lambda and map\n",
    "x=map(lambda y:y+y, filter(lambda x: x>=3,[2,6,9,5,1,28]))\n",
    "print(list(x))\n",
    "\n",
    "y = map(lambda y:y>=3, filter(lambda y: y+2,[1,2,3,5,6,9,7]))\n",
    "print(list(y))\n",
    "\n",
    "z= filter(lambda z:z>6, map(lambda z: z+3,[2,3,4,5,6]))\n",
    "print(list(z))\n",
    "\n",
    "#Combination of all functions (map,lambda,filter and reduce)\n",
    "t= reduce(lambda x,y:x+y, map(lambda x:x+x, filter(lambda x: x>=3,[1,2,3,4,5])))\n",
    "print(t)"
   ]
  },
  {
   "cell_type": "markdown",
   "metadata": {},
   "source": [
    "# OOP Concept"
   ]
  },
  {
   "cell_type": "code",
   "execution_count": 17,
   "metadata": {},
   "outputs": [
    {
     "name": "stdout",
     "output_type": "stream",
     "text": [
      "Hello I am from Kancheepuram\n",
      "Hello I am from Kancheepuram\n"
     ]
    }
   ],
   "source": [
    "#simple class demonstration\n",
    "\n",
    "class sasidharan:\n",
    "    def show(self):\n",
    "        print(\"Hello I am from Kancheepuram\")\n",
    "    \n",
    "    \n",
    "S1 = sasidharan()\n",
    "S1.show()\n",
    "S2 = sasidharan()\n",
    "S2.show()"
   ]
  },
  {
   "cell_type": "code",
   "execution_count": 22,
   "metadata": {},
   "outputs": [
    {
     "name": "stdout",
     "output_type": "stream",
     "text": [
      "Hello I am from Kancheepuram\n",
      "10\n"
     ]
    },
    {
     "ename": "AttributeError",
     "evalue": "'printing' object has no attribute '__h'",
     "output_type": "error",
     "traceback": [
      "\u001b[1;31m---------------------------------------------------------------------------\u001b[0m",
      "\u001b[1;31mAttributeError\u001b[0m                            Traceback (most recent call last)",
      "\u001b[1;32m<ipython-input-22-6b27aa7be6ea>\u001b[0m in \u001b[0;36m<module>\u001b[1;34m\u001b[0m\n\u001b[0;32m      9\u001b[0m \u001b[0mSD\u001b[0m\u001b[1;33m.\u001b[0m\u001b[0mshows\u001b[0m\u001b[1;33m(\u001b[0m\u001b[1;33m)\u001b[0m\u001b[1;33m\u001b[0m\u001b[1;33m\u001b[0m\u001b[0m\n\u001b[0;32m     10\u001b[0m \u001b[0mprint\u001b[0m\u001b[1;33m(\u001b[0m\u001b[0mSD\u001b[0m\u001b[1;33m.\u001b[0m\u001b[0my\u001b[0m\u001b[1;33m)\u001b[0m\u001b[1;33m\u001b[0m\u001b[1;33m\u001b[0m\u001b[0m\n\u001b[1;32m---> 11\u001b[1;33m \u001b[0mprint\u001b[0m\u001b[1;33m(\u001b[0m\u001b[0mSD\u001b[0m\u001b[1;33m.\u001b[0m\u001b[0m__h\u001b[0m\u001b[1;33m)\u001b[0m\u001b[1;33m\u001b[0m\u001b[1;33m\u001b[0m\u001b[0m\n\u001b[0m",
      "\u001b[1;31mAttributeError\u001b[0m: 'printing' object has no attribute '__h'"
     ]
    }
   ],
   "source": [
    "#Program to create a private variable\n",
    "\n",
    "class printing:\n",
    "    __h = 4 #Private variable  __ (two underscore defines the private variable in python)\n",
    "    y=10\n",
    "    def shows(seif):\n",
    "        print(\"Hello I am from Kancheepuram\")\n",
    "SD = printing()\n",
    "SD.shows()\n",
    "print(SD.y)\n",
    "#print(SD.__h)         #Shows error as Attribute error because it is private vaiable"
   ]
  }
 ],
 "metadata": {
  "kernelspec": {
   "display_name": "Python 3",
   "language": "python",
   "name": "python3"
  },
  "language_info": {
   "codemirror_mode": {
    "name": "ipython",
    "version": 3
   },
   "file_extension": ".py",
   "mimetype": "text/x-python",
   "name": "python",
   "nbconvert_exporter": "python",
   "pygments_lexer": "ipython3",
   "version": "3.7.6"
  }
 },
 "nbformat": 4,
 "nbformat_minor": 4
}
